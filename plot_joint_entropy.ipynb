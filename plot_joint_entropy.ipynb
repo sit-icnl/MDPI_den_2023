{
 "cells": [
  {
   "cell_type": "code",
   "execution_count": 1,
   "metadata": {},
   "outputs": [],
   "source": [
    "import pandas as pd\n",
    "import numpy as np\n",
    "import plotly.express as px\n",
    "from sklearn.metrics import classification_report, confusion_matrix\n",
    "pd.options.mode.chained_assignment = None  # default='warn'"
   ]
  },
  {
   "cell_type": "markdown",
   "metadata": {},
   "source": [
    "### 读取数据"
   ]
  },
  {
   "cell_type": "code",
   "execution_count": 2,
   "metadata": {},
   "outputs": [],
   "source": [
    "# 指定文件路径\n",
    "# file_path = './data/portv3.csv'\n",
    "# file_path = './data/new_portv3_p75.csv'\n",
    "file_path = './data/new_portv3_p50.csv'"
   ]
  },
  {
   "cell_type": "code",
   "execution_count": 3,
   "metadata": {},
   "outputs": [
    {
     "data": {
      "text/html": [
       "<div>\n",
       "<style scoped>\n",
       "    .dataframe tbody tr th:only-of-type {\n",
       "        vertical-align: middle;\n",
       "    }\n",
       "\n",
       "    .dataframe tbody tr th {\n",
       "        vertical-align: top;\n",
       "    }\n",
       "\n",
       "    .dataframe thead th {\n",
       "        text-align: right;\n",
       "    }\n",
       "</style>\n",
       "<table border=\"1\" class=\"dataframe\">\n",
       "  <thead>\n",
       "    <tr style=\"text-align: right;\">\n",
       "      <th></th>\n",
       "      <th>Time</th>\n",
       "      <th>Destination</th>\n",
       "      <th>Length</th>\n",
       "      <th>Source Port</th>\n",
       "      <th>Second</th>\n",
       "    </tr>\n",
       "  </thead>\n",
       "  <tbody>\n",
       "    <tr>\n",
       "      <th>0</th>\n",
       "      <td>0.000000</td>\n",
       "      <td>10.0.0.6</td>\n",
       "      <td>230</td>\n",
       "      <td>27361.0</td>\n",
       "      <td>1</td>\n",
       "    </tr>\n",
       "    <tr>\n",
       "      <th>1</th>\n",
       "      <td>0.771891</td>\n",
       "      <td>10.0.0.11</td>\n",
       "      <td>306</td>\n",
       "      <td>0.0</td>\n",
       "      <td>1</td>\n",
       "    </tr>\n",
       "    <tr>\n",
       "      <th>2</th>\n",
       "      <td>0.771884</td>\n",
       "      <td>10.0.0.11</td>\n",
       "      <td>306</td>\n",
       "      <td>0.0</td>\n",
       "      <td>1</td>\n",
       "    </tr>\n",
       "    <tr>\n",
       "      <th>3</th>\n",
       "      <td>0.770577</td>\n",
       "      <td>10.0.0.5</td>\n",
       "      <td>244</td>\n",
       "      <td>19225.0</td>\n",
       "      <td>1</td>\n",
       "    </tr>\n",
       "    <tr>\n",
       "      <th>4</th>\n",
       "      <td>0.770571</td>\n",
       "      <td>10.0.0.5</td>\n",
       "      <td>244</td>\n",
       "      <td>19225.0</td>\n",
       "      <td>1</td>\n",
       "    </tr>\n",
       "    <tr>\n",
       "      <th>...</th>\n",
       "      <td>...</td>\n",
       "      <td>...</td>\n",
       "      <td>...</td>\n",
       "      <td>...</td>\n",
       "      <td>...</td>\n",
       "    </tr>\n",
       "    <tr>\n",
       "      <th>48613</th>\n",
       "      <td>96.960024</td>\n",
       "      <td>10.0.0.4</td>\n",
       "      <td>253</td>\n",
       "      <td>22208.0</td>\n",
       "      <td>150</td>\n",
       "    </tr>\n",
       "    <tr>\n",
       "      <th>48614</th>\n",
       "      <td>96.960031</td>\n",
       "      <td>10.0.0.7</td>\n",
       "      <td>253</td>\n",
       "      <td>0.0</td>\n",
       "      <td>150</td>\n",
       "    </tr>\n",
       "    <tr>\n",
       "      <th>48615</th>\n",
       "      <td>96.960039</td>\n",
       "      <td>10.0.0.7</td>\n",
       "      <td>253</td>\n",
       "      <td>0.0</td>\n",
       "      <td>150</td>\n",
       "    </tr>\n",
       "    <tr>\n",
       "      <th>48616</th>\n",
       "      <td>96.896038</td>\n",
       "      <td>10.0.0.9</td>\n",
       "      <td>262</td>\n",
       "      <td>12277.0</td>\n",
       "      <td>150</td>\n",
       "    </tr>\n",
       "    <tr>\n",
       "      <th>48617</th>\n",
       "      <td>96.639970</td>\n",
       "      <td>10.0.0.9</td>\n",
       "      <td>272</td>\n",
       "      <td>18147.0</td>\n",
       "      <td>150</td>\n",
       "    </tr>\n",
       "  </tbody>\n",
       "</table>\n",
       "<p>48618 rows × 5 columns</p>\n",
       "</div>"
      ],
      "text/plain": [
       "            Time Destination  Length  Source Port  Second\n",
       "0       0.000000    10.0.0.6     230      27361.0       1\n",
       "1       0.771891   10.0.0.11     306          0.0       1\n",
       "2       0.771884   10.0.0.11     306          0.0       1\n",
       "3       0.770577    10.0.0.5     244      19225.0       1\n",
       "4       0.770571    10.0.0.5     244      19225.0       1\n",
       "...          ...         ...     ...          ...     ...\n",
       "48613  96.960024    10.0.0.4     253      22208.0     150\n",
       "48614  96.960031    10.0.0.7     253          0.0     150\n",
       "48615  96.960039    10.0.0.7     253          0.0     150\n",
       "48616  96.896038    10.0.0.9     262      12277.0     150\n",
       "48617  96.639970    10.0.0.9     272      18147.0     150\n",
       "\n",
       "[48618 rows x 5 columns]"
      ]
     },
     "execution_count": 3,
     "metadata": {},
     "output_type": "execute_result"
    }
   ],
   "source": [
    "# read csv file\n",
    "# 从csv文件中读取csv数据\n",
    "data_raw = pd.read_csv(file_path)\n",
    "data_raw"
   ]
  },
  {
   "cell_type": "markdown",
   "metadata": {},
   "source": [
    "### 整理数据"
   ]
  },
  {
   "cell_type": "code",
   "execution_count": 4,
   "metadata": {
    "scrolled": false
   },
   "outputs": [
    {
     "data": {
      "text/html": [
       "<div>\n",
       "<style scoped>\n",
       "    .dataframe tbody tr th:only-of-type {\n",
       "        vertical-align: middle;\n",
       "    }\n",
       "\n",
       "    .dataframe tbody tr th {\n",
       "        vertical-align: top;\n",
       "    }\n",
       "\n",
       "    .dataframe thead th {\n",
       "        text-align: right;\n",
       "    }\n",
       "</style>\n",
       "<table border=\"1\" class=\"dataframe\">\n",
       "  <thead>\n",
       "    <tr style=\"text-align: right;\">\n",
       "      <th></th>\n",
       "      <th>Time</th>\n",
       "      <th>Destination</th>\n",
       "      <th>Length</th>\n",
       "      <th>Source Port</th>\n",
       "      <th>Second</th>\n",
       "    </tr>\n",
       "  </thead>\n",
       "  <tbody>\n",
       "    <tr>\n",
       "      <th>0</th>\n",
       "      <td>0.000000</td>\n",
       "      <td>10.0.0.6</td>\n",
       "      <td>230</td>\n",
       "      <td>27361.0</td>\n",
       "      <td>1</td>\n",
       "    </tr>\n",
       "    <tr>\n",
       "      <th>1</th>\n",
       "      <td>0.771891</td>\n",
       "      <td>10.0.0.11</td>\n",
       "      <td>306</td>\n",
       "      <td>0.0</td>\n",
       "      <td>1</td>\n",
       "    </tr>\n",
       "    <tr>\n",
       "      <th>2</th>\n",
       "      <td>0.771884</td>\n",
       "      <td>10.0.0.11</td>\n",
       "      <td>306</td>\n",
       "      <td>0.0</td>\n",
       "      <td>1</td>\n",
       "    </tr>\n",
       "    <tr>\n",
       "      <th>3</th>\n",
       "      <td>0.770577</td>\n",
       "      <td>10.0.0.5</td>\n",
       "      <td>244</td>\n",
       "      <td>19225.0</td>\n",
       "      <td>1</td>\n",
       "    </tr>\n",
       "    <tr>\n",
       "      <th>4</th>\n",
       "      <td>0.770571</td>\n",
       "      <td>10.0.0.5</td>\n",
       "      <td>244</td>\n",
       "      <td>19225.0</td>\n",
       "      <td>1</td>\n",
       "    </tr>\n",
       "    <tr>\n",
       "      <th>...</th>\n",
       "      <td>...</td>\n",
       "      <td>...</td>\n",
       "      <td>...</td>\n",
       "      <td>...</td>\n",
       "      <td>...</td>\n",
       "    </tr>\n",
       "    <tr>\n",
       "      <th>48613</th>\n",
       "      <td>96.960024</td>\n",
       "      <td>10.0.0.4</td>\n",
       "      <td>253</td>\n",
       "      <td>22208.0</td>\n",
       "      <td>150</td>\n",
       "    </tr>\n",
       "    <tr>\n",
       "      <th>48614</th>\n",
       "      <td>96.960031</td>\n",
       "      <td>10.0.0.7</td>\n",
       "      <td>253</td>\n",
       "      <td>0.0</td>\n",
       "      <td>150</td>\n",
       "    </tr>\n",
       "    <tr>\n",
       "      <th>48615</th>\n",
       "      <td>96.960039</td>\n",
       "      <td>10.0.0.7</td>\n",
       "      <td>253</td>\n",
       "      <td>0.0</td>\n",
       "      <td>150</td>\n",
       "    </tr>\n",
       "    <tr>\n",
       "      <th>48616</th>\n",
       "      <td>96.896038</td>\n",
       "      <td>10.0.0.9</td>\n",
       "      <td>262</td>\n",
       "      <td>12277.0</td>\n",
       "      <td>150</td>\n",
       "    </tr>\n",
       "    <tr>\n",
       "      <th>48617</th>\n",
       "      <td>96.639970</td>\n",
       "      <td>10.0.0.9</td>\n",
       "      <td>272</td>\n",
       "      <td>18147.0</td>\n",
       "      <td>150</td>\n",
       "    </tr>\n",
       "  </tbody>\n",
       "</table>\n",
       "<p>48618 rows × 5 columns</p>\n",
       "</div>"
      ],
      "text/plain": [
       "            Time Destination  Length  Source Port  Second\n",
       "0       0.000000    10.0.0.6     230      27361.0       1\n",
       "1       0.771891   10.0.0.11     306          0.0       1\n",
       "2       0.771884   10.0.0.11     306          0.0       1\n",
       "3       0.770577    10.0.0.5     244      19225.0       1\n",
       "4       0.770571    10.0.0.5     244      19225.0       1\n",
       "...          ...         ...     ...          ...     ...\n",
       "48613  96.960024    10.0.0.4     253      22208.0     150\n",
       "48614  96.960031    10.0.0.7     253          0.0     150\n",
       "48615  96.960039    10.0.0.7     253          0.0     150\n",
       "48616  96.896038    10.0.0.9     262      12277.0     150\n",
       "48617  96.639970    10.0.0.9     272      18147.0     150\n",
       "\n",
       "[48618 rows x 5 columns]"
      ]
     },
     "execution_count": 4,
     "metadata": {},
     "output_type": "execute_result"
    }
   ],
   "source": [
    "# drop unnecessary columns\n",
    "# 忽略不用的列\n",
    "data = data_raw.copy()\n",
    "\n",
    "if ['No.', 'Protocol', 'info', 'Source', 'Destination Port'] in list(data.columns):\n",
    "    data = data.drop(['No.', 'Protocol', 'info', 'Source', 'Destination Port'], axis=1)\n",
    "    \n",
    "data['Source Port'] = data['Source Port'].fillna(0)\n",
    "data"
   ]
  },
  {
   "cell_type": "code",
   "execution_count": 5,
   "metadata": {},
   "outputs": [
    {
     "data": {
      "text/html": [
       "<div>\n",
       "<style scoped>\n",
       "    .dataframe tbody tr th:only-of-type {\n",
       "        vertical-align: middle;\n",
       "    }\n",
       "\n",
       "    .dataframe tbody tr th {\n",
       "        vertical-align: top;\n",
       "    }\n",
       "\n",
       "    .dataframe thead th {\n",
       "        text-align: right;\n",
       "    }\n",
       "</style>\n",
       "<table border=\"1\" class=\"dataframe\">\n",
       "  <thead>\n",
       "    <tr style=\"text-align: right;\">\n",
       "      <th></th>\n",
       "      <th>Time</th>\n",
       "      <th>Destination</th>\n",
       "      <th>Length</th>\n",
       "      <th>Source Port</th>\n",
       "      <th>Second</th>\n",
       "    </tr>\n",
       "  </thead>\n",
       "  <tbody>\n",
       "    <tr>\n",
       "      <th>0</th>\n",
       "      <td>0.000000</td>\n",
       "      <td>10.0.0.6</td>\n",
       "      <td>230</td>\n",
       "      <td>27361.0</td>\n",
       "      <td>1</td>\n",
       "    </tr>\n",
       "    <tr>\n",
       "      <th>1</th>\n",
       "      <td>0.771891</td>\n",
       "      <td>10.0.0.11</td>\n",
       "      <td>306</td>\n",
       "      <td>0.0</td>\n",
       "      <td>1</td>\n",
       "    </tr>\n",
       "    <tr>\n",
       "      <th>2</th>\n",
       "      <td>0.771884</td>\n",
       "      <td>10.0.0.11</td>\n",
       "      <td>306</td>\n",
       "      <td>0.0</td>\n",
       "      <td>1</td>\n",
       "    </tr>\n",
       "    <tr>\n",
       "      <th>3</th>\n",
       "      <td>0.770577</td>\n",
       "      <td>10.0.0.5</td>\n",
       "      <td>244</td>\n",
       "      <td>19225.0</td>\n",
       "      <td>1</td>\n",
       "    </tr>\n",
       "    <tr>\n",
       "      <th>4</th>\n",
       "      <td>0.770571</td>\n",
       "      <td>10.0.0.5</td>\n",
       "      <td>244</td>\n",
       "      <td>19225.0</td>\n",
       "      <td>1</td>\n",
       "    </tr>\n",
       "    <tr>\n",
       "      <th>...</th>\n",
       "      <td>...</td>\n",
       "      <td>...</td>\n",
       "      <td>...</td>\n",
       "      <td>...</td>\n",
       "      <td>...</td>\n",
       "    </tr>\n",
       "    <tr>\n",
       "      <th>48613</th>\n",
       "      <td>96.960024</td>\n",
       "      <td>10.0.0.4</td>\n",
       "      <td>253</td>\n",
       "      <td>22208.0</td>\n",
       "      <td>150</td>\n",
       "    </tr>\n",
       "    <tr>\n",
       "      <th>48614</th>\n",
       "      <td>96.960031</td>\n",
       "      <td>10.0.0.7</td>\n",
       "      <td>253</td>\n",
       "      <td>0.0</td>\n",
       "      <td>150</td>\n",
       "    </tr>\n",
       "    <tr>\n",
       "      <th>48615</th>\n",
       "      <td>96.960039</td>\n",
       "      <td>10.0.0.7</td>\n",
       "      <td>253</td>\n",
       "      <td>0.0</td>\n",
       "      <td>150</td>\n",
       "    </tr>\n",
       "    <tr>\n",
       "      <th>48616</th>\n",
       "      <td>96.896038</td>\n",
       "      <td>10.0.0.9</td>\n",
       "      <td>262</td>\n",
       "      <td>12277.0</td>\n",
       "      <td>150</td>\n",
       "    </tr>\n",
       "    <tr>\n",
       "      <th>48617</th>\n",
       "      <td>96.639970</td>\n",
       "      <td>10.0.0.9</td>\n",
       "      <td>272</td>\n",
       "      <td>18147.0</td>\n",
       "      <td>150</td>\n",
       "    </tr>\n",
       "  </tbody>\n",
       "</table>\n",
       "<p>48618 rows × 5 columns</p>\n",
       "</div>"
      ],
      "text/plain": [
       "            Time Destination  Length  Source Port  Second\n",
       "0       0.000000    10.0.0.6     230      27361.0       1\n",
       "1       0.771891   10.0.0.11     306          0.0       1\n",
       "2       0.771884   10.0.0.11     306          0.0       1\n",
       "3       0.770577    10.0.0.5     244      19225.0       1\n",
       "4       0.770571    10.0.0.5     244      19225.0       1\n",
       "...          ...         ...     ...          ...     ...\n",
       "48613  96.960024    10.0.0.4     253      22208.0     150\n",
       "48614  96.960031    10.0.0.7     253          0.0     150\n",
       "48615  96.960039    10.0.0.7     253          0.0     150\n",
       "48616  96.896038    10.0.0.9     262      12277.0     150\n",
       "48617  96.639970    10.0.0.9     272      18147.0     150\n",
       "\n",
       "[48618 rows x 5 columns]"
      ]
     },
     "execution_count": 5,
     "metadata": {},
     "output_type": "execute_result"
    }
   ],
   "source": [
    "# ignore negative time\n",
    "# 忽略负数时间，保留time >= 0s的数据\n",
    "# '~'表示取反，即不取'Time'小于0的数据\n",
    "data = data[~(data['Time'] < 0)]\n",
    "data"
   ]
  },
  {
   "cell_type": "code",
   "execution_count": 6,
   "metadata": {},
   "outputs": [
    {
     "data": {
      "text/plain": [
       "150"
      ]
     },
     "execution_count": 6,
     "metadata": {},
     "output_type": "execute_result"
    }
   ],
   "source": [
    "# 拿到整个数据中最大的秒数并向上取整\n",
    "# get the largest time from the data, e.g. 75.370354\n",
    "max_time = np.max(data['Time'])\n",
    "# round up the number, e.g. 76\n",
    "max_time = int(np.ceil(max_time))\n",
    "max_time"
   ]
  },
  {
   "cell_type": "code",
   "execution_count": 7,
   "metadata": {},
   "outputs": [
    {
     "data": {
      "text/html": [
       "<div>\n",
       "<style scoped>\n",
       "    .dataframe tbody tr th:only-of-type {\n",
       "        vertical-align: middle;\n",
       "    }\n",
       "\n",
       "    .dataframe tbody tr th {\n",
       "        vertical-align: top;\n",
       "    }\n",
       "\n",
       "    .dataframe thead th {\n",
       "        text-align: right;\n",
       "    }\n",
       "</style>\n",
       "<table border=\"1\" class=\"dataframe\">\n",
       "  <thead>\n",
       "    <tr style=\"text-align: right;\">\n",
       "      <th></th>\n",
       "      <th>Time</th>\n",
       "      <th>Destination</th>\n",
       "      <th>Length</th>\n",
       "      <th>Source Port</th>\n",
       "      <th>Second</th>\n",
       "    </tr>\n",
       "  </thead>\n",
       "  <tbody>\n",
       "    <tr>\n",
       "      <th>0</th>\n",
       "      <td>0.000000</td>\n",
       "      <td>10.0.0.6</td>\n",
       "      <td>230</td>\n",
       "      <td>27361.0</td>\n",
       "      <td>1</td>\n",
       "    </tr>\n",
       "    <tr>\n",
       "      <th>1</th>\n",
       "      <td>0.771891</td>\n",
       "      <td>10.0.0.11</td>\n",
       "      <td>306</td>\n",
       "      <td>0.0</td>\n",
       "      <td>1</td>\n",
       "    </tr>\n",
       "    <tr>\n",
       "      <th>2</th>\n",
       "      <td>0.771884</td>\n",
       "      <td>10.0.0.11</td>\n",
       "      <td>306</td>\n",
       "      <td>0.0</td>\n",
       "      <td>1</td>\n",
       "    </tr>\n",
       "    <tr>\n",
       "      <th>3</th>\n",
       "      <td>0.770577</td>\n",
       "      <td>10.0.0.5</td>\n",
       "      <td>244</td>\n",
       "      <td>19225.0</td>\n",
       "      <td>1</td>\n",
       "    </tr>\n",
       "    <tr>\n",
       "      <th>4</th>\n",
       "      <td>0.770571</td>\n",
       "      <td>10.0.0.5</td>\n",
       "      <td>244</td>\n",
       "      <td>19225.0</td>\n",
       "      <td>1</td>\n",
       "    </tr>\n",
       "    <tr>\n",
       "      <th>...</th>\n",
       "      <td>...</td>\n",
       "      <td>...</td>\n",
       "      <td>...</td>\n",
       "      <td>...</td>\n",
       "      <td>...</td>\n",
       "    </tr>\n",
       "    <tr>\n",
       "      <th>48613</th>\n",
       "      <td>96.960024</td>\n",
       "      <td>10.0.0.4</td>\n",
       "      <td>253</td>\n",
       "      <td>22208.0</td>\n",
       "      <td>97</td>\n",
       "    </tr>\n",
       "    <tr>\n",
       "      <th>48614</th>\n",
       "      <td>96.960031</td>\n",
       "      <td>10.0.0.7</td>\n",
       "      <td>253</td>\n",
       "      <td>0.0</td>\n",
       "      <td>97</td>\n",
       "    </tr>\n",
       "    <tr>\n",
       "      <th>48615</th>\n",
       "      <td>96.960039</td>\n",
       "      <td>10.0.0.7</td>\n",
       "      <td>253</td>\n",
       "      <td>0.0</td>\n",
       "      <td>97</td>\n",
       "    </tr>\n",
       "    <tr>\n",
       "      <th>48616</th>\n",
       "      <td>96.896038</td>\n",
       "      <td>10.0.0.9</td>\n",
       "      <td>262</td>\n",
       "      <td>12277.0</td>\n",
       "      <td>97</td>\n",
       "    </tr>\n",
       "    <tr>\n",
       "      <th>48617</th>\n",
       "      <td>96.639970</td>\n",
       "      <td>10.0.0.9</td>\n",
       "      <td>272</td>\n",
       "      <td>18147.0</td>\n",
       "      <td>97</td>\n",
       "    </tr>\n",
       "  </tbody>\n",
       "</table>\n",
       "<p>48618 rows × 5 columns</p>\n",
       "</div>"
      ],
      "text/plain": [
       "            Time Destination  Length  Source Port Second\n",
       "0       0.000000    10.0.0.6     230      27361.0      1\n",
       "1       0.771891   10.0.0.11     306          0.0      1\n",
       "2       0.771884   10.0.0.11     306          0.0      1\n",
       "3       0.770577    10.0.0.5     244      19225.0      1\n",
       "4       0.770571    10.0.0.5     244      19225.0      1\n",
       "...          ...         ...     ...          ...    ...\n",
       "48613  96.960024    10.0.0.4     253      22208.0     97\n",
       "48614  96.960031    10.0.0.7     253          0.0     97\n",
       "48615  96.960039    10.0.0.7     253          0.0     97\n",
       "48616  96.896038    10.0.0.9     262      12277.0     97\n",
       "48617  96.639970    10.0.0.9     272      18147.0     97\n",
       "\n",
       "[48618 rows x 5 columns]"
      ]
     },
     "execution_count": 7,
     "metadata": {},
     "output_type": "execute_result"
    }
   ],
   "source": [
    "# 按每秒切分数据为一组\n",
    "time_range = pd.cut(data['Time'],                       # 指定是time这一列\n",
    "                    np.arange(0, max_time+1, 1),        # 指定划分的区间，e.g. [0,76]这个区间，以1s为间隔划分\n",
    "                    right=False,                        # 每个区间不包含右边, e.g. [0,1)\n",
    "                    labels=np.arange(1, max_time+1, 1)  # 指定每个区间的标签，这里即使第几秒, e.g. [0,1) -> 1s\n",
    "                   )\n",
    "# 将每一行数据划分到这个区间\n",
    "data['Second'] = time_range\n",
    "data"
   ]
  },
  {
   "cell_type": "markdown",
   "metadata": {},
   "source": [
    "#### 注意！使用完pd.cut之后，Second这一列的data type已经变为Category了，需要转化为int否则后面groupby会出错"
   ]
  },
  {
   "cell_type": "code",
   "execution_count": 8,
   "metadata": {},
   "outputs": [
    {
     "data": {
      "text/plain": [
       "Time            float64\n",
       "Destination      object\n",
       "Length            int64\n",
       "Source Port     float64\n",
       "Second         category\n",
       "dtype: object"
      ]
     },
     "execution_count": 8,
     "metadata": {},
     "output_type": "execute_result"
    }
   ],
   "source": [
    "data.dtypes"
   ]
  },
  {
   "cell_type": "code",
   "execution_count": 9,
   "metadata": {},
   "outputs": [
    {
     "data": {
      "text/html": [
       "<div>\n",
       "<style scoped>\n",
       "    .dataframe tbody tr th:only-of-type {\n",
       "        vertical-align: middle;\n",
       "    }\n",
       "\n",
       "    .dataframe tbody tr th {\n",
       "        vertical-align: top;\n",
       "    }\n",
       "\n",
       "    .dataframe thead th {\n",
       "        text-align: right;\n",
       "    }\n",
       "</style>\n",
       "<table border=\"1\" class=\"dataframe\">\n",
       "  <thead>\n",
       "    <tr style=\"text-align: right;\">\n",
       "      <th></th>\n",
       "      <th>Time</th>\n",
       "      <th>Destination</th>\n",
       "      <th>Length</th>\n",
       "      <th>Source Port</th>\n",
       "      <th>Second</th>\n",
       "    </tr>\n",
       "  </thead>\n",
       "  <tbody>\n",
       "    <tr>\n",
       "      <th>0</th>\n",
       "      <td>0.000000</td>\n",
       "      <td>10.0.0.6</td>\n",
       "      <td>230</td>\n",
       "      <td>27361.0</td>\n",
       "      <td>1</td>\n",
       "    </tr>\n",
       "    <tr>\n",
       "      <th>1</th>\n",
       "      <td>0.771891</td>\n",
       "      <td>10.0.0.11</td>\n",
       "      <td>306</td>\n",
       "      <td>0.0</td>\n",
       "      <td>1</td>\n",
       "    </tr>\n",
       "    <tr>\n",
       "      <th>2</th>\n",
       "      <td>0.771884</td>\n",
       "      <td>10.0.0.11</td>\n",
       "      <td>306</td>\n",
       "      <td>0.0</td>\n",
       "      <td>1</td>\n",
       "    </tr>\n",
       "    <tr>\n",
       "      <th>3</th>\n",
       "      <td>0.770577</td>\n",
       "      <td>10.0.0.5</td>\n",
       "      <td>244</td>\n",
       "      <td>19225.0</td>\n",
       "      <td>1</td>\n",
       "    </tr>\n",
       "    <tr>\n",
       "      <th>4</th>\n",
       "      <td>0.770571</td>\n",
       "      <td>10.0.0.5</td>\n",
       "      <td>244</td>\n",
       "      <td>19225.0</td>\n",
       "      <td>1</td>\n",
       "    </tr>\n",
       "    <tr>\n",
       "      <th>...</th>\n",
       "      <td>...</td>\n",
       "      <td>...</td>\n",
       "      <td>...</td>\n",
       "      <td>...</td>\n",
       "      <td>...</td>\n",
       "    </tr>\n",
       "    <tr>\n",
       "      <th>48613</th>\n",
       "      <td>96.960024</td>\n",
       "      <td>10.0.0.4</td>\n",
       "      <td>253</td>\n",
       "      <td>22208.0</td>\n",
       "      <td>97</td>\n",
       "    </tr>\n",
       "    <tr>\n",
       "      <th>48614</th>\n",
       "      <td>96.960031</td>\n",
       "      <td>10.0.0.7</td>\n",
       "      <td>253</td>\n",
       "      <td>0.0</td>\n",
       "      <td>97</td>\n",
       "    </tr>\n",
       "    <tr>\n",
       "      <th>48615</th>\n",
       "      <td>96.960039</td>\n",
       "      <td>10.0.0.7</td>\n",
       "      <td>253</td>\n",
       "      <td>0.0</td>\n",
       "      <td>97</td>\n",
       "    </tr>\n",
       "    <tr>\n",
       "      <th>48616</th>\n",
       "      <td>96.896038</td>\n",
       "      <td>10.0.0.9</td>\n",
       "      <td>262</td>\n",
       "      <td>12277.0</td>\n",
       "      <td>97</td>\n",
       "    </tr>\n",
       "    <tr>\n",
       "      <th>48617</th>\n",
       "      <td>96.639970</td>\n",
       "      <td>10.0.0.9</td>\n",
       "      <td>272</td>\n",
       "      <td>18147.0</td>\n",
       "      <td>97</td>\n",
       "    </tr>\n",
       "  </tbody>\n",
       "</table>\n",
       "<p>48618 rows × 5 columns</p>\n",
       "</div>"
      ],
      "text/plain": [
       "            Time Destination  Length  Source Port  Second\n",
       "0       0.000000    10.0.0.6     230      27361.0       1\n",
       "1       0.771891   10.0.0.11     306          0.0       1\n",
       "2       0.771884   10.0.0.11     306          0.0       1\n",
       "3       0.770577    10.0.0.5     244      19225.0       1\n",
       "4       0.770571    10.0.0.5     244      19225.0       1\n",
       "...          ...         ...     ...          ...     ...\n",
       "48613  96.960024    10.0.0.4     253      22208.0      97\n",
       "48614  96.960031    10.0.0.7     253          0.0      97\n",
       "48615  96.960039    10.0.0.7     253          0.0      97\n",
       "48616  96.896038    10.0.0.9     262      12277.0      97\n",
       "48617  96.639970    10.0.0.9     272      18147.0      97\n",
       "\n",
       "[48618 rows x 5 columns]"
      ]
     },
     "execution_count": 9,
     "metadata": {},
     "output_type": "execute_result"
    }
   ],
   "source": [
    "data['Second'] = data.Second.cat.codes + 1\n",
    "data"
   ]
  },
  {
   "cell_type": "code",
   "execution_count": 10,
   "metadata": {},
   "outputs": [
    {
     "data": {
      "text/plain": [
       "Time           float64\n",
       "Destination     object\n",
       "Length           int64\n",
       "Source Port    float64\n",
       "Second           int16\n",
       "dtype: object"
      ]
     },
     "execution_count": 10,
     "metadata": {},
     "output_type": "execute_result"
    }
   ],
   "source": [
    "data.dtypes"
   ]
  },
  {
   "cell_type": "code",
   "execution_count": 11,
   "metadata": {
    "scrolled": false
   },
   "outputs": [],
   "source": [
    "# # 指定每秒取前多少个packet\n",
    "# # 如果实际每秒没有这么多packet，这里不会报错的\n",
    "# top_n = 100\n",
    "\n",
    "# # 每个区间(即每秒)取前top_n个packet\n",
    "# # 因此原本整个数据有27779行，现在只剩3796行\n",
    "# data = data.groupby('Second').head(top_n).reset_index(drop=True)\n",
    "# data"
   ]
  },
  {
   "cell_type": "code",
   "execution_count": 12,
   "metadata": {},
   "outputs": [
    {
     "data": {
      "text/html": [
       "<div>\n",
       "<style scoped>\n",
       "    .dataframe tbody tr th:only-of-type {\n",
       "        vertical-align: middle;\n",
       "    }\n",
       "\n",
       "    .dataframe tbody tr th {\n",
       "        vertical-align: top;\n",
       "    }\n",
       "\n",
       "    .dataframe thead th {\n",
       "        text-align: right;\n",
       "    }\n",
       "</style>\n",
       "<table border=\"1\" class=\"dataframe\">\n",
       "  <thead>\n",
       "    <tr style=\"text-align: right;\">\n",
       "      <th></th>\n",
       "      <th>Time</th>\n",
       "      <th>Destination</th>\n",
       "      <th>Length</th>\n",
       "      <th>Source Port</th>\n",
       "      <th>Second</th>\n",
       "    </tr>\n",
       "  </thead>\n",
       "  <tbody>\n",
       "    <tr>\n",
       "      <th>0</th>\n",
       "      <td>0.511674</td>\n",
       "      <td>10.0.0.7</td>\n",
       "      <td>251</td>\n",
       "      <td>26737.0</td>\n",
       "      <td>1</td>\n",
       "    </tr>\n",
       "    <tr>\n",
       "      <th>1</th>\n",
       "      <td>0.720004</td>\n",
       "      <td>10.0.0.5</td>\n",
       "      <td>256</td>\n",
       "      <td>19385.0</td>\n",
       "      <td>1</td>\n",
       "    </tr>\n",
       "    <tr>\n",
       "      <th>2</th>\n",
       "      <td>0.164064</td>\n",
       "      <td>10.0.0.3</td>\n",
       "      <td>245</td>\n",
       "      <td>20484.0</td>\n",
       "      <td>1</td>\n",
       "    </tr>\n",
       "    <tr>\n",
       "      <th>3</th>\n",
       "      <td>0.352014</td>\n",
       "      <td>10.0.0.2</td>\n",
       "      <td>257</td>\n",
       "      <td>19497.0</td>\n",
       "      <td>1</td>\n",
       "    </tr>\n",
       "    <tr>\n",
       "      <th>4</th>\n",
       "      <td>0.363939</td>\n",
       "      <td>10.0.0.8</td>\n",
       "      <td>265</td>\n",
       "      <td>26396.0</td>\n",
       "      <td>1</td>\n",
       "    </tr>\n",
       "    <tr>\n",
       "      <th>...</th>\n",
       "      <td>...</td>\n",
       "      <td>...</td>\n",
       "      <td>...</td>\n",
       "      <td>...</td>\n",
       "      <td>...</td>\n",
       "    </tr>\n",
       "    <tr>\n",
       "      <th>14991</th>\n",
       "      <td>149.003807</td>\n",
       "      <td>10.0.0.6</td>\n",
       "      <td>224</td>\n",
       "      <td>12414.0</td>\n",
       "      <td>150</td>\n",
       "    </tr>\n",
       "    <tr>\n",
       "      <th>14992</th>\n",
       "      <td>149.772274</td>\n",
       "      <td>10.0.0.3</td>\n",
       "      <td>252</td>\n",
       "      <td>11645.0</td>\n",
       "      <td>150</td>\n",
       "    </tr>\n",
       "    <tr>\n",
       "      <th>14993</th>\n",
       "      <td>149.699791</td>\n",
       "      <td>10.0.0.3</td>\n",
       "      <td>275</td>\n",
       "      <td>0.0</td>\n",
       "      <td>150</td>\n",
       "    </tr>\n",
       "    <tr>\n",
       "      <th>14994</th>\n",
       "      <td>149.127848</td>\n",
       "      <td>10.0.0.3</td>\n",
       "      <td>262</td>\n",
       "      <td>12067.0</td>\n",
       "      <td>150</td>\n",
       "    </tr>\n",
       "    <tr>\n",
       "      <th>14995</th>\n",
       "      <td>149.611849</td>\n",
       "      <td>10.0.0.6</td>\n",
       "      <td>252</td>\n",
       "      <td>12122.0</td>\n",
       "      <td>150</td>\n",
       "    </tr>\n",
       "  </tbody>\n",
       "</table>\n",
       "<p>14996 rows × 5 columns</p>\n",
       "</div>"
      ],
      "text/plain": [
       "             Time Destination  Length  Source Port  Second\n",
       "0        0.511674    10.0.0.7     251      26737.0       1\n",
       "1        0.720004    10.0.0.5     256      19385.0       1\n",
       "2        0.164064    10.0.0.3     245      20484.0       1\n",
       "3        0.352014    10.0.0.2     257      19497.0       1\n",
       "4        0.363939    10.0.0.8     265      26396.0       1\n",
       "...           ...         ...     ...          ...     ...\n",
       "14991  149.003807    10.0.0.6     224      12414.0     150\n",
       "14992  149.772274    10.0.0.3     252      11645.0     150\n",
       "14993  149.699791    10.0.0.3     275          0.0     150\n",
       "14994  149.127848    10.0.0.3     262      12067.0     150\n",
       "14995  149.611849    10.0.0.6     252      12122.0     150\n",
       "\n",
       "[14996 rows x 5 columns]"
      ]
     },
     "execution_count": 12,
     "metadata": {},
     "output_type": "execute_result"
    }
   ],
   "source": [
    "# 指定每秒随机取多少个packet\n",
    "# 如果实际每秒没有这么多packet，这里不会报错的\n",
    "random_n = 100\n",
    "\n",
    "# 每个区间(即每秒)随机取packet\n",
    "# 因此原本整个数据有27779行，现在只剩3796行\n",
    "data = data.groupby('Second').apply(lambda x: x.sample(min(random_n, len(x)))).reset_index(drop=True)\n",
    "data"
   ]
  },
  {
   "cell_type": "markdown",
   "metadata": {},
   "source": [
    "### 统计每个区间多少个source, destination, packet length\n",
    "\n",
    "你要查第几秒的数据，就改`query_second`。查哪个就改哪个dataframe。"
   ]
  },
  {
   "cell_type": "code",
   "execution_count": 13,
   "metadata": {
    "scrolled": false
   },
   "outputs": [
    {
     "data": {
      "text/html": [
       "<div>\n",
       "<style scoped>\n",
       "    .dataframe tbody tr th:only-of-type {\n",
       "        vertical-align: middle;\n",
       "    }\n",
       "\n",
       "    .dataframe tbody tr th {\n",
       "        vertical-align: top;\n",
       "    }\n",
       "\n",
       "    .dataframe thead th {\n",
       "        text-align: right;\n",
       "    }\n",
       "</style>\n",
       "<table border=\"1\" class=\"dataframe\">\n",
       "  <thead>\n",
       "    <tr style=\"text-align: right;\">\n",
       "      <th></th>\n",
       "      <th>Second</th>\n",
       "      <th>Source Port</th>\n",
       "      <th>count</th>\n",
       "    </tr>\n",
       "  </thead>\n",
       "  <tbody>\n",
       "    <tr>\n",
       "      <th>0</th>\n",
       "      <td>1</td>\n",
       "      <td>0.0</td>\n",
       "      <td>22</td>\n",
       "    </tr>\n",
       "    <tr>\n",
       "      <th>1</th>\n",
       "      <td>1</td>\n",
       "      <td>10027.0</td>\n",
       "      <td>2</td>\n",
       "    </tr>\n",
       "    <tr>\n",
       "      <th>2</th>\n",
       "      <td>1</td>\n",
       "      <td>10314.0</td>\n",
       "      <td>1</td>\n",
       "    </tr>\n",
       "    <tr>\n",
       "      <th>3</th>\n",
       "      <td>1</td>\n",
       "      <td>10460.0</td>\n",
       "      <td>2</td>\n",
       "    </tr>\n",
       "    <tr>\n",
       "      <th>4</th>\n",
       "      <td>1</td>\n",
       "      <td>10525.0</td>\n",
       "      <td>1</td>\n",
       "    </tr>\n",
       "    <tr>\n",
       "      <th>...</th>\n",
       "      <td>...</td>\n",
       "      <td>...</td>\n",
       "      <td>...</td>\n",
       "    </tr>\n",
       "    <tr>\n",
       "      <th>6745</th>\n",
       "      <td>150</td>\n",
       "      <td>28209.0</td>\n",
       "      <td>1</td>\n",
       "    </tr>\n",
       "    <tr>\n",
       "      <th>6746</th>\n",
       "      <td>150</td>\n",
       "      <td>28372.0</td>\n",
       "      <td>1</td>\n",
       "    </tr>\n",
       "    <tr>\n",
       "      <th>6747</th>\n",
       "      <td>150</td>\n",
       "      <td>29615.0</td>\n",
       "      <td>1</td>\n",
       "    </tr>\n",
       "    <tr>\n",
       "      <th>6748</th>\n",
       "      <td>150</td>\n",
       "      <td>29743.0</td>\n",
       "      <td>2</td>\n",
       "    </tr>\n",
       "    <tr>\n",
       "      <th>6749</th>\n",
       "      <td>150</td>\n",
       "      <td>29783.0</td>\n",
       "      <td>2</td>\n",
       "    </tr>\n",
       "  </tbody>\n",
       "</table>\n",
       "<p>6750 rows × 3 columns</p>\n",
       "</div>"
      ],
      "text/plain": [
       "      Second  Source Port  count\n",
       "0          1          0.0     22\n",
       "1          1      10027.0      2\n",
       "2          1      10314.0      1\n",
       "3          1      10460.0      2\n",
       "4          1      10525.0      1\n",
       "...      ...          ...    ...\n",
       "6745     150      28209.0      1\n",
       "6746     150      28372.0      1\n",
       "6747     150      29615.0      1\n",
       "6748     150      29743.0      2\n",
       "6749     150      29783.0      2\n",
       "\n",
       "[6750 rows x 3 columns]"
      ]
     },
     "execution_count": 13,
     "metadata": {},
     "output_type": "execute_result"
    }
   ],
   "source": [
    "source_statistics = data[['Second', 'Source Port', 'Time']].groupby(['Second', 'Source Port']).count().rename(columns={'Time': 'count'})\n",
    "source_statistics = source_statistics.reset_index()\n",
    "# remove zero count rows\n",
    "source_statistics = source_statistics[source_statistics['count'] != 0].reset_index(drop=True)\n",
    "source_statistics"
   ]
  },
  {
   "cell_type": "code",
   "execution_count": 14,
   "metadata": {
    "scrolled": true
   },
   "outputs": [
    {
     "data": {
      "text/html": [
       "<div>\n",
       "<style scoped>\n",
       "    .dataframe tbody tr th:only-of-type {\n",
       "        vertical-align: middle;\n",
       "    }\n",
       "\n",
       "    .dataframe tbody tr th {\n",
       "        vertical-align: top;\n",
       "    }\n",
       "\n",
       "    .dataframe thead th {\n",
       "        text-align: right;\n",
       "    }\n",
       "</style>\n",
       "<table border=\"1\" class=\"dataframe\">\n",
       "  <thead>\n",
       "    <tr style=\"text-align: right;\">\n",
       "      <th></th>\n",
       "      <th>Second</th>\n",
       "      <th>Source Port</th>\n",
       "      <th>count</th>\n",
       "    </tr>\n",
       "  </thead>\n",
       "  <tbody>\n",
       "    <tr>\n",
       "      <th>0</th>\n",
       "      <td>1</td>\n",
       "      <td>0.0</td>\n",
       "      <td>22</td>\n",
       "    </tr>\n",
       "    <tr>\n",
       "      <th>1</th>\n",
       "      <td>1</td>\n",
       "      <td>10027.0</td>\n",
       "      <td>2</td>\n",
       "    </tr>\n",
       "    <tr>\n",
       "      <th>2</th>\n",
       "      <td>1</td>\n",
       "      <td>10314.0</td>\n",
       "      <td>1</td>\n",
       "    </tr>\n",
       "    <tr>\n",
       "      <th>3</th>\n",
       "      <td>1</td>\n",
       "      <td>10460.0</td>\n",
       "      <td>2</td>\n",
       "    </tr>\n",
       "    <tr>\n",
       "      <th>4</th>\n",
       "      <td>1</td>\n",
       "      <td>10525.0</td>\n",
       "      <td>1</td>\n",
       "    </tr>\n",
       "    <tr>\n",
       "      <th>5</th>\n",
       "      <td>1</td>\n",
       "      <td>10569.0</td>\n",
       "      <td>2</td>\n",
       "    </tr>\n",
       "    <tr>\n",
       "      <th>6</th>\n",
       "      <td>1</td>\n",
       "      <td>11262.0</td>\n",
       "      <td>2</td>\n",
       "    </tr>\n",
       "    <tr>\n",
       "      <th>7</th>\n",
       "      <td>1</td>\n",
       "      <td>11548.0</td>\n",
       "      <td>2</td>\n",
       "    </tr>\n",
       "    <tr>\n",
       "      <th>8</th>\n",
       "      <td>1</td>\n",
       "      <td>11693.0</td>\n",
       "      <td>1</td>\n",
       "    </tr>\n",
       "    <tr>\n",
       "      <th>9</th>\n",
       "      <td>1</td>\n",
       "      <td>13632.0</td>\n",
       "      <td>2</td>\n",
       "    </tr>\n",
       "    <tr>\n",
       "      <th>10</th>\n",
       "      <td>1</td>\n",
       "      <td>13757.0</td>\n",
       "      <td>2</td>\n",
       "    </tr>\n",
       "    <tr>\n",
       "      <th>11</th>\n",
       "      <td>1</td>\n",
       "      <td>14021.0</td>\n",
       "      <td>1</td>\n",
       "    </tr>\n",
       "    <tr>\n",
       "      <th>12</th>\n",
       "      <td>1</td>\n",
       "      <td>14164.0</td>\n",
       "      <td>2</td>\n",
       "    </tr>\n",
       "    <tr>\n",
       "      <th>13</th>\n",
       "      <td>1</td>\n",
       "      <td>14402.0</td>\n",
       "      <td>2</td>\n",
       "    </tr>\n",
       "    <tr>\n",
       "      <th>14</th>\n",
       "      <td>1</td>\n",
       "      <td>16111.0</td>\n",
       "      <td>1</td>\n",
       "    </tr>\n",
       "    <tr>\n",
       "      <th>15</th>\n",
       "      <td>1</td>\n",
       "      <td>16766.0</td>\n",
       "      <td>2</td>\n",
       "    </tr>\n",
       "    <tr>\n",
       "      <th>16</th>\n",
       "      <td>1</td>\n",
       "      <td>18614.0</td>\n",
       "      <td>2</td>\n",
       "    </tr>\n",
       "    <tr>\n",
       "      <th>17</th>\n",
       "      <td>1</td>\n",
       "      <td>19225.0</td>\n",
       "      <td>2</td>\n",
       "    </tr>\n",
       "    <tr>\n",
       "      <th>18</th>\n",
       "      <td>1</td>\n",
       "      <td>19234.0</td>\n",
       "      <td>2</td>\n",
       "    </tr>\n",
       "    <tr>\n",
       "      <th>19</th>\n",
       "      <td>1</td>\n",
       "      <td>19385.0</td>\n",
       "      <td>2</td>\n",
       "    </tr>\n",
       "    <tr>\n",
       "      <th>20</th>\n",
       "      <td>1</td>\n",
       "      <td>19436.0</td>\n",
       "      <td>2</td>\n",
       "    </tr>\n",
       "    <tr>\n",
       "      <th>21</th>\n",
       "      <td>1</td>\n",
       "      <td>19497.0</td>\n",
       "      <td>2</td>\n",
       "    </tr>\n",
       "    <tr>\n",
       "      <th>22</th>\n",
       "      <td>1</td>\n",
       "      <td>19614.0</td>\n",
       "      <td>2</td>\n",
       "    </tr>\n",
       "    <tr>\n",
       "      <th>23</th>\n",
       "      <td>1</td>\n",
       "      <td>20031.0</td>\n",
       "      <td>2</td>\n",
       "    </tr>\n",
       "    <tr>\n",
       "      <th>24</th>\n",
       "      <td>1</td>\n",
       "      <td>20091.0</td>\n",
       "      <td>1</td>\n",
       "    </tr>\n",
       "    <tr>\n",
       "      <th>25</th>\n",
       "      <td>1</td>\n",
       "      <td>20178.0</td>\n",
       "      <td>1</td>\n",
       "    </tr>\n",
       "    <tr>\n",
       "      <th>26</th>\n",
       "      <td>1</td>\n",
       "      <td>20484.0</td>\n",
       "      <td>2</td>\n",
       "    </tr>\n",
       "    <tr>\n",
       "      <th>27</th>\n",
       "      <td>1</td>\n",
       "      <td>20546.0</td>\n",
       "      <td>1</td>\n",
       "    </tr>\n",
       "    <tr>\n",
       "      <th>28</th>\n",
       "      <td>1</td>\n",
       "      <td>21062.0</td>\n",
       "      <td>2</td>\n",
       "    </tr>\n",
       "    <tr>\n",
       "      <th>29</th>\n",
       "      <td>1</td>\n",
       "      <td>23238.0</td>\n",
       "      <td>2</td>\n",
       "    </tr>\n",
       "    <tr>\n",
       "      <th>30</th>\n",
       "      <td>1</td>\n",
       "      <td>23253.0</td>\n",
       "      <td>2</td>\n",
       "    </tr>\n",
       "    <tr>\n",
       "      <th>31</th>\n",
       "      <td>1</td>\n",
       "      <td>23531.0</td>\n",
       "      <td>1</td>\n",
       "    </tr>\n",
       "    <tr>\n",
       "      <th>32</th>\n",
       "      <td>1</td>\n",
       "      <td>24275.0</td>\n",
       "      <td>2</td>\n",
       "    </tr>\n",
       "    <tr>\n",
       "      <th>33</th>\n",
       "      <td>1</td>\n",
       "      <td>24490.0</td>\n",
       "      <td>2</td>\n",
       "    </tr>\n",
       "    <tr>\n",
       "      <th>34</th>\n",
       "      <td>1</td>\n",
       "      <td>26087.0</td>\n",
       "      <td>2</td>\n",
       "    </tr>\n",
       "    <tr>\n",
       "      <th>35</th>\n",
       "      <td>1</td>\n",
       "      <td>26396.0</td>\n",
       "      <td>1</td>\n",
       "    </tr>\n",
       "    <tr>\n",
       "      <th>36</th>\n",
       "      <td>1</td>\n",
       "      <td>26737.0</td>\n",
       "      <td>2</td>\n",
       "    </tr>\n",
       "    <tr>\n",
       "      <th>37</th>\n",
       "      <td>1</td>\n",
       "      <td>27129.0</td>\n",
       "      <td>2</td>\n",
       "    </tr>\n",
       "    <tr>\n",
       "      <th>38</th>\n",
       "      <td>1</td>\n",
       "      <td>27224.0</td>\n",
       "      <td>2</td>\n",
       "    </tr>\n",
       "    <tr>\n",
       "      <th>39</th>\n",
       "      <td>1</td>\n",
       "      <td>27361.0</td>\n",
       "      <td>1</td>\n",
       "    </tr>\n",
       "    <tr>\n",
       "      <th>40</th>\n",
       "      <td>1</td>\n",
       "      <td>27702.0</td>\n",
       "      <td>2</td>\n",
       "    </tr>\n",
       "    <tr>\n",
       "      <th>41</th>\n",
       "      <td>1</td>\n",
       "      <td>28166.0</td>\n",
       "      <td>2</td>\n",
       "    </tr>\n",
       "    <tr>\n",
       "      <th>42</th>\n",
       "      <td>1</td>\n",
       "      <td>28414.0</td>\n",
       "      <td>2</td>\n",
       "    </tr>\n",
       "    <tr>\n",
       "      <th>43</th>\n",
       "      <td>1</td>\n",
       "      <td>29204.0</td>\n",
       "      <td>2</td>\n",
       "    </tr>\n",
       "    <tr>\n",
       "      <th>44</th>\n",
       "      <td>1</td>\n",
       "      <td>29223.0</td>\n",
       "      <td>1</td>\n",
       "    </tr>\n",
       "    <tr>\n",
       "      <th>45</th>\n",
       "      <td>1</td>\n",
       "      <td>29830.0</td>\n",
       "      <td>2</td>\n",
       "    </tr>\n",
       "  </tbody>\n",
       "</table>\n",
       "</div>"
      ],
      "text/plain": [
       "    Second  Source Port  count\n",
       "0        1          0.0     22\n",
       "1        1      10027.0      2\n",
       "2        1      10314.0      1\n",
       "3        1      10460.0      2\n",
       "4        1      10525.0      1\n",
       "5        1      10569.0      2\n",
       "6        1      11262.0      2\n",
       "7        1      11548.0      2\n",
       "8        1      11693.0      1\n",
       "9        1      13632.0      2\n",
       "10       1      13757.0      2\n",
       "11       1      14021.0      1\n",
       "12       1      14164.0      2\n",
       "13       1      14402.0      2\n",
       "14       1      16111.0      1\n",
       "15       1      16766.0      2\n",
       "16       1      18614.0      2\n",
       "17       1      19225.0      2\n",
       "18       1      19234.0      2\n",
       "19       1      19385.0      2\n",
       "20       1      19436.0      2\n",
       "21       1      19497.0      2\n",
       "22       1      19614.0      2\n",
       "23       1      20031.0      2\n",
       "24       1      20091.0      1\n",
       "25       1      20178.0      1\n",
       "26       1      20484.0      2\n",
       "27       1      20546.0      1\n",
       "28       1      21062.0      2\n",
       "29       1      23238.0      2\n",
       "30       1      23253.0      2\n",
       "31       1      23531.0      1\n",
       "32       1      24275.0      2\n",
       "33       1      24490.0      2\n",
       "34       1      26087.0      2\n",
       "35       1      26396.0      1\n",
       "36       1      26737.0      2\n",
       "37       1      27129.0      2\n",
       "38       1      27224.0      2\n",
       "39       1      27361.0      1\n",
       "40       1      27702.0      2\n",
       "41       1      28166.0      2\n",
       "42       1      28414.0      2\n",
       "43       1      29204.0      2\n",
       "44       1      29223.0      1\n",
       "45       1      29830.0      2"
      ]
     },
     "execution_count": 14,
     "metadata": {},
     "output_type": "execute_result"
    }
   ],
   "source": [
    "# 查询source ip第几秒的数据\n",
    "query_second = 1\n",
    "source_statistics[source_statistics['Second'] == query_second]"
   ]
  },
  {
   "cell_type": "code",
   "execution_count": 15,
   "metadata": {},
   "outputs": [
    {
     "data": {
      "text/html": [
       "<div>\n",
       "<style scoped>\n",
       "    .dataframe tbody tr th:only-of-type {\n",
       "        vertical-align: middle;\n",
       "    }\n",
       "\n",
       "    .dataframe tbody tr th {\n",
       "        vertical-align: top;\n",
       "    }\n",
       "\n",
       "    .dataframe thead th {\n",
       "        text-align: right;\n",
       "    }\n",
       "</style>\n",
       "<table border=\"1\" class=\"dataframe\">\n",
       "  <thead>\n",
       "    <tr style=\"text-align: right;\">\n",
       "      <th></th>\n",
       "      <th>Second</th>\n",
       "      <th>Destination</th>\n",
       "      <th>count</th>\n",
       "    </tr>\n",
       "  </thead>\n",
       "  <tbody>\n",
       "    <tr>\n",
       "      <th>0</th>\n",
       "      <td>1</td>\n",
       "      <td>10.0.0.1</td>\n",
       "      <td>3</td>\n",
       "    </tr>\n",
       "    <tr>\n",
       "      <th>1</th>\n",
       "      <td>1</td>\n",
       "      <td>10.0.0.10</td>\n",
       "      <td>5</td>\n",
       "    </tr>\n",
       "    <tr>\n",
       "      <th>2</th>\n",
       "      <td>1</td>\n",
       "      <td>10.0.0.11</td>\n",
       "      <td>6</td>\n",
       "    </tr>\n",
       "    <tr>\n",
       "      <th>3</th>\n",
       "      <td>1</td>\n",
       "      <td>10.0.0.12</td>\n",
       "      <td>6</td>\n",
       "    </tr>\n",
       "    <tr>\n",
       "      <th>4</th>\n",
       "      <td>1</td>\n",
       "      <td>10.0.0.2</td>\n",
       "      <td>14</td>\n",
       "    </tr>\n",
       "    <tr>\n",
       "      <th>...</th>\n",
       "      <td>...</td>\n",
       "      <td>...</td>\n",
       "      <td>...</td>\n",
       "    </tr>\n",
       "    <tr>\n",
       "      <th>1529</th>\n",
       "      <td>150</td>\n",
       "      <td>10.0.0.5</td>\n",
       "      <td>4</td>\n",
       "    </tr>\n",
       "    <tr>\n",
       "      <th>1530</th>\n",
       "      <td>150</td>\n",
       "      <td>10.0.0.6</td>\n",
       "      <td>14</td>\n",
       "    </tr>\n",
       "    <tr>\n",
       "      <th>1531</th>\n",
       "      <td>150</td>\n",
       "      <td>10.0.0.7</td>\n",
       "      <td>2</td>\n",
       "    </tr>\n",
       "    <tr>\n",
       "      <th>1532</th>\n",
       "      <td>150</td>\n",
       "      <td>10.0.0.8</td>\n",
       "      <td>16</td>\n",
       "    </tr>\n",
       "    <tr>\n",
       "      <th>1533</th>\n",
       "      <td>150</td>\n",
       "      <td>10.0.0.9</td>\n",
       "      <td>10</td>\n",
       "    </tr>\n",
       "  </tbody>\n",
       "</table>\n",
       "<p>1534 rows × 3 columns</p>\n",
       "</div>"
      ],
      "text/plain": [
       "      Second Destination  count\n",
       "0          1    10.0.0.1      3\n",
       "1          1   10.0.0.10      5\n",
       "2          1   10.0.0.11      6\n",
       "3          1   10.0.0.12      6\n",
       "4          1    10.0.0.2     14\n",
       "...      ...         ...    ...\n",
       "1529     150    10.0.0.5      4\n",
       "1530     150    10.0.0.6     14\n",
       "1531     150    10.0.0.7      2\n",
       "1532     150    10.0.0.8     16\n",
       "1533     150    10.0.0.9     10\n",
       "\n",
       "[1534 rows x 3 columns]"
      ]
     },
     "execution_count": 15,
     "metadata": {},
     "output_type": "execute_result"
    }
   ],
   "source": [
    "destination_statistics = data[['Second', 'Destination', 'Time']].groupby(['Second', 'Destination']).count().rename(columns={'Time': 'count'})\n",
    "destination_statistics = destination_statistics.reset_index()\n",
    "# remove zero count rows\n",
    "destination_statistics = destination_statistics[destination_statistics['count'] != 0].reset_index(drop=True)\n",
    "destination_statistics"
   ]
  },
  {
   "cell_type": "code",
   "execution_count": 16,
   "metadata": {},
   "outputs": [
    {
     "data": {
      "text/html": [
       "<div>\n",
       "<style scoped>\n",
       "    .dataframe tbody tr th:only-of-type {\n",
       "        vertical-align: middle;\n",
       "    }\n",
       "\n",
       "    .dataframe tbody tr th {\n",
       "        vertical-align: top;\n",
       "    }\n",
       "\n",
       "    .dataframe thead th {\n",
       "        text-align: right;\n",
       "    }\n",
       "</style>\n",
       "<table border=\"1\" class=\"dataframe\">\n",
       "  <thead>\n",
       "    <tr style=\"text-align: right;\">\n",
       "      <th></th>\n",
       "      <th>Second</th>\n",
       "      <th>Destination</th>\n",
       "      <th>count</th>\n",
       "    </tr>\n",
       "  </thead>\n",
       "  <tbody>\n",
       "    <tr>\n",
       "      <th>0</th>\n",
       "      <td>1</td>\n",
       "      <td>10.0.0.1</td>\n",
       "      <td>3</td>\n",
       "    </tr>\n",
       "    <tr>\n",
       "      <th>1</th>\n",
       "      <td>1</td>\n",
       "      <td>10.0.0.10</td>\n",
       "      <td>5</td>\n",
       "    </tr>\n",
       "    <tr>\n",
       "      <th>2</th>\n",
       "      <td>1</td>\n",
       "      <td>10.0.0.11</td>\n",
       "      <td>6</td>\n",
       "    </tr>\n",
       "    <tr>\n",
       "      <th>3</th>\n",
       "      <td>1</td>\n",
       "      <td>10.0.0.12</td>\n",
       "      <td>6</td>\n",
       "    </tr>\n",
       "    <tr>\n",
       "      <th>4</th>\n",
       "      <td>1</td>\n",
       "      <td>10.0.0.2</td>\n",
       "      <td>14</td>\n",
       "    </tr>\n",
       "    <tr>\n",
       "      <th>5</th>\n",
       "      <td>1</td>\n",
       "      <td>10.0.0.3</td>\n",
       "      <td>8</td>\n",
       "    </tr>\n",
       "    <tr>\n",
       "      <th>6</th>\n",
       "      <td>1</td>\n",
       "      <td>10.0.0.4</td>\n",
       "      <td>11</td>\n",
       "    </tr>\n",
       "    <tr>\n",
       "      <th>7</th>\n",
       "      <td>1</td>\n",
       "      <td>10.0.0.5</td>\n",
       "      <td>12</td>\n",
       "    </tr>\n",
       "    <tr>\n",
       "      <th>8</th>\n",
       "      <td>1</td>\n",
       "      <td>10.0.0.6</td>\n",
       "      <td>7</td>\n",
       "    </tr>\n",
       "    <tr>\n",
       "      <th>9</th>\n",
       "      <td>1</td>\n",
       "      <td>10.0.0.7</td>\n",
       "      <td>13</td>\n",
       "    </tr>\n",
       "    <tr>\n",
       "      <th>10</th>\n",
       "      <td>1</td>\n",
       "      <td>10.0.0.8</td>\n",
       "      <td>10</td>\n",
       "    </tr>\n",
       "    <tr>\n",
       "      <th>11</th>\n",
       "      <td>1</td>\n",
       "      <td>10.0.0.9</td>\n",
       "      <td>5</td>\n",
       "    </tr>\n",
       "  </tbody>\n",
       "</table>\n",
       "</div>"
      ],
      "text/plain": [
       "    Second Destination  count\n",
       "0        1    10.0.0.1      3\n",
       "1        1   10.0.0.10      5\n",
       "2        1   10.0.0.11      6\n",
       "3        1   10.0.0.12      6\n",
       "4        1    10.0.0.2     14\n",
       "5        1    10.0.0.3      8\n",
       "6        1    10.0.0.4     11\n",
       "7        1    10.0.0.5     12\n",
       "8        1    10.0.0.6      7\n",
       "9        1    10.0.0.7     13\n",
       "10       1    10.0.0.8     10\n",
       "11       1    10.0.0.9      5"
      ]
     },
     "execution_count": 16,
     "metadata": {},
     "output_type": "execute_result"
    }
   ],
   "source": [
    "# 查询destination ip第几秒的数据\n",
    "query_second = 1\n",
    "destination_statistics[destination_statistics['Second'] == query_second]"
   ]
  },
  {
   "cell_type": "code",
   "execution_count": 17,
   "metadata": {},
   "outputs": [
    {
     "data": {
      "text/html": [
       "<div>\n",
       "<style scoped>\n",
       "    .dataframe tbody tr th:only-of-type {\n",
       "        vertical-align: middle;\n",
       "    }\n",
       "\n",
       "    .dataframe tbody tr th {\n",
       "        vertical-align: top;\n",
       "    }\n",
       "\n",
       "    .dataframe thead th {\n",
       "        text-align: right;\n",
       "    }\n",
       "</style>\n",
       "<table border=\"1\" class=\"dataframe\">\n",
       "  <thead>\n",
       "    <tr style=\"text-align: right;\">\n",
       "      <th></th>\n",
       "      <th>Second</th>\n",
       "      <th>Length</th>\n",
       "      <th>count</th>\n",
       "    </tr>\n",
       "  </thead>\n",
       "  <tbody>\n",
       "    <tr>\n",
       "      <th>0</th>\n",
       "      <td>1</td>\n",
       "      <td>229</td>\n",
       "      <td>2</td>\n",
       "    </tr>\n",
       "    <tr>\n",
       "      <th>1</th>\n",
       "      <td>1</td>\n",
       "      <td>230</td>\n",
       "      <td>1</td>\n",
       "    </tr>\n",
       "    <tr>\n",
       "      <th>2</th>\n",
       "      <td>1</td>\n",
       "      <td>231</td>\n",
       "      <td>3</td>\n",
       "    </tr>\n",
       "    <tr>\n",
       "      <th>3</th>\n",
       "      <td>1</td>\n",
       "      <td>232</td>\n",
       "      <td>1</td>\n",
       "    </tr>\n",
       "    <tr>\n",
       "      <th>4</th>\n",
       "      <td>1</td>\n",
       "      <td>234</td>\n",
       "      <td>4</td>\n",
       "    </tr>\n",
       "    <tr>\n",
       "      <th>...</th>\n",
       "      <td>...</td>\n",
       "      <td>...</td>\n",
       "      <td>...</td>\n",
       "    </tr>\n",
       "    <tr>\n",
       "      <th>4681</th>\n",
       "      <td>150</td>\n",
       "      <td>273</td>\n",
       "      <td>2</td>\n",
       "    </tr>\n",
       "    <tr>\n",
       "      <th>4682</th>\n",
       "      <td>150</td>\n",
       "      <td>275</td>\n",
       "      <td>4</td>\n",
       "    </tr>\n",
       "    <tr>\n",
       "      <th>4683</th>\n",
       "      <td>150</td>\n",
       "      <td>285</td>\n",
       "      <td>2</td>\n",
       "    </tr>\n",
       "    <tr>\n",
       "      <th>4684</th>\n",
       "      <td>150</td>\n",
       "      <td>289</td>\n",
       "      <td>2</td>\n",
       "    </tr>\n",
       "    <tr>\n",
       "      <th>4685</th>\n",
       "      <td>150</td>\n",
       "      <td>307</td>\n",
       "      <td>2</td>\n",
       "    </tr>\n",
       "  </tbody>\n",
       "</table>\n",
       "<p>4686 rows × 3 columns</p>\n",
       "</div>"
      ],
      "text/plain": [
       "      Second  Length  count\n",
       "0          1     229      2\n",
       "1          1     230      1\n",
       "2          1     231      3\n",
       "3          1     232      1\n",
       "4          1     234      4\n",
       "...      ...     ...    ...\n",
       "4681     150     273      2\n",
       "4682     150     275      4\n",
       "4683     150     285      2\n",
       "4684     150     289      2\n",
       "4685     150     307      2\n",
       "\n",
       "[4686 rows x 3 columns]"
      ]
     },
     "execution_count": 17,
     "metadata": {},
     "output_type": "execute_result"
    }
   ],
   "source": [
    "packet_len_statistics = data[['Second', 'Length', 'Time']].groupby(['Second', 'Length']).count().rename(columns={'Time': 'count'})\n",
    "packet_len_statistics = packet_len_statistics.reset_index()\n",
    "# remove zero count rows\n",
    "packet_len_statistics = packet_len_statistics[packet_len_statistics['count'] != 0].reset_index(drop=True)\n",
    "packet_len_statistics"
   ]
  },
  {
   "cell_type": "code",
   "execution_count": 18,
   "metadata": {
    "scrolled": true
   },
   "outputs": [
    {
     "data": {
      "text/html": [
       "<div>\n",
       "<style scoped>\n",
       "    .dataframe tbody tr th:only-of-type {\n",
       "        vertical-align: middle;\n",
       "    }\n",
       "\n",
       "    .dataframe tbody tr th {\n",
       "        vertical-align: top;\n",
       "    }\n",
       "\n",
       "    .dataframe thead th {\n",
       "        text-align: right;\n",
       "    }\n",
       "</style>\n",
       "<table border=\"1\" class=\"dataframe\">\n",
       "  <thead>\n",
       "    <tr style=\"text-align: right;\">\n",
       "      <th></th>\n",
       "      <th>Second</th>\n",
       "      <th>Length</th>\n",
       "      <th>count</th>\n",
       "    </tr>\n",
       "  </thead>\n",
       "  <tbody>\n",
       "    <tr>\n",
       "      <th>0</th>\n",
       "      <td>1</td>\n",
       "      <td>229</td>\n",
       "      <td>2</td>\n",
       "    </tr>\n",
       "    <tr>\n",
       "      <th>1</th>\n",
       "      <td>1</td>\n",
       "      <td>230</td>\n",
       "      <td>1</td>\n",
       "    </tr>\n",
       "    <tr>\n",
       "      <th>2</th>\n",
       "      <td>1</td>\n",
       "      <td>231</td>\n",
       "      <td>3</td>\n",
       "    </tr>\n",
       "    <tr>\n",
       "      <th>3</th>\n",
       "      <td>1</td>\n",
       "      <td>232</td>\n",
       "      <td>1</td>\n",
       "    </tr>\n",
       "    <tr>\n",
       "      <th>4</th>\n",
       "      <td>1</td>\n",
       "      <td>234</td>\n",
       "      <td>4</td>\n",
       "    </tr>\n",
       "    <tr>\n",
       "      <th>5</th>\n",
       "      <td>1</td>\n",
       "      <td>235</td>\n",
       "      <td>2</td>\n",
       "    </tr>\n",
       "    <tr>\n",
       "      <th>6</th>\n",
       "      <td>1</td>\n",
       "      <td>239</td>\n",
       "      <td>4</td>\n",
       "    </tr>\n",
       "    <tr>\n",
       "      <th>7</th>\n",
       "      <td>1</td>\n",
       "      <td>240</td>\n",
       "      <td>4</td>\n",
       "    </tr>\n",
       "    <tr>\n",
       "      <th>8</th>\n",
       "      <td>1</td>\n",
       "      <td>243</td>\n",
       "      <td>7</td>\n",
       "    </tr>\n",
       "    <tr>\n",
       "      <th>9</th>\n",
       "      <td>1</td>\n",
       "      <td>244</td>\n",
       "      <td>5</td>\n",
       "    </tr>\n",
       "    <tr>\n",
       "      <th>10</th>\n",
       "      <td>1</td>\n",
       "      <td>245</td>\n",
       "      <td>4</td>\n",
       "    </tr>\n",
       "    <tr>\n",
       "      <th>11</th>\n",
       "      <td>1</td>\n",
       "      <td>246</td>\n",
       "      <td>2</td>\n",
       "    </tr>\n",
       "    <tr>\n",
       "      <th>12</th>\n",
       "      <td>1</td>\n",
       "      <td>247</td>\n",
       "      <td>6</td>\n",
       "    </tr>\n",
       "    <tr>\n",
       "      <th>13</th>\n",
       "      <td>1</td>\n",
       "      <td>249</td>\n",
       "      <td>2</td>\n",
       "    </tr>\n",
       "    <tr>\n",
       "      <th>14</th>\n",
       "      <td>1</td>\n",
       "      <td>250</td>\n",
       "      <td>3</td>\n",
       "    </tr>\n",
       "    <tr>\n",
       "      <th>15</th>\n",
       "      <td>1</td>\n",
       "      <td>251</td>\n",
       "      <td>2</td>\n",
       "    </tr>\n",
       "    <tr>\n",
       "      <th>16</th>\n",
       "      <td>1</td>\n",
       "      <td>252</td>\n",
       "      <td>2</td>\n",
       "    </tr>\n",
       "    <tr>\n",
       "      <th>17</th>\n",
       "      <td>1</td>\n",
       "      <td>255</td>\n",
       "      <td>2</td>\n",
       "    </tr>\n",
       "    <tr>\n",
       "      <th>18</th>\n",
       "      <td>1</td>\n",
       "      <td>256</td>\n",
       "      <td>4</td>\n",
       "    </tr>\n",
       "    <tr>\n",
       "      <th>19</th>\n",
       "      <td>1</td>\n",
       "      <td>257</td>\n",
       "      <td>2</td>\n",
       "    </tr>\n",
       "    <tr>\n",
       "      <th>20</th>\n",
       "      <td>1</td>\n",
       "      <td>258</td>\n",
       "      <td>4</td>\n",
       "    </tr>\n",
       "    <tr>\n",
       "      <th>21</th>\n",
       "      <td>1</td>\n",
       "      <td>260</td>\n",
       "      <td>6</td>\n",
       "    </tr>\n",
       "    <tr>\n",
       "      <th>22</th>\n",
       "      <td>1</td>\n",
       "      <td>261</td>\n",
       "      <td>5</td>\n",
       "    </tr>\n",
       "    <tr>\n",
       "      <th>23</th>\n",
       "      <td>1</td>\n",
       "      <td>262</td>\n",
       "      <td>6</td>\n",
       "    </tr>\n",
       "    <tr>\n",
       "      <th>24</th>\n",
       "      <td>1</td>\n",
       "      <td>265</td>\n",
       "      <td>3</td>\n",
       "    </tr>\n",
       "    <tr>\n",
       "      <th>25</th>\n",
       "      <td>1</td>\n",
       "      <td>266</td>\n",
       "      <td>1</td>\n",
       "    </tr>\n",
       "    <tr>\n",
       "      <th>26</th>\n",
       "      <td>1</td>\n",
       "      <td>267</td>\n",
       "      <td>1</td>\n",
       "    </tr>\n",
       "    <tr>\n",
       "      <th>27</th>\n",
       "      <td>1</td>\n",
       "      <td>272</td>\n",
       "      <td>2</td>\n",
       "    </tr>\n",
       "    <tr>\n",
       "      <th>28</th>\n",
       "      <td>1</td>\n",
       "      <td>275</td>\n",
       "      <td>2</td>\n",
       "    </tr>\n",
       "    <tr>\n",
       "      <th>29</th>\n",
       "      <td>1</td>\n",
       "      <td>283</td>\n",
       "      <td>2</td>\n",
       "    </tr>\n",
       "    <tr>\n",
       "      <th>30</th>\n",
       "      <td>1</td>\n",
       "      <td>286</td>\n",
       "      <td>1</td>\n",
       "    </tr>\n",
       "    <tr>\n",
       "      <th>31</th>\n",
       "      <td>1</td>\n",
       "      <td>289</td>\n",
       "      <td>2</td>\n",
       "    </tr>\n",
       "    <tr>\n",
       "      <th>32</th>\n",
       "      <td>1</td>\n",
       "      <td>296</td>\n",
       "      <td>1</td>\n",
       "    </tr>\n",
       "    <tr>\n",
       "      <th>33</th>\n",
       "      <td>1</td>\n",
       "      <td>306</td>\n",
       "      <td>2</td>\n",
       "    </tr>\n",
       "  </tbody>\n",
       "</table>\n",
       "</div>"
      ],
      "text/plain": [
       "    Second  Length  count\n",
       "0        1     229      2\n",
       "1        1     230      1\n",
       "2        1     231      3\n",
       "3        1     232      1\n",
       "4        1     234      4\n",
       "5        1     235      2\n",
       "6        1     239      4\n",
       "7        1     240      4\n",
       "8        1     243      7\n",
       "9        1     244      5\n",
       "10       1     245      4\n",
       "11       1     246      2\n",
       "12       1     247      6\n",
       "13       1     249      2\n",
       "14       1     250      3\n",
       "15       1     251      2\n",
       "16       1     252      2\n",
       "17       1     255      2\n",
       "18       1     256      4\n",
       "19       1     257      2\n",
       "20       1     258      4\n",
       "21       1     260      6\n",
       "22       1     261      5\n",
       "23       1     262      6\n",
       "24       1     265      3\n",
       "25       1     266      1\n",
       "26       1     267      1\n",
       "27       1     272      2\n",
       "28       1     275      2\n",
       "29       1     283      2\n",
       "30       1     286      1\n",
       "31       1     289      2\n",
       "32       1     296      1\n",
       "33       1     306      2"
      ]
     },
     "execution_count": 18,
     "metadata": {},
     "output_type": "execute_result"
    }
   ],
   "source": [
    "# 查询packet length第几秒的数据\n",
    "query_second = 1\n",
    "packet_len_statistics[packet_len_statistics['Second'] == query_second]"
   ]
  },
  {
   "cell_type": "code",
   "execution_count": 19,
   "metadata": {},
   "outputs": [],
   "source": [
    "# # 保存统计数据为一个多页的excel\n",
    "# # Create a Pandas Excel writer using XlsxWriter as the engine.\n",
    "# excel_writer = pd.ExcelWriter('statistics.xlsx', engine='xlsxwriter')\n",
    "\n",
    "# # Write each dataframe to a different worksheet.\n",
    "# source_statistics.to_excel(excel_writer, sheet_name='source')\n",
    "# destination_statistics.to_excel(excel_writer, sheet_name='destination')\n",
    "# packet_len_statistics.to_excel(excel_writer, sheet_name='packet_length')\n",
    "\n",
    "# # Close the Pandas Excel writer and output the Excel file.\n",
    "# excel_writer.save()"
   ]
  },
  {
   "cell_type": "markdown",
   "metadata": {},
   "source": [
    "### 计算destination的单熵"
   ]
  },
  {
   "cell_type": "code",
   "execution_count": 20,
   "metadata": {},
   "outputs": [
    {
     "data": {
      "text/html": [
       "<div>\n",
       "<style scoped>\n",
       "    .dataframe tbody tr th:only-of-type {\n",
       "        vertical-align: middle;\n",
       "    }\n",
       "\n",
       "    .dataframe tbody tr th {\n",
       "        vertical-align: top;\n",
       "    }\n",
       "\n",
       "    .dataframe thead th {\n",
       "        text-align: right;\n",
       "    }\n",
       "</style>\n",
       "<table border=\"1\" class=\"dataframe\">\n",
       "  <thead>\n",
       "    <tr style=\"text-align: right;\">\n",
       "      <th></th>\n",
       "      <th></th>\n",
       "      <th>p</th>\n",
       "      <th>log_p</th>\n",
       "      <th>multiply</th>\n",
       "    </tr>\n",
       "    <tr>\n",
       "      <th>Second</th>\n",
       "      <th>Destination</th>\n",
       "      <th></th>\n",
       "      <th></th>\n",
       "      <th></th>\n",
       "    </tr>\n",
       "  </thead>\n",
       "  <tbody>\n",
       "    <tr>\n",
       "      <th rowspan=\"5\" valign=\"top\">1</th>\n",
       "      <th>10.0.0.1</th>\n",
       "      <td>0.03</td>\n",
       "      <td>-5.058894</td>\n",
       "      <td>-0.1518</td>\n",
       "    </tr>\n",
       "    <tr>\n",
       "      <th>10.0.0.10</th>\n",
       "      <td>0.05</td>\n",
       "      <td>-4.321928</td>\n",
       "      <td>-0.2161</td>\n",
       "    </tr>\n",
       "    <tr>\n",
       "      <th>10.0.0.11</th>\n",
       "      <td>0.06</td>\n",
       "      <td>-4.058894</td>\n",
       "      <td>-0.2435</td>\n",
       "    </tr>\n",
       "    <tr>\n",
       "      <th>10.0.0.12</th>\n",
       "      <td>0.06</td>\n",
       "      <td>-4.058894</td>\n",
       "      <td>-0.2435</td>\n",
       "    </tr>\n",
       "    <tr>\n",
       "      <th>10.0.0.2</th>\n",
       "      <td>0.14</td>\n",
       "      <td>-2.836501</td>\n",
       "      <td>-0.3971</td>\n",
       "    </tr>\n",
       "    <tr>\n",
       "      <th>...</th>\n",
       "      <th>...</th>\n",
       "      <td>...</td>\n",
       "      <td>...</td>\n",
       "      <td>...</td>\n",
       "    </tr>\n",
       "    <tr>\n",
       "      <th rowspan=\"5\" valign=\"top\">150</th>\n",
       "      <th>10.0.0.5</th>\n",
       "      <td>0.04</td>\n",
       "      <td>-4.643856</td>\n",
       "      <td>-0.1858</td>\n",
       "    </tr>\n",
       "    <tr>\n",
       "      <th>10.0.0.6</th>\n",
       "      <td>0.14</td>\n",
       "      <td>-2.836501</td>\n",
       "      <td>-0.3971</td>\n",
       "    </tr>\n",
       "    <tr>\n",
       "      <th>10.0.0.7</th>\n",
       "      <td>0.02</td>\n",
       "      <td>-5.643856</td>\n",
       "      <td>-0.1129</td>\n",
       "    </tr>\n",
       "    <tr>\n",
       "      <th>10.0.0.8</th>\n",
       "      <td>0.16</td>\n",
       "      <td>-2.643856</td>\n",
       "      <td>-0.4230</td>\n",
       "    </tr>\n",
       "    <tr>\n",
       "      <th>10.0.0.9</th>\n",
       "      <td>0.10</td>\n",
       "      <td>-3.321928</td>\n",
       "      <td>-0.3322</td>\n",
       "    </tr>\n",
       "  </tbody>\n",
       "</table>\n",
       "<p>1534 rows × 3 columns</p>\n",
       "</div>"
      ],
      "text/plain": [
       "                       p     log_p  multiply\n",
       "Second Destination                          \n",
       "1      10.0.0.1     0.03 -5.058894   -0.1518\n",
       "       10.0.0.10    0.05 -4.321928   -0.2161\n",
       "       10.0.0.11    0.06 -4.058894   -0.2435\n",
       "       10.0.0.12    0.06 -4.058894   -0.2435\n",
       "       10.0.0.2     0.14 -2.836501   -0.3971\n",
       "...                  ...       ...       ...\n",
       "150    10.0.0.5     0.04 -4.643856   -0.1858\n",
       "       10.0.0.6     0.14 -2.836501   -0.3971\n",
       "       10.0.0.7     0.02 -5.643856   -0.1129\n",
       "       10.0.0.8     0.16 -2.643856   -0.4230\n",
       "       10.0.0.9     0.10 -3.321928   -0.3322\n",
       "\n",
       "[1534 rows x 3 columns]"
      ]
     },
     "execution_count": 20,
     "metadata": {},
     "output_type": "execute_result"
    }
   ],
   "source": [
    "destination_temp = destination_statistics.groupby(['Second', 'Destination']).sum().rename(columns={'count': 'p'})\n",
    "# remove zero count rows\n",
    "destination_temp = destination_temp[destination_temp['p'] != 0]\n",
    "# 计算概率p\n",
    "destination_temp = destination_temp.groupby(level=0).apply(lambda x: x / x.sum())\n",
    "# 计算log(p)\n",
    "destination_temp['log_p'] = destination_temp.groupby(level=0).apply(lambda x: np.log2(x))\n",
    "# 计算乘积\n",
    "destination_temp['multiply'] = round(destination_temp['p'] * destination_temp['log_p'], 4)\n",
    "destination_temp"
   ]
  },
  {
   "cell_type": "code",
   "execution_count": 21,
   "metadata": {},
   "outputs": [
    {
     "data": {
      "text/html": [
       "<div>\n",
       "<style scoped>\n",
       "    .dataframe tbody tr th:only-of-type {\n",
       "        vertical-align: middle;\n",
       "    }\n",
       "\n",
       "    .dataframe tbody tr th {\n",
       "        vertical-align: top;\n",
       "    }\n",
       "\n",
       "    .dataframe thead th {\n",
       "        text-align: right;\n",
       "    }\n",
       "</style>\n",
       "<table border=\"1\" class=\"dataframe\">\n",
       "  <thead>\n",
       "    <tr style=\"text-align: right;\">\n",
       "      <th></th>\n",
       "      <th>Second</th>\n",
       "      <th>multiply</th>\n",
       "    </tr>\n",
       "  </thead>\n",
       "  <tbody>\n",
       "    <tr>\n",
       "      <th>0</th>\n",
       "      <td>1</td>\n",
       "      <td>3.4604</td>\n",
       "    </tr>\n",
       "    <tr>\n",
       "      <th>1</th>\n",
       "      <td>2</td>\n",
       "      <td>3.2796</td>\n",
       "    </tr>\n",
       "    <tr>\n",
       "      <th>2</th>\n",
       "      <td>3</td>\n",
       "      <td>3.3820</td>\n",
       "    </tr>\n",
       "    <tr>\n",
       "      <th>3</th>\n",
       "      <td>4</td>\n",
       "      <td>3.4548</td>\n",
       "    </tr>\n",
       "    <tr>\n",
       "      <th>4</th>\n",
       "      <td>5</td>\n",
       "      <td>3.5273</td>\n",
       "    </tr>\n",
       "    <tr>\n",
       "      <th>...</th>\n",
       "      <td>...</td>\n",
       "      <td>...</td>\n",
       "    </tr>\n",
       "    <tr>\n",
       "      <th>145</th>\n",
       "      <td>146</td>\n",
       "      <td>3.4676</td>\n",
       "    </tr>\n",
       "    <tr>\n",
       "      <th>146</th>\n",
       "      <td>147</td>\n",
       "      <td>3.4485</td>\n",
       "    </tr>\n",
       "    <tr>\n",
       "      <th>147</th>\n",
       "      <td>148</td>\n",
       "      <td>3.2925</td>\n",
       "    </tr>\n",
       "    <tr>\n",
       "      <th>148</th>\n",
       "      <td>149</td>\n",
       "      <td>3.4441</td>\n",
       "    </tr>\n",
       "    <tr>\n",
       "      <th>149</th>\n",
       "      <td>150</td>\n",
       "      <td>3.2310</td>\n",
       "    </tr>\n",
       "  </tbody>\n",
       "</table>\n",
       "<p>150 rows × 2 columns</p>\n",
       "</div>"
      ],
      "text/plain": [
       "     Second  multiply\n",
       "0         1    3.4604\n",
       "1         2    3.2796\n",
       "2         3    3.3820\n",
       "3         4    3.4548\n",
       "4         5    3.5273\n",
       "..      ...       ...\n",
       "145     146    3.4676\n",
       "146     147    3.4485\n",
       "147     148    3.2925\n",
       "148     149    3.4441\n",
       "149     150    3.2310\n",
       "\n",
       "[150 rows x 2 columns]"
      ]
     },
     "execution_count": 21,
     "metadata": {},
     "output_type": "execute_result"
    }
   ],
   "source": [
    "# 把每个组的乘积加起来即为单熵\n",
    "destination_entropy = destination_temp[['multiply']].groupby(level=0).sum()\n",
    "destination_entropy = destination_entropy.reset_index()\n",
    "# 取负数\n",
    "destination_entropy['multiply'] = destination_entropy['multiply'] * -1\n",
    "destination_entropy"
   ]
  },
  {
   "cell_type": "markdown",
   "metadata": {},
   "source": [
    "### 计算destination之于source port的条件熵"
   ]
  },
  {
   "cell_type": "code",
   "execution_count": 22,
   "metadata": {},
   "outputs": [
    {
     "data": {
      "text/html": [
       "<div>\n",
       "<style scoped>\n",
       "    .dataframe tbody tr th:only-of-type {\n",
       "        vertical-align: middle;\n",
       "    }\n",
       "\n",
       "    .dataframe tbody tr th {\n",
       "        vertical-align: top;\n",
       "    }\n",
       "\n",
       "    .dataframe thead th {\n",
       "        text-align: right;\n",
       "    }\n",
       "</style>\n",
       "<table border=\"1\" class=\"dataframe\">\n",
       "  <thead>\n",
       "    <tr style=\"text-align: right;\">\n",
       "      <th></th>\n",
       "      <th>Second</th>\n",
       "      <th>Destination</th>\n",
       "      <th>p</th>\n",
       "    </tr>\n",
       "  </thead>\n",
       "  <tbody>\n",
       "    <tr>\n",
       "      <th>0</th>\n",
       "      <td>1</td>\n",
       "      <td>10.0.0.1</td>\n",
       "      <td>0.03</td>\n",
       "    </tr>\n",
       "    <tr>\n",
       "      <th>1</th>\n",
       "      <td>1</td>\n",
       "      <td>10.0.0.10</td>\n",
       "      <td>0.05</td>\n",
       "    </tr>\n",
       "    <tr>\n",
       "      <th>2</th>\n",
       "      <td>1</td>\n",
       "      <td>10.0.0.11</td>\n",
       "      <td>0.06</td>\n",
       "    </tr>\n",
       "    <tr>\n",
       "      <th>3</th>\n",
       "      <td>1</td>\n",
       "      <td>10.0.0.12</td>\n",
       "      <td>0.06</td>\n",
       "    </tr>\n",
       "    <tr>\n",
       "      <th>4</th>\n",
       "      <td>1</td>\n",
       "      <td>10.0.0.2</td>\n",
       "      <td>0.14</td>\n",
       "    </tr>\n",
       "    <tr>\n",
       "      <th>...</th>\n",
       "      <td>...</td>\n",
       "      <td>...</td>\n",
       "      <td>...</td>\n",
       "    </tr>\n",
       "    <tr>\n",
       "      <th>1529</th>\n",
       "      <td>150</td>\n",
       "      <td>10.0.0.5</td>\n",
       "      <td>0.04</td>\n",
       "    </tr>\n",
       "    <tr>\n",
       "      <th>1530</th>\n",
       "      <td>150</td>\n",
       "      <td>10.0.0.6</td>\n",
       "      <td>0.14</td>\n",
       "    </tr>\n",
       "    <tr>\n",
       "      <th>1531</th>\n",
       "      <td>150</td>\n",
       "      <td>10.0.0.7</td>\n",
       "      <td>0.02</td>\n",
       "    </tr>\n",
       "    <tr>\n",
       "      <th>1532</th>\n",
       "      <td>150</td>\n",
       "      <td>10.0.0.8</td>\n",
       "      <td>0.16</td>\n",
       "    </tr>\n",
       "    <tr>\n",
       "      <th>1533</th>\n",
       "      <td>150</td>\n",
       "      <td>10.0.0.9</td>\n",
       "      <td>0.10</td>\n",
       "    </tr>\n",
       "  </tbody>\n",
       "</table>\n",
       "<p>1534 rows × 3 columns</p>\n",
       "</div>"
      ],
      "text/plain": [
       "      Second Destination     p\n",
       "0          1    10.0.0.1  0.03\n",
       "1          1   10.0.0.10  0.05\n",
       "2          1   10.0.0.11  0.06\n",
       "3          1   10.0.0.12  0.06\n",
       "4          1    10.0.0.2  0.14\n",
       "...      ...         ...   ...\n",
       "1529     150    10.0.0.5  0.04\n",
       "1530     150    10.0.0.6  0.14\n",
       "1531     150    10.0.0.7  0.02\n",
       "1532     150    10.0.0.8  0.16\n",
       "1533     150    10.0.0.9  0.10\n",
       "\n",
       "[1534 rows x 3 columns]"
      ]
     },
     "execution_count": 22,
     "metadata": {},
     "output_type": "execute_result"
    }
   ],
   "source": [
    "# 拿到上面计算的destination的概率\n",
    "dest_p = destination_temp\n",
    "dest_p = destination_temp.reset_index()\n",
    "# 忽略掉不要的列\n",
    "dest_p = dest_p.drop(['log_p', 'multiply'], axis=1)\n",
    "dest_p"
   ]
  },
  {
   "cell_type": "code",
   "execution_count": 23,
   "metadata": {},
   "outputs": [
    {
     "name": "stdout",
     "output_type": "stream",
     "text": [
      "CPU times: total: 2.12 s\n",
      "Wall time: 2.11 s\n"
     ]
    },
    {
     "data": {
      "text/html": [
       "<div>\n",
       "<style scoped>\n",
       "    .dataframe tbody tr th:only-of-type {\n",
       "        vertical-align: middle;\n",
       "    }\n",
       "\n",
       "    .dataframe tbody tr th {\n",
       "        vertical-align: top;\n",
       "    }\n",
       "\n",
       "    .dataframe thead th {\n",
       "        text-align: right;\n",
       "    }\n",
       "</style>\n",
       "<table border=\"1\" class=\"dataframe\">\n",
       "  <thead>\n",
       "    <tr style=\"text-align: right;\">\n",
       "      <th></th>\n",
       "      <th></th>\n",
       "      <th></th>\n",
       "      <th>count</th>\n",
       "      <th>condition_p</th>\n",
       "      <th>log_condition_p</th>\n",
       "      <th>p_multiply</th>\n",
       "    </tr>\n",
       "    <tr>\n",
       "      <th>Second</th>\n",
       "      <th>Destination</th>\n",
       "      <th>Source Port</th>\n",
       "      <th></th>\n",
       "      <th></th>\n",
       "      <th></th>\n",
       "      <th></th>\n",
       "    </tr>\n",
       "  </thead>\n",
       "  <tbody>\n",
       "    <tr>\n",
       "      <th rowspan=\"5\" valign=\"top\">1</th>\n",
       "      <th rowspan=\"2\" valign=\"top\">10.0.0.1</th>\n",
       "      <th>23531.0</th>\n",
       "      <td>1</td>\n",
       "      <td>0.333333</td>\n",
       "      <td>-1.584963</td>\n",
       "      <td>-0.5283</td>\n",
       "    </tr>\n",
       "    <tr>\n",
       "      <th>26087.0</th>\n",
       "      <td>2</td>\n",
       "      <td>0.666667</td>\n",
       "      <td>-0.584963</td>\n",
       "      <td>-0.3900</td>\n",
       "    </tr>\n",
       "    <tr>\n",
       "      <th rowspan=\"3\" valign=\"top\">10.0.0.10</th>\n",
       "      <th>0.0</th>\n",
       "      <td>2</td>\n",
       "      <td>0.400000</td>\n",
       "      <td>-1.321928</td>\n",
       "      <td>-0.5288</td>\n",
       "    </tr>\n",
       "    <tr>\n",
       "      <th>10569.0</th>\n",
       "      <td>2</td>\n",
       "      <td>0.400000</td>\n",
       "      <td>-1.321928</td>\n",
       "      <td>-0.5288</td>\n",
       "    </tr>\n",
       "    <tr>\n",
       "      <th>20178.0</th>\n",
       "      <td>1</td>\n",
       "      <td>0.200000</td>\n",
       "      <td>-2.321928</td>\n",
       "      <td>-0.4644</td>\n",
       "    </tr>\n",
       "    <tr>\n",
       "      <th>...</th>\n",
       "      <th>...</th>\n",
       "      <th>...</th>\n",
       "      <td>...</td>\n",
       "      <td>...</td>\n",
       "      <td>...</td>\n",
       "      <td>...</td>\n",
       "    </tr>\n",
       "    <tr>\n",
       "      <th rowspan=\"5\" valign=\"top\">150</th>\n",
       "      <th rowspan=\"5\" valign=\"top\">10.0.0.9</th>\n",
       "      <th>15572.0</th>\n",
       "      <td>1</td>\n",
       "      <td>0.100000</td>\n",
       "      <td>-3.321928</td>\n",
       "      <td>-0.3322</td>\n",
       "    </tr>\n",
       "    <tr>\n",
       "      <th>18269.0</th>\n",
       "      <td>2</td>\n",
       "      <td>0.200000</td>\n",
       "      <td>-2.321928</td>\n",
       "      <td>-0.4644</td>\n",
       "    </tr>\n",
       "    <tr>\n",
       "      <th>23581.0</th>\n",
       "      <td>1</td>\n",
       "      <td>0.100000</td>\n",
       "      <td>-3.321928</td>\n",
       "      <td>-0.3322</td>\n",
       "    </tr>\n",
       "    <tr>\n",
       "      <th>27083.0</th>\n",
       "      <td>1</td>\n",
       "      <td>0.100000</td>\n",
       "      <td>-3.321928</td>\n",
       "      <td>-0.3322</td>\n",
       "    </tr>\n",
       "    <tr>\n",
       "      <th>28209.0</th>\n",
       "      <td>1</td>\n",
       "      <td>0.100000</td>\n",
       "      <td>-3.321928</td>\n",
       "      <td>-0.3322</td>\n",
       "    </tr>\n",
       "  </tbody>\n",
       "</table>\n",
       "<p>7391 rows × 4 columns</p>\n",
       "</div>"
      ],
      "text/plain": [
       "                                count  condition_p  log_condition_p  \\\n",
       "Second Destination Source Port                                        \n",
       "1      10.0.0.1    23531.0          1     0.333333        -1.584963   \n",
       "                   26087.0          2     0.666667        -0.584963   \n",
       "       10.0.0.10   0.0              2     0.400000        -1.321928   \n",
       "                   10569.0          2     0.400000        -1.321928   \n",
       "                   20178.0          1     0.200000        -2.321928   \n",
       "...                               ...          ...              ...   \n",
       "150    10.0.0.9    15572.0          1     0.100000        -3.321928   \n",
       "                   18269.0          2     0.200000        -2.321928   \n",
       "                   23581.0          1     0.100000        -3.321928   \n",
       "                   27083.0          1     0.100000        -3.321928   \n",
       "                   28209.0          1     0.100000        -3.321928   \n",
       "\n",
       "                                p_multiply  \n",
       "Second Destination Source Port              \n",
       "1      10.0.0.1    23531.0         -0.5283  \n",
       "                   26087.0         -0.3900  \n",
       "       10.0.0.10   0.0             -0.5288  \n",
       "                   10569.0         -0.5288  \n",
       "                   20178.0         -0.4644  \n",
       "...                                    ...  \n",
       "150    10.0.0.9    15572.0         -0.3322  \n",
       "                   18269.0         -0.4644  \n",
       "                   23581.0         -0.3322  \n",
       "                   27083.0         -0.3322  \n",
       "                   28209.0         -0.3322  \n",
       "\n",
       "[7391 rows x 4 columns]"
      ]
     },
     "execution_count": 23,
     "metadata": {},
     "output_type": "execute_result"
    }
   ],
   "source": [
    "%%time\n",
    "dest_src_temp = data[['Second','Source Port','Destination','Time']].groupby(['Second','Destination','Source Port']).count().rename(columns={'Time': 'count'})\n",
    "# remove zero count rows\n",
    "dest_src_temp = dest_src_temp[dest_src_temp['count'] != 0]\n",
    "# 统计相同destination的情况下，有多少个source\n",
    "dest_src_temp = dest_src_temp.groupby(['Second','Destination']).apply(lambda grp: grp.groupby('Source Port').sum())\n",
    "# 计算destination之于source的条件概率condition_p\n",
    "dest_src_temp['condition_p'] = dest_src_temp.groupby(['Second','Destination']).apply(lambda grp: grp.groupby('Source Port').sum() / grp.sum())\n",
    "# 计算log(condition_p)\n",
    "dest_src_temp['log_condition_p'] = np.log2(dest_src_temp['condition_p'])\n",
    "# 计算乘积\n",
    "dest_src_temp['p_multiply'] = round(dest_src_temp['condition_p'] * dest_src_temp['log_condition_p'], 4)\n",
    "dest_src_temp"
   ]
  },
  {
   "cell_type": "code",
   "execution_count": 24,
   "metadata": {},
   "outputs": [
    {
     "data": {
      "text/html": [
       "<div>\n",
       "<style scoped>\n",
       "    .dataframe tbody tr th:only-of-type {\n",
       "        vertical-align: middle;\n",
       "    }\n",
       "\n",
       "    .dataframe tbody tr th {\n",
       "        vertical-align: top;\n",
       "    }\n",
       "\n",
       "    .dataframe thead th {\n",
       "        text-align: right;\n",
       "    }\n",
       "</style>\n",
       "<table border=\"1\" class=\"dataframe\">\n",
       "  <thead>\n",
       "    <tr style=\"text-align: right;\">\n",
       "      <th></th>\n",
       "      <th>Second</th>\n",
       "      <th>Destination</th>\n",
       "      <th>Source Port</th>\n",
       "      <th>condition_p</th>\n",
       "      <th>log_condition_p</th>\n",
       "      <th>p_multiply</th>\n",
       "      <th>p_sum</th>\n",
       "    </tr>\n",
       "  </thead>\n",
       "  <tbody>\n",
       "    <tr>\n",
       "      <th>0</th>\n",
       "      <td>1</td>\n",
       "      <td>10.0.0.1</td>\n",
       "      <td>23531.0</td>\n",
       "      <td>0.333333</td>\n",
       "      <td>-1.584963</td>\n",
       "      <td>-0.5283</td>\n",
       "      <td>-0.9183</td>\n",
       "    </tr>\n",
       "    <tr>\n",
       "      <th>1</th>\n",
       "      <td>1</td>\n",
       "      <td>10.0.0.1</td>\n",
       "      <td>26087.0</td>\n",
       "      <td>0.666667</td>\n",
       "      <td>-0.584963</td>\n",
       "      <td>-0.3900</td>\n",
       "      <td>-0.9183</td>\n",
       "    </tr>\n",
       "    <tr>\n",
       "      <th>2</th>\n",
       "      <td>1</td>\n",
       "      <td>10.0.0.10</td>\n",
       "      <td>0.0</td>\n",
       "      <td>0.400000</td>\n",
       "      <td>-1.321928</td>\n",
       "      <td>-0.5288</td>\n",
       "      <td>-1.5220</td>\n",
       "    </tr>\n",
       "    <tr>\n",
       "      <th>3</th>\n",
       "      <td>1</td>\n",
       "      <td>10.0.0.10</td>\n",
       "      <td>10569.0</td>\n",
       "      <td>0.400000</td>\n",
       "      <td>-1.321928</td>\n",
       "      <td>-0.5288</td>\n",
       "      <td>-1.5220</td>\n",
       "    </tr>\n",
       "    <tr>\n",
       "      <th>4</th>\n",
       "      <td>1</td>\n",
       "      <td>10.0.0.10</td>\n",
       "      <td>20178.0</td>\n",
       "      <td>0.200000</td>\n",
       "      <td>-2.321928</td>\n",
       "      <td>-0.4644</td>\n",
       "      <td>-1.5220</td>\n",
       "    </tr>\n",
       "    <tr>\n",
       "      <th>...</th>\n",
       "      <td>...</td>\n",
       "      <td>...</td>\n",
       "      <td>...</td>\n",
       "      <td>...</td>\n",
       "      <td>...</td>\n",
       "      <td>...</td>\n",
       "      <td>...</td>\n",
       "    </tr>\n",
       "    <tr>\n",
       "      <th>7386</th>\n",
       "      <td>150</td>\n",
       "      <td>10.0.0.9</td>\n",
       "      <td>15572.0</td>\n",
       "      <td>0.100000</td>\n",
       "      <td>-3.321928</td>\n",
       "      <td>-0.3322</td>\n",
       "      <td>-2.7220</td>\n",
       "    </tr>\n",
       "    <tr>\n",
       "      <th>7387</th>\n",
       "      <td>150</td>\n",
       "      <td>10.0.0.9</td>\n",
       "      <td>18269.0</td>\n",
       "      <td>0.200000</td>\n",
       "      <td>-2.321928</td>\n",
       "      <td>-0.4644</td>\n",
       "      <td>-2.7220</td>\n",
       "    </tr>\n",
       "    <tr>\n",
       "      <th>7388</th>\n",
       "      <td>150</td>\n",
       "      <td>10.0.0.9</td>\n",
       "      <td>23581.0</td>\n",
       "      <td>0.100000</td>\n",
       "      <td>-3.321928</td>\n",
       "      <td>-0.3322</td>\n",
       "      <td>-2.7220</td>\n",
       "    </tr>\n",
       "    <tr>\n",
       "      <th>7389</th>\n",
       "      <td>150</td>\n",
       "      <td>10.0.0.9</td>\n",
       "      <td>27083.0</td>\n",
       "      <td>0.100000</td>\n",
       "      <td>-3.321928</td>\n",
       "      <td>-0.3322</td>\n",
       "      <td>-2.7220</td>\n",
       "    </tr>\n",
       "    <tr>\n",
       "      <th>7390</th>\n",
       "      <td>150</td>\n",
       "      <td>10.0.0.9</td>\n",
       "      <td>28209.0</td>\n",
       "      <td>0.100000</td>\n",
       "      <td>-3.321928</td>\n",
       "      <td>-0.3322</td>\n",
       "      <td>-2.7220</td>\n",
       "    </tr>\n",
       "  </tbody>\n",
       "</table>\n",
       "<p>7391 rows × 7 columns</p>\n",
       "</div>"
      ],
      "text/plain": [
       "      Second Destination  Source Port  condition_p  log_condition_p  \\\n",
       "0          1    10.0.0.1      23531.0     0.333333        -1.584963   \n",
       "1          1    10.0.0.1      26087.0     0.666667        -0.584963   \n",
       "2          1   10.0.0.10          0.0     0.400000        -1.321928   \n",
       "3          1   10.0.0.10      10569.0     0.400000        -1.321928   \n",
       "4          1   10.0.0.10      20178.0     0.200000        -2.321928   \n",
       "...      ...         ...          ...          ...              ...   \n",
       "7386     150    10.0.0.9      15572.0     0.100000        -3.321928   \n",
       "7387     150    10.0.0.9      18269.0     0.200000        -2.321928   \n",
       "7388     150    10.0.0.9      23581.0     0.100000        -3.321928   \n",
       "7389     150    10.0.0.9      27083.0     0.100000        -3.321928   \n",
       "7390     150    10.0.0.9      28209.0     0.100000        -3.321928   \n",
       "\n",
       "      p_multiply   p_sum  \n",
       "0        -0.5283 -0.9183  \n",
       "1        -0.3900 -0.9183  \n",
       "2        -0.5288 -1.5220  \n",
       "3        -0.5288 -1.5220  \n",
       "4        -0.4644 -1.5220  \n",
       "...          ...     ...  \n",
       "7386     -0.3322 -2.7220  \n",
       "7387     -0.4644 -2.7220  \n",
       "7388     -0.3322 -2.7220  \n",
       "7389     -0.3322 -2.7220  \n",
       "7390     -0.3322 -2.7220  \n",
       "\n",
       "[7391 rows x 7 columns]"
      ]
     },
     "execution_count": 24,
     "metadata": {},
     "output_type": "execute_result"
    }
   ],
   "source": [
    "# 把每个组的乘积加起来\n",
    "dest_src_entropy = dest_src_temp\n",
    "dest_src_entropy['p_sum'] = dest_src_entropy['p_multiply'].groupby(['Second','Destination']).sum()\n",
    "dest_src_entropy = dest_src_entropy.reset_index()\n",
    "dest_src_entropy = dest_src_entropy.drop(['count'], axis=1)\n",
    "dest_src_entropy"
   ]
  },
  {
   "cell_type": "code",
   "execution_count": 25,
   "metadata": {},
   "outputs": [
    {
     "data": {
      "text/html": [
       "<div>\n",
       "<style scoped>\n",
       "    .dataframe tbody tr th:only-of-type {\n",
       "        vertical-align: middle;\n",
       "    }\n",
       "\n",
       "    .dataframe tbody tr th {\n",
       "        vertical-align: top;\n",
       "    }\n",
       "\n",
       "    .dataframe thead th {\n",
       "        text-align: right;\n",
       "    }\n",
       "</style>\n",
       "<table border=\"1\" class=\"dataframe\">\n",
       "  <thead>\n",
       "    <tr style=\"text-align: right;\">\n",
       "      <th></th>\n",
       "      <th>Second</th>\n",
       "      <th>Destination</th>\n",
       "      <th>total_multiply</th>\n",
       "    </tr>\n",
       "  </thead>\n",
       "  <tbody>\n",
       "    <tr>\n",
       "      <th>0</th>\n",
       "      <td>1</td>\n",
       "      <td>10.0.0.1</td>\n",
       "      <td>-0.0275</td>\n",
       "    </tr>\n",
       "    <tr>\n",
       "      <th>2</th>\n",
       "      <td>1</td>\n",
       "      <td>10.0.0.10</td>\n",
       "      <td>-0.0761</td>\n",
       "    </tr>\n",
       "    <tr>\n",
       "      <th>5</th>\n",
       "      <td>1</td>\n",
       "      <td>10.0.0.11</td>\n",
       "      <td>-0.0951</td>\n",
       "    </tr>\n",
       "    <tr>\n",
       "      <th>8</th>\n",
       "      <td>1</td>\n",
       "      <td>10.0.0.12</td>\n",
       "      <td>-0.1151</td>\n",
       "    </tr>\n",
       "    <tr>\n",
       "      <th>12</th>\n",
       "      <td>1</td>\n",
       "      <td>10.0.0.2</td>\n",
       "      <td>-0.3931</td>\n",
       "    </tr>\n",
       "    <tr>\n",
       "      <th>...</th>\n",
       "      <td>...</td>\n",
       "      <td>...</td>\n",
       "      <td>...</td>\n",
       "    </tr>\n",
       "    <tr>\n",
       "      <th>7364</th>\n",
       "      <td>150</td>\n",
       "      <td>10.0.0.5</td>\n",
       "      <td>-0.0400</td>\n",
       "    </tr>\n",
       "    <tr>\n",
       "      <th>7366</th>\n",
       "      <td>150</td>\n",
       "      <td>10.0.0.6</td>\n",
       "      <td>-0.4131</td>\n",
       "    </tr>\n",
       "    <tr>\n",
       "      <th>7374</th>\n",
       "      <td>150</td>\n",
       "      <td>10.0.0.7</td>\n",
       "      <td>0.0000</td>\n",
       "    </tr>\n",
       "    <tr>\n",
       "      <th>7375</th>\n",
       "      <td>150</td>\n",
       "      <td>10.0.0.8</td>\n",
       "      <td>-0.4924</td>\n",
       "    </tr>\n",
       "    <tr>\n",
       "      <th>7384</th>\n",
       "      <td>150</td>\n",
       "      <td>10.0.0.9</td>\n",
       "      <td>-0.2722</td>\n",
       "    </tr>\n",
       "  </tbody>\n",
       "</table>\n",
       "<p>1534 rows × 3 columns</p>\n",
       "</div>"
      ],
      "text/plain": [
       "      Second Destination  total_multiply\n",
       "0          1    10.0.0.1         -0.0275\n",
       "2          1   10.0.0.10         -0.0761\n",
       "5          1   10.0.0.11         -0.0951\n",
       "8          1   10.0.0.12         -0.1151\n",
       "12         1    10.0.0.2         -0.3931\n",
       "...      ...         ...             ...\n",
       "7364     150    10.0.0.5         -0.0400\n",
       "7366     150    10.0.0.6         -0.4131\n",
       "7374     150    10.0.0.7          0.0000\n",
       "7375     150    10.0.0.8         -0.4924\n",
       "7384     150    10.0.0.9         -0.2722\n",
       "\n",
       "[1534 rows x 3 columns]"
      ]
     },
     "execution_count": 25,
     "metadata": {},
     "output_type": "execute_result"
    }
   ],
   "source": [
    "# 将destination的概率和条件概率两个dataframe合并\n",
    "dest_src_entropy = pd.merge(dest_src_entropy, dest_p, on=['Second','Destination'], how='left')\n",
    "# 将两个概率相乘\n",
    "dest_src_entropy['total_multiply'] = round(dest_src_entropy['p_sum'] * dest_src_entropy['p'], 4)\n",
    "\n",
    "dest_src_entropy = dest_src_entropy[['Second','Destination','total_multiply']]\n",
    "# 扔掉重复行\n",
    "dest_src_entropy = dest_src_entropy.drop_duplicates()\n",
    "dest_src_entropy"
   ]
  },
  {
   "cell_type": "code",
   "execution_count": 26,
   "metadata": {
    "scrolled": false
   },
   "outputs": [
    {
     "data": {
      "text/html": [
       "<div>\n",
       "<style scoped>\n",
       "    .dataframe tbody tr th:only-of-type {\n",
       "        vertical-align: middle;\n",
       "    }\n",
       "\n",
       "    .dataframe tbody tr th {\n",
       "        vertical-align: top;\n",
       "    }\n",
       "\n",
       "    .dataframe thead th {\n",
       "        text-align: right;\n",
       "    }\n",
       "</style>\n",
       "<table border=\"1\" class=\"dataframe\">\n",
       "  <thead>\n",
       "    <tr style=\"text-align: right;\">\n",
       "      <th></th>\n",
       "      <th>Second</th>\n",
       "      <th>total_multiply</th>\n",
       "    </tr>\n",
       "  </thead>\n",
       "  <tbody>\n",
       "    <tr>\n",
       "      <th>0</th>\n",
       "      <td>1</td>\n",
       "      <td>2.2161</td>\n",
       "    </tr>\n",
       "    <tr>\n",
       "      <th>1</th>\n",
       "      <td>2</td>\n",
       "      <td>2.2931</td>\n",
       "    </tr>\n",
       "    <tr>\n",
       "      <th>2</th>\n",
       "      <td>3</td>\n",
       "      <td>2.2379</td>\n",
       "    </tr>\n",
       "    <tr>\n",
       "      <th>3</th>\n",
       "      <td>4</td>\n",
       "      <td>2.1930</td>\n",
       "    </tr>\n",
       "    <tr>\n",
       "      <th>4</th>\n",
       "      <td>5</td>\n",
       "      <td>2.2216</td>\n",
       "    </tr>\n",
       "    <tr>\n",
       "      <th>...</th>\n",
       "      <td>...</td>\n",
       "      <td>...</td>\n",
       "    </tr>\n",
       "    <tr>\n",
       "      <th>145</th>\n",
       "      <td>146</td>\n",
       "      <td>2.2253</td>\n",
       "    </tr>\n",
       "    <tr>\n",
       "      <th>146</th>\n",
       "      <td>147</td>\n",
       "      <td>2.1833</td>\n",
       "    </tr>\n",
       "    <tr>\n",
       "      <th>147</th>\n",
       "      <td>148</td>\n",
       "      <td>2.4316</td>\n",
       "    </tr>\n",
       "    <tr>\n",
       "      <th>148</th>\n",
       "      <td>149</td>\n",
       "      <td>2.2447</td>\n",
       "    </tr>\n",
       "    <tr>\n",
       "      <th>149</th>\n",
       "      <td>150</td>\n",
       "      <td>2.5178</td>\n",
       "    </tr>\n",
       "  </tbody>\n",
       "</table>\n",
       "<p>150 rows × 2 columns</p>\n",
       "</div>"
      ],
      "text/plain": [
       "     Second  total_multiply\n",
       "0         1          2.2161\n",
       "1         2          2.2931\n",
       "2         3          2.2379\n",
       "3         4          2.1930\n",
       "4         5          2.2216\n",
       "..      ...             ...\n",
       "145     146          2.2253\n",
       "146     147          2.1833\n",
       "147     148          2.4316\n",
       "148     149          2.2447\n",
       "149     150          2.5178\n",
       "\n",
       "[150 rows x 2 columns]"
      ]
     },
     "execution_count": 26,
     "metadata": {},
     "output_type": "execute_result"
    }
   ],
   "source": [
    "# 把每个组的乘积加起来即为单熵\n",
    "dest_src_entropy = dest_src_entropy[['Second','total_multiply']].groupby(['Second']).sum()\n",
    "dest_src_entropy = dest_src_entropy.reset_index()\n",
    "# 取负数\n",
    "dest_src_entropy['total_multiply'] = dest_src_entropy['total_multiply'].apply(lambda x: -1*x if x != 0 else x)\n",
    "dest_src_entropy"
   ]
  },
  {
   "cell_type": "markdown",
   "metadata": {},
   "source": [
    "### 计算destination之于packet length的条件熵"
   ]
  },
  {
   "cell_type": "code",
   "execution_count": 27,
   "metadata": {},
   "outputs": [
    {
     "name": "stdout",
     "output_type": "stream",
     "text": [
      "CPU times: total: 2.02 s\n",
      "Wall time: 2.02 s\n"
     ]
    },
    {
     "data": {
      "text/html": [
       "<div>\n",
       "<style scoped>\n",
       "    .dataframe tbody tr th:only-of-type {\n",
       "        vertical-align: middle;\n",
       "    }\n",
       "\n",
       "    .dataframe tbody tr th {\n",
       "        vertical-align: top;\n",
       "    }\n",
       "\n",
       "    .dataframe thead th {\n",
       "        text-align: right;\n",
       "    }\n",
       "</style>\n",
       "<table border=\"1\" class=\"dataframe\">\n",
       "  <thead>\n",
       "    <tr style=\"text-align: right;\">\n",
       "      <th></th>\n",
       "      <th></th>\n",
       "      <th></th>\n",
       "      <th>count</th>\n",
       "      <th>condition_p</th>\n",
       "      <th>log_condition_p</th>\n",
       "      <th>p_multiply</th>\n",
       "    </tr>\n",
       "    <tr>\n",
       "      <th>Second</th>\n",
       "      <th>Destination</th>\n",
       "      <th>Length</th>\n",
       "      <th></th>\n",
       "      <th></th>\n",
       "      <th></th>\n",
       "      <th></th>\n",
       "    </tr>\n",
       "  </thead>\n",
       "  <tbody>\n",
       "    <tr>\n",
       "      <th rowspan=\"5\" valign=\"top\">1</th>\n",
       "      <th rowspan=\"2\" valign=\"top\">10.0.0.1</th>\n",
       "      <th>243</th>\n",
       "      <td>2</td>\n",
       "      <td>0.666667</td>\n",
       "      <td>-0.584963</td>\n",
       "      <td>-0.3900</td>\n",
       "    </tr>\n",
       "    <tr>\n",
       "      <th>261</th>\n",
       "      <td>1</td>\n",
       "      <td>0.333333</td>\n",
       "      <td>-1.584963</td>\n",
       "      <td>-0.5283</td>\n",
       "    </tr>\n",
       "    <tr>\n",
       "      <th rowspan=\"3\" valign=\"top\">10.0.0.10</th>\n",
       "      <th>232</th>\n",
       "      <td>1</td>\n",
       "      <td>0.200000</td>\n",
       "      <td>-2.321928</td>\n",
       "      <td>-0.4644</td>\n",
       "    </tr>\n",
       "    <tr>\n",
       "      <th>247</th>\n",
       "      <td>2</td>\n",
       "      <td>0.400000</td>\n",
       "      <td>-1.321928</td>\n",
       "      <td>-0.5288</td>\n",
       "    </tr>\n",
       "    <tr>\n",
       "      <th>283</th>\n",
       "      <td>2</td>\n",
       "      <td>0.400000</td>\n",
       "      <td>-1.321928</td>\n",
       "      <td>-0.5288</td>\n",
       "    </tr>\n",
       "    <tr>\n",
       "      <th>...</th>\n",
       "      <th>...</th>\n",
       "      <th>...</th>\n",
       "      <td>...</td>\n",
       "      <td>...</td>\n",
       "      <td>...</td>\n",
       "      <td>...</td>\n",
       "    </tr>\n",
       "    <tr>\n",
       "      <th rowspan=\"5\" valign=\"top\">150</th>\n",
       "      <th rowspan=\"5\" valign=\"top\">10.0.0.9</th>\n",
       "      <th>230</th>\n",
       "      <td>1</td>\n",
       "      <td>0.100000</td>\n",
       "      <td>-3.321928</td>\n",
       "      <td>-0.3322</td>\n",
       "    </tr>\n",
       "    <tr>\n",
       "      <th>243</th>\n",
       "      <td>1</td>\n",
       "      <td>0.100000</td>\n",
       "      <td>-3.321928</td>\n",
       "      <td>-0.3322</td>\n",
       "    </tr>\n",
       "    <tr>\n",
       "      <th>249</th>\n",
       "      <td>1</td>\n",
       "      <td>0.100000</td>\n",
       "      <td>-3.321928</td>\n",
       "      <td>-0.3322</td>\n",
       "    </tr>\n",
       "    <tr>\n",
       "      <th>254</th>\n",
       "      <td>2</td>\n",
       "      <td>0.200000</td>\n",
       "      <td>-2.321928</td>\n",
       "      <td>-0.4644</td>\n",
       "    </tr>\n",
       "    <tr>\n",
       "      <th>269</th>\n",
       "      <td>4</td>\n",
       "      <td>0.400000</td>\n",
       "      <td>-1.321928</td>\n",
       "      <td>-0.5288</td>\n",
       "    </tr>\n",
       "  </tbody>\n",
       "</table>\n",
       "<p>6394 rows × 4 columns</p>\n",
       "</div>"
      ],
      "text/plain": [
       "                           count  condition_p  log_condition_p  p_multiply\n",
       "Second Destination Length                                                 \n",
       "1      10.0.0.1    243         2     0.666667        -0.584963     -0.3900\n",
       "                   261         1     0.333333        -1.584963     -0.5283\n",
       "       10.0.0.10   232         1     0.200000        -2.321928     -0.4644\n",
       "                   247         2     0.400000        -1.321928     -0.5288\n",
       "                   283         2     0.400000        -1.321928     -0.5288\n",
       "...                          ...          ...              ...         ...\n",
       "150    10.0.0.9    230         1     0.100000        -3.321928     -0.3322\n",
       "                   243         1     0.100000        -3.321928     -0.3322\n",
       "                   249         1     0.100000        -3.321928     -0.3322\n",
       "                   254         2     0.200000        -2.321928     -0.4644\n",
       "                   269         4     0.400000        -1.321928     -0.5288\n",
       "\n",
       "[6394 rows x 4 columns]"
      ]
     },
     "execution_count": 27,
     "metadata": {},
     "output_type": "execute_result"
    }
   ],
   "source": [
    "%%time\n",
    "dest_len_temp = data[['Second','Length','Destination','Time']].groupby(['Second','Destination','Length']).count().rename(columns={'Time': 'count'})\n",
    "# remove zero count rows\n",
    "dest_len_temp = dest_len_temp[dest_len_temp['count'] != 0]\n",
    "# 统计相同destination的情况下，有多少个source\n",
    "dest_len_temp = dest_len_temp.groupby(['Second','Destination']).apply(lambda grp: grp.groupby('Length').sum())\n",
    "# 计算destination之于source的条件概率condition_p\n",
    "dest_len_temp['condition_p'] = dest_len_temp.groupby(['Second','Destination']).apply(lambda grp: grp.groupby('Length').sum() / grp.sum())\n",
    "# 计算log(condition_p)\n",
    "dest_len_temp['log_condition_p'] = np.log2(dest_len_temp['condition_p'])\n",
    "# 计算乘积\n",
    "dest_len_temp['p_multiply'] = round(dest_len_temp['condition_p'] * dest_len_temp['log_condition_p'], 4)\n",
    "dest_len_temp"
   ]
  },
  {
   "cell_type": "code",
   "execution_count": 28,
   "metadata": {},
   "outputs": [
    {
     "data": {
      "text/html": [
       "<div>\n",
       "<style scoped>\n",
       "    .dataframe tbody tr th:only-of-type {\n",
       "        vertical-align: middle;\n",
       "    }\n",
       "\n",
       "    .dataframe tbody tr th {\n",
       "        vertical-align: top;\n",
       "    }\n",
       "\n",
       "    .dataframe thead th {\n",
       "        text-align: right;\n",
       "    }\n",
       "</style>\n",
       "<table border=\"1\" class=\"dataframe\">\n",
       "  <thead>\n",
       "    <tr style=\"text-align: right;\">\n",
       "      <th></th>\n",
       "      <th>Second</th>\n",
       "      <th>Destination</th>\n",
       "      <th>Length</th>\n",
       "      <th>condition_p</th>\n",
       "      <th>log_condition_p</th>\n",
       "      <th>p_multiply</th>\n",
       "      <th>p_sum</th>\n",
       "    </tr>\n",
       "  </thead>\n",
       "  <tbody>\n",
       "    <tr>\n",
       "      <th>0</th>\n",
       "      <td>1</td>\n",
       "      <td>10.0.0.1</td>\n",
       "      <td>243</td>\n",
       "      <td>0.666667</td>\n",
       "      <td>-0.584963</td>\n",
       "      <td>-0.3900</td>\n",
       "      <td>-0.9183</td>\n",
       "    </tr>\n",
       "    <tr>\n",
       "      <th>1</th>\n",
       "      <td>1</td>\n",
       "      <td>10.0.0.1</td>\n",
       "      <td>261</td>\n",
       "      <td>0.333333</td>\n",
       "      <td>-1.584963</td>\n",
       "      <td>-0.5283</td>\n",
       "      <td>-0.9183</td>\n",
       "    </tr>\n",
       "    <tr>\n",
       "      <th>2</th>\n",
       "      <td>1</td>\n",
       "      <td>10.0.0.10</td>\n",
       "      <td>232</td>\n",
       "      <td>0.200000</td>\n",
       "      <td>-2.321928</td>\n",
       "      <td>-0.4644</td>\n",
       "      <td>-1.5220</td>\n",
       "    </tr>\n",
       "    <tr>\n",
       "      <th>3</th>\n",
       "      <td>1</td>\n",
       "      <td>10.0.0.10</td>\n",
       "      <td>247</td>\n",
       "      <td>0.400000</td>\n",
       "      <td>-1.321928</td>\n",
       "      <td>-0.5288</td>\n",
       "      <td>-1.5220</td>\n",
       "    </tr>\n",
       "    <tr>\n",
       "      <th>4</th>\n",
       "      <td>1</td>\n",
       "      <td>10.0.0.10</td>\n",
       "      <td>283</td>\n",
       "      <td>0.400000</td>\n",
       "      <td>-1.321928</td>\n",
       "      <td>-0.5288</td>\n",
       "      <td>-1.5220</td>\n",
       "    </tr>\n",
       "    <tr>\n",
       "      <th>...</th>\n",
       "      <td>...</td>\n",
       "      <td>...</td>\n",
       "      <td>...</td>\n",
       "      <td>...</td>\n",
       "      <td>...</td>\n",
       "      <td>...</td>\n",
       "      <td>...</td>\n",
       "    </tr>\n",
       "    <tr>\n",
       "      <th>6389</th>\n",
       "      <td>150</td>\n",
       "      <td>10.0.0.9</td>\n",
       "      <td>230</td>\n",
       "      <td>0.100000</td>\n",
       "      <td>-3.321928</td>\n",
       "      <td>-0.3322</td>\n",
       "      <td>-2.3220</td>\n",
       "    </tr>\n",
       "    <tr>\n",
       "      <th>6390</th>\n",
       "      <td>150</td>\n",
       "      <td>10.0.0.9</td>\n",
       "      <td>243</td>\n",
       "      <td>0.100000</td>\n",
       "      <td>-3.321928</td>\n",
       "      <td>-0.3322</td>\n",
       "      <td>-2.3220</td>\n",
       "    </tr>\n",
       "    <tr>\n",
       "      <th>6391</th>\n",
       "      <td>150</td>\n",
       "      <td>10.0.0.9</td>\n",
       "      <td>249</td>\n",
       "      <td>0.100000</td>\n",
       "      <td>-3.321928</td>\n",
       "      <td>-0.3322</td>\n",
       "      <td>-2.3220</td>\n",
       "    </tr>\n",
       "    <tr>\n",
       "      <th>6392</th>\n",
       "      <td>150</td>\n",
       "      <td>10.0.0.9</td>\n",
       "      <td>254</td>\n",
       "      <td>0.200000</td>\n",
       "      <td>-2.321928</td>\n",
       "      <td>-0.4644</td>\n",
       "      <td>-2.3220</td>\n",
       "    </tr>\n",
       "    <tr>\n",
       "      <th>6393</th>\n",
       "      <td>150</td>\n",
       "      <td>10.0.0.9</td>\n",
       "      <td>269</td>\n",
       "      <td>0.400000</td>\n",
       "      <td>-1.321928</td>\n",
       "      <td>-0.5288</td>\n",
       "      <td>-2.3220</td>\n",
       "    </tr>\n",
       "  </tbody>\n",
       "</table>\n",
       "<p>6394 rows × 7 columns</p>\n",
       "</div>"
      ],
      "text/plain": [
       "      Second Destination  Length  condition_p  log_condition_p  p_multiply  \\\n",
       "0          1    10.0.0.1     243     0.666667        -0.584963     -0.3900   \n",
       "1          1    10.0.0.1     261     0.333333        -1.584963     -0.5283   \n",
       "2          1   10.0.0.10     232     0.200000        -2.321928     -0.4644   \n",
       "3          1   10.0.0.10     247     0.400000        -1.321928     -0.5288   \n",
       "4          1   10.0.0.10     283     0.400000        -1.321928     -0.5288   \n",
       "...      ...         ...     ...          ...              ...         ...   \n",
       "6389     150    10.0.0.9     230     0.100000        -3.321928     -0.3322   \n",
       "6390     150    10.0.0.9     243     0.100000        -3.321928     -0.3322   \n",
       "6391     150    10.0.0.9     249     0.100000        -3.321928     -0.3322   \n",
       "6392     150    10.0.0.9     254     0.200000        -2.321928     -0.4644   \n",
       "6393     150    10.0.0.9     269     0.400000        -1.321928     -0.5288   \n",
       "\n",
       "       p_sum  \n",
       "0    -0.9183  \n",
       "1    -0.9183  \n",
       "2    -1.5220  \n",
       "3    -1.5220  \n",
       "4    -1.5220  \n",
       "...      ...  \n",
       "6389 -2.3220  \n",
       "6390 -2.3220  \n",
       "6391 -2.3220  \n",
       "6392 -2.3220  \n",
       "6393 -2.3220  \n",
       "\n",
       "[6394 rows x 7 columns]"
      ]
     },
     "execution_count": 28,
     "metadata": {},
     "output_type": "execute_result"
    }
   ],
   "source": [
    "# 把每个组的乘积加起来\n",
    "dest_len_entropy = dest_len_temp\n",
    "dest_len_entropy['p_sum'] = dest_len_entropy['p_multiply'].groupby(['Second','Destination']).sum()\n",
    "dest_len_entropy = dest_len_entropy.reset_index()\n",
    "dest_len_entropy = dest_len_entropy.drop(['count'], axis=1)\n",
    "dest_len_entropy"
   ]
  },
  {
   "cell_type": "code",
   "execution_count": 29,
   "metadata": {},
   "outputs": [
    {
     "data": {
      "text/html": [
       "<div>\n",
       "<style scoped>\n",
       "    .dataframe tbody tr th:only-of-type {\n",
       "        vertical-align: middle;\n",
       "    }\n",
       "\n",
       "    .dataframe tbody tr th {\n",
       "        vertical-align: top;\n",
       "    }\n",
       "\n",
       "    .dataframe thead th {\n",
       "        text-align: right;\n",
       "    }\n",
       "</style>\n",
       "<table border=\"1\" class=\"dataframe\">\n",
       "  <thead>\n",
       "    <tr style=\"text-align: right;\">\n",
       "      <th></th>\n",
       "      <th>Second</th>\n",
       "      <th>Destination</th>\n",
       "      <th>total_multiply</th>\n",
       "    </tr>\n",
       "  </thead>\n",
       "  <tbody>\n",
       "    <tr>\n",
       "      <th>0</th>\n",
       "      <td>1</td>\n",
       "      <td>10.0.0.1</td>\n",
       "      <td>-0.0275</td>\n",
       "    </tr>\n",
       "    <tr>\n",
       "      <th>2</th>\n",
       "      <td>1</td>\n",
       "      <td>10.0.0.10</td>\n",
       "      <td>-0.0761</td>\n",
       "    </tr>\n",
       "    <tr>\n",
       "      <th>5</th>\n",
       "      <td>1</td>\n",
       "      <td>10.0.0.11</td>\n",
       "      <td>-0.0951</td>\n",
       "    </tr>\n",
       "    <tr>\n",
       "      <th>8</th>\n",
       "      <td>1</td>\n",
       "      <td>10.0.0.12</td>\n",
       "      <td>-0.1151</td>\n",
       "    </tr>\n",
       "    <tr>\n",
       "      <th>12</th>\n",
       "      <td>1</td>\n",
       "      <td>10.0.0.2</td>\n",
       "      <td>-0.3931</td>\n",
       "    </tr>\n",
       "    <tr>\n",
       "      <th>...</th>\n",
       "      <td>...</td>\n",
       "      <td>...</td>\n",
       "      <td>...</td>\n",
       "    </tr>\n",
       "    <tr>\n",
       "      <th>6367</th>\n",
       "      <td>150</td>\n",
       "      <td>10.0.0.5</td>\n",
       "      <td>-0.0400</td>\n",
       "    </tr>\n",
       "    <tr>\n",
       "      <th>6369</th>\n",
       "      <td>150</td>\n",
       "      <td>10.0.0.6</td>\n",
       "      <td>-0.4131</td>\n",
       "    </tr>\n",
       "    <tr>\n",
       "      <th>6377</th>\n",
       "      <td>150</td>\n",
       "      <td>10.0.0.7</td>\n",
       "      <td>0.0000</td>\n",
       "    </tr>\n",
       "    <tr>\n",
       "      <th>6378</th>\n",
       "      <td>150</td>\n",
       "      <td>10.0.0.8</td>\n",
       "      <td>-0.5200</td>\n",
       "    </tr>\n",
       "    <tr>\n",
       "      <th>6388</th>\n",
       "      <td>150</td>\n",
       "      <td>10.0.0.9</td>\n",
       "      <td>-0.2322</td>\n",
       "    </tr>\n",
       "  </tbody>\n",
       "</table>\n",
       "<p>1534 rows × 3 columns</p>\n",
       "</div>"
      ],
      "text/plain": [
       "      Second Destination  total_multiply\n",
       "0          1    10.0.0.1         -0.0275\n",
       "2          1   10.0.0.10         -0.0761\n",
       "5          1   10.0.0.11         -0.0951\n",
       "8          1   10.0.0.12         -0.1151\n",
       "12         1    10.0.0.2         -0.3931\n",
       "...      ...         ...             ...\n",
       "6367     150    10.0.0.5         -0.0400\n",
       "6369     150    10.0.0.6         -0.4131\n",
       "6377     150    10.0.0.7          0.0000\n",
       "6378     150    10.0.0.8         -0.5200\n",
       "6388     150    10.0.0.9         -0.2322\n",
       "\n",
       "[1534 rows x 3 columns]"
      ]
     },
     "execution_count": 29,
     "metadata": {},
     "output_type": "execute_result"
    }
   ],
   "source": [
    "# 将destination的概率和条件概率两个dataframe合并\n",
    "dest_len_entropy = pd.merge(dest_len_entropy, dest_p, on=['Second','Destination'], how='left')\n",
    "# 将两个概率相乘\n",
    "dest_len_entropy['total_multiply'] = round(dest_len_entropy['p_sum'] * dest_len_entropy['p'], 4)\n",
    "\n",
    "dest_len_entropy = dest_len_entropy[['Second','Destination','total_multiply']]\n",
    "# 扔掉重复行\n",
    "dest_len_entropy = dest_len_entropy.drop_duplicates()\n",
    "dest_len_entropy"
   ]
  },
  {
   "cell_type": "code",
   "execution_count": 30,
   "metadata": {},
   "outputs": [
    {
     "data": {
      "text/html": [
       "<div>\n",
       "<style scoped>\n",
       "    .dataframe tbody tr th:only-of-type {\n",
       "        vertical-align: middle;\n",
       "    }\n",
       "\n",
       "    .dataframe tbody tr th {\n",
       "        vertical-align: top;\n",
       "    }\n",
       "\n",
       "    .dataframe thead th {\n",
       "        text-align: right;\n",
       "    }\n",
       "</style>\n",
       "<table border=\"1\" class=\"dataframe\">\n",
       "  <thead>\n",
       "    <tr style=\"text-align: right;\">\n",
       "      <th></th>\n",
       "      <th>Second</th>\n",
       "      <th>total_multiply</th>\n",
       "    </tr>\n",
       "  </thead>\n",
       "  <tbody>\n",
       "    <tr>\n",
       "      <th>0</th>\n",
       "      <td>1</td>\n",
       "      <td>2.3160</td>\n",
       "    </tr>\n",
       "    <tr>\n",
       "      <th>1</th>\n",
       "      <td>2</td>\n",
       "      <td>2.4567</td>\n",
       "    </tr>\n",
       "    <tr>\n",
       "      <th>2</th>\n",
       "      <td>3</td>\n",
       "      <td>2.2668</td>\n",
       "    </tr>\n",
       "    <tr>\n",
       "      <th>3</th>\n",
       "      <td>4</td>\n",
       "      <td>2.3015</td>\n",
       "    </tr>\n",
       "    <tr>\n",
       "      <th>4</th>\n",
       "      <td>5</td>\n",
       "      <td>2.1568</td>\n",
       "    </tr>\n",
       "    <tr>\n",
       "      <th>...</th>\n",
       "      <td>...</td>\n",
       "      <td>...</td>\n",
       "    </tr>\n",
       "    <tr>\n",
       "      <th>145</th>\n",
       "      <td>146</td>\n",
       "      <td>2.2691</td>\n",
       "    </tr>\n",
       "    <tr>\n",
       "      <th>146</th>\n",
       "      <td>147</td>\n",
       "      <td>2.3355</td>\n",
       "    </tr>\n",
       "    <tr>\n",
       "      <th>147</th>\n",
       "      <td>148</td>\n",
       "      <td>2.3214</td>\n",
       "    </tr>\n",
       "    <tr>\n",
       "      <th>148</th>\n",
       "      <td>149</td>\n",
       "      <td>2.3798</td>\n",
       "    </tr>\n",
       "    <tr>\n",
       "      <th>149</th>\n",
       "      <td>150</td>\n",
       "      <td>2.4529</td>\n",
       "    </tr>\n",
       "  </tbody>\n",
       "</table>\n",
       "<p>150 rows × 2 columns</p>\n",
       "</div>"
      ],
      "text/plain": [
       "     Second  total_multiply\n",
       "0         1          2.3160\n",
       "1         2          2.4567\n",
       "2         3          2.2668\n",
       "3         4          2.3015\n",
       "4         5          2.1568\n",
       "..      ...             ...\n",
       "145     146          2.2691\n",
       "146     147          2.3355\n",
       "147     148          2.3214\n",
       "148     149          2.3798\n",
       "149     150          2.4529\n",
       "\n",
       "[150 rows x 2 columns]"
      ]
     },
     "execution_count": 30,
     "metadata": {},
     "output_type": "execute_result"
    }
   ],
   "source": [
    "# 把每个组的乘积加起来即为单熵\n",
    "dest_len_entropy = dest_len_entropy[['Second','total_multiply']].groupby(['Second']).sum()\n",
    "dest_len_entropy = dest_len_entropy.reset_index()\n",
    "# 取负数\n",
    "dest_len_entropy['total_multiply'] = dest_len_entropy['total_multiply'].apply(lambda x: -1*x if x != 0 else x)\n",
    "dest_len_entropy"
   ]
  },
  {
   "cell_type": "markdown",
   "metadata": {},
   "source": [
    "### Old Attack Method 1"
   ]
  },
  {
   "cell_type": "code",
   "execution_count": 31,
   "metadata": {},
   "outputs": [],
   "source": [
    "destination_entropy1 = destination_entropy.copy()"
   ]
  },
  {
   "cell_type": "code",
   "execution_count": 32,
   "metadata": {},
   "outputs": [
    {
     "data": {
      "text/html": [
       "<div>\n",
       "<style scoped>\n",
       "    .dataframe tbody tr th:only-of-type {\n",
       "        vertical-align: middle;\n",
       "    }\n",
       "\n",
       "    .dataframe tbody tr th {\n",
       "        vertical-align: top;\n",
       "    }\n",
       "\n",
       "    .dataframe thead th {\n",
       "        text-align: right;\n",
       "    }\n",
       "</style>\n",
       "<table border=\"1\" class=\"dataframe\">\n",
       "  <thead>\n",
       "    <tr style=\"text-align: right;\">\n",
       "      <th></th>\n",
       "      <th>Second</th>\n",
       "      <th>multiply</th>\n",
       "      <th>old_attack_m1</th>\n",
       "    </tr>\n",
       "  </thead>\n",
       "  <tbody>\n",
       "    <tr>\n",
       "      <th>0</th>\n",
       "      <td>1</td>\n",
       "      <td>3.4604</td>\n",
       "      <td>-1</td>\n",
       "    </tr>\n",
       "    <tr>\n",
       "      <th>1</th>\n",
       "      <td>2</td>\n",
       "      <td>3.2796</td>\n",
       "      <td>-1</td>\n",
       "    </tr>\n",
       "    <tr>\n",
       "      <th>2</th>\n",
       "      <td>3</td>\n",
       "      <td>3.3820</td>\n",
       "      <td>-1</td>\n",
       "    </tr>\n",
       "    <tr>\n",
       "      <th>3</th>\n",
       "      <td>4</td>\n",
       "      <td>3.4548</td>\n",
       "      <td>-1</td>\n",
       "    </tr>\n",
       "    <tr>\n",
       "      <th>4</th>\n",
       "      <td>5</td>\n",
       "      <td>3.5273</td>\n",
       "      <td>-1</td>\n",
       "    </tr>\n",
       "    <tr>\n",
       "      <th>...</th>\n",
       "      <td>...</td>\n",
       "      <td>...</td>\n",
       "      <td>...</td>\n",
       "    </tr>\n",
       "    <tr>\n",
       "      <th>145</th>\n",
       "      <td>146</td>\n",
       "      <td>3.4676</td>\n",
       "      <td>1</td>\n",
       "    </tr>\n",
       "    <tr>\n",
       "      <th>146</th>\n",
       "      <td>147</td>\n",
       "      <td>3.4485</td>\n",
       "      <td>1</td>\n",
       "    </tr>\n",
       "    <tr>\n",
       "      <th>147</th>\n",
       "      <td>148</td>\n",
       "      <td>3.2925</td>\n",
       "      <td>0</td>\n",
       "    </tr>\n",
       "    <tr>\n",
       "      <th>148</th>\n",
       "      <td>149</td>\n",
       "      <td>3.4441</td>\n",
       "      <td>1</td>\n",
       "    </tr>\n",
       "    <tr>\n",
       "      <th>149</th>\n",
       "      <td>150</td>\n",
       "      <td>3.2310</td>\n",
       "      <td>0</td>\n",
       "    </tr>\n",
       "  </tbody>\n",
       "</table>\n",
       "<p>150 rows × 3 columns</p>\n",
       "</div>"
      ],
      "text/plain": [
       "     Second  multiply  old_attack_m1\n",
       "0         1    3.4604             -1\n",
       "1         2    3.2796             -1\n",
       "2         3    3.3820             -1\n",
       "3         4    3.4548             -1\n",
       "4         5    3.5273             -1\n",
       "..      ...       ...            ...\n",
       "145     146    3.4676              1\n",
       "146     147    3.4485              1\n",
       "147     148    3.2925              0\n",
       "148     149    3.4441              1\n",
       "149     150    3.2310              0\n",
       "\n",
       "[150 rows x 3 columns]"
      ]
     },
     "execution_count": 32,
     "metadata": {},
     "output_type": "execute_result"
    }
   ],
   "source": [
    "first_10_avg = destination_entropy1['multiply'][:10].sum() / 10\n",
    "destination_entropy1['old_attack_m1'] = np.where(destination_entropy1['multiply'] < first_10_avg, 0, 1)\n",
    "destination_entropy1['old_attack_m1'].loc[:9] = -1\n",
    "destination_entropy1"
   ]
  },
  {
   "cell_type": "markdown",
   "metadata": {},
   "source": [
    "### Old Attack Method 2"
   ]
  },
  {
   "cell_type": "code",
   "execution_count": 33,
   "metadata": {},
   "outputs": [],
   "source": [
    "destination_entropy2 = destination_entropy.copy()"
   ]
  },
  {
   "cell_type": "code",
   "execution_count": 34,
   "metadata": {},
   "outputs": [
    {
     "data": {
      "text/html": [
       "<div>\n",
       "<style scoped>\n",
       "    .dataframe tbody tr th:only-of-type {\n",
       "        vertical-align: middle;\n",
       "    }\n",
       "\n",
       "    .dataframe tbody tr th {\n",
       "        vertical-align: top;\n",
       "    }\n",
       "\n",
       "    .dataframe thead th {\n",
       "        text-align: right;\n",
       "    }\n",
       "</style>\n",
       "<table border=\"1\" class=\"dataframe\">\n",
       "  <thead>\n",
       "    <tr style=\"text-align: right;\">\n",
       "      <th></th>\n",
       "      <th>Second</th>\n",
       "      <th>multiply</th>\n",
       "      <th>cum_sum</th>\n",
       "      <th>avg_entropy</th>\n",
       "      <th>old_attack_m2</th>\n",
       "    </tr>\n",
       "  </thead>\n",
       "  <tbody>\n",
       "    <tr>\n",
       "      <th>0</th>\n",
       "      <td>1</td>\n",
       "      <td>3.4604</td>\n",
       "      <td>3.4604</td>\n",
       "      <td>3.460400</td>\n",
       "      <td>-1</td>\n",
       "    </tr>\n",
       "    <tr>\n",
       "      <th>1</th>\n",
       "      <td>2</td>\n",
       "      <td>3.2796</td>\n",
       "      <td>6.7400</td>\n",
       "      <td>3.370000</td>\n",
       "      <td>-1</td>\n",
       "    </tr>\n",
       "    <tr>\n",
       "      <th>2</th>\n",
       "      <td>3</td>\n",
       "      <td>3.3820</td>\n",
       "      <td>10.1220</td>\n",
       "      <td>3.374000</td>\n",
       "      <td>-1</td>\n",
       "    </tr>\n",
       "    <tr>\n",
       "      <th>3</th>\n",
       "      <td>4</td>\n",
       "      <td>3.4548</td>\n",
       "      <td>13.5768</td>\n",
       "      <td>3.394200</td>\n",
       "      <td>-1</td>\n",
       "    </tr>\n",
       "    <tr>\n",
       "      <th>4</th>\n",
       "      <td>5</td>\n",
       "      <td>3.5273</td>\n",
       "      <td>17.1041</td>\n",
       "      <td>3.420820</td>\n",
       "      <td>-1</td>\n",
       "    </tr>\n",
       "    <tr>\n",
       "      <th>...</th>\n",
       "      <td>...</td>\n",
       "      <td>...</td>\n",
       "      <td>...</td>\n",
       "      <td>...</td>\n",
       "      <td>...</td>\n",
       "    </tr>\n",
       "    <tr>\n",
       "      <th>145</th>\n",
       "      <td>146</td>\n",
       "      <td>3.4676</td>\n",
       "      <td>328.2360</td>\n",
       "      <td>2.248192</td>\n",
       "      <td>1</td>\n",
       "    </tr>\n",
       "    <tr>\n",
       "      <th>146</th>\n",
       "      <td>147</td>\n",
       "      <td>3.4485</td>\n",
       "      <td>331.6845</td>\n",
       "      <td>2.256357</td>\n",
       "      <td>1</td>\n",
       "    </tr>\n",
       "    <tr>\n",
       "      <th>147</th>\n",
       "      <td>148</td>\n",
       "      <td>3.2925</td>\n",
       "      <td>334.9770</td>\n",
       "      <td>2.263358</td>\n",
       "      <td>1</td>\n",
       "    </tr>\n",
       "    <tr>\n",
       "      <th>148</th>\n",
       "      <td>149</td>\n",
       "      <td>3.4441</td>\n",
       "      <td>338.4211</td>\n",
       "      <td>2.271283</td>\n",
       "      <td>1</td>\n",
       "    </tr>\n",
       "    <tr>\n",
       "      <th>149</th>\n",
       "      <td>150</td>\n",
       "      <td>3.2310</td>\n",
       "      <td>341.6521</td>\n",
       "      <td>2.277681</td>\n",
       "      <td>1</td>\n",
       "    </tr>\n",
       "  </tbody>\n",
       "</table>\n",
       "<p>150 rows × 5 columns</p>\n",
       "</div>"
      ],
      "text/plain": [
       "     Second  multiply   cum_sum  avg_entropy  old_attack_m2\n",
       "0         1    3.4604    3.4604     3.460400             -1\n",
       "1         2    3.2796    6.7400     3.370000             -1\n",
       "2         3    3.3820   10.1220     3.374000             -1\n",
       "3         4    3.4548   13.5768     3.394200             -1\n",
       "4         5    3.5273   17.1041     3.420820             -1\n",
       "..      ...       ...       ...          ...            ...\n",
       "145     146    3.4676  328.2360     2.248192              1\n",
       "146     147    3.4485  331.6845     2.256357              1\n",
       "147     148    3.2925  334.9770     2.263358              1\n",
       "148     149    3.4441  338.4211     2.271283              1\n",
       "149     150    3.2310  341.6521     2.277681              1\n",
       "\n",
       "[150 rows x 5 columns]"
      ]
     },
     "execution_count": 34,
     "metadata": {},
     "output_type": "execute_result"
    }
   ],
   "source": [
    "destination_entropy2['cum_sum'] = destination_entropy2['multiply'].cumsum()\n",
    "destination_entropy2['avg_entropy'] = destination_entropy2['cum_sum'] / destination_entropy2['Second']\n",
    "destination_entropy2['old_attack_m2'] = np.where(destination_entropy2['multiply'] < destination_entropy2['avg_entropy'], 0, 1)\n",
    "destination_entropy2['old_attack_m2'].loc[:9] = -1\n",
    "destination_entropy2"
   ]
  },
  {
   "cell_type": "markdown",
   "metadata": {},
   "source": [
    "### TQV Attack Method 1"
   ]
  },
  {
   "cell_type": "code",
   "execution_count": 35,
   "metadata": {},
   "outputs": [],
   "source": [
    "tqv_dest_entropy_m1 = destination_entropy.copy()\n",
    "tqv_dest_src_entropy_m1 = dest_src_entropy.copy()\n",
    "tqv_dest_len_entropy_m1 = dest_len_entropy.copy()"
   ]
  },
  {
   "cell_type": "code",
   "execution_count": 36,
   "metadata": {},
   "outputs": [
    {
     "data": {
      "text/html": [
       "<div>\n",
       "<style scoped>\n",
       "    .dataframe tbody tr th:only-of-type {\n",
       "        vertical-align: middle;\n",
       "    }\n",
       "\n",
       "    .dataframe tbody tr th {\n",
       "        vertical-align: top;\n",
       "    }\n",
       "\n",
       "    .dataframe thead th {\n",
       "        text-align: right;\n",
       "    }\n",
       "</style>\n",
       "<table border=\"1\" class=\"dataframe\">\n",
       "  <thead>\n",
       "    <tr style=\"text-align: right;\">\n",
       "      <th></th>\n",
       "      <th>Second</th>\n",
       "      <th>multiply</th>\n",
       "      <th>dest_attack</th>\n",
       "    </tr>\n",
       "  </thead>\n",
       "  <tbody>\n",
       "    <tr>\n",
       "      <th>0</th>\n",
       "      <td>1</td>\n",
       "      <td>3.4604</td>\n",
       "      <td>-1</td>\n",
       "    </tr>\n",
       "    <tr>\n",
       "      <th>1</th>\n",
       "      <td>2</td>\n",
       "      <td>3.2796</td>\n",
       "      <td>-1</td>\n",
       "    </tr>\n",
       "    <tr>\n",
       "      <th>2</th>\n",
       "      <td>3</td>\n",
       "      <td>3.3820</td>\n",
       "      <td>-1</td>\n",
       "    </tr>\n",
       "    <tr>\n",
       "      <th>3</th>\n",
       "      <td>4</td>\n",
       "      <td>3.4548</td>\n",
       "      <td>-1</td>\n",
       "    </tr>\n",
       "    <tr>\n",
       "      <th>4</th>\n",
       "      <td>5</td>\n",
       "      <td>3.5273</td>\n",
       "      <td>-1</td>\n",
       "    </tr>\n",
       "    <tr>\n",
       "      <th>...</th>\n",
       "      <td>...</td>\n",
       "      <td>...</td>\n",
       "      <td>...</td>\n",
       "    </tr>\n",
       "    <tr>\n",
       "      <th>145</th>\n",
       "      <td>146</td>\n",
       "      <td>3.4676</td>\n",
       "      <td>1</td>\n",
       "    </tr>\n",
       "    <tr>\n",
       "      <th>146</th>\n",
       "      <td>147</td>\n",
       "      <td>3.4485</td>\n",
       "      <td>1</td>\n",
       "    </tr>\n",
       "    <tr>\n",
       "      <th>147</th>\n",
       "      <td>148</td>\n",
       "      <td>3.2925</td>\n",
       "      <td>0</td>\n",
       "    </tr>\n",
       "    <tr>\n",
       "      <th>148</th>\n",
       "      <td>149</td>\n",
       "      <td>3.4441</td>\n",
       "      <td>1</td>\n",
       "    </tr>\n",
       "    <tr>\n",
       "      <th>149</th>\n",
       "      <td>150</td>\n",
       "      <td>3.2310</td>\n",
       "      <td>0</td>\n",
       "    </tr>\n",
       "  </tbody>\n",
       "</table>\n",
       "<p>150 rows × 3 columns</p>\n",
       "</div>"
      ],
      "text/plain": [
       "     Second  multiply  dest_attack\n",
       "0         1    3.4604           -1\n",
       "1         2    3.2796           -1\n",
       "2         3    3.3820           -1\n",
       "3         4    3.4548           -1\n",
       "4         5    3.5273           -1\n",
       "..      ...       ...          ...\n",
       "145     146    3.4676            1\n",
       "146     147    3.4485            1\n",
       "147     148    3.2925            0\n",
       "148     149    3.4441            1\n",
       "149     150    3.2310            0\n",
       "\n",
       "[150 rows x 3 columns]"
      ]
     },
     "execution_count": 36,
     "metadata": {},
     "output_type": "execute_result"
    }
   ],
   "source": [
    "tqv_dest_first_10_avg = tqv_dest_entropy_m1['multiply'][:10].sum() / 10\n",
    "tqv_dest_entropy_m1['dest_attack'] = np.where(tqv_dest_entropy_m1['multiply'] < tqv_dest_first_10_avg, 0, 1)\n",
    "tqv_dest_entropy_m1['dest_attack'].loc[:9] = -1\n",
    "tqv_dest_entropy_m1"
   ]
  },
  {
   "cell_type": "code",
   "execution_count": 37,
   "metadata": {},
   "outputs": [
    {
     "data": {
      "text/html": [
       "<div>\n",
       "<style scoped>\n",
       "    .dataframe tbody tr th:only-of-type {\n",
       "        vertical-align: middle;\n",
       "    }\n",
       "\n",
       "    .dataframe tbody tr th {\n",
       "        vertical-align: top;\n",
       "    }\n",
       "\n",
       "    .dataframe thead th {\n",
       "        text-align: right;\n",
       "    }\n",
       "</style>\n",
       "<table border=\"1\" class=\"dataframe\">\n",
       "  <thead>\n",
       "    <tr style=\"text-align: right;\">\n",
       "      <th></th>\n",
       "      <th>Second</th>\n",
       "      <th>total_multiply</th>\n",
       "      <th>dest_src_attack</th>\n",
       "    </tr>\n",
       "  </thead>\n",
       "  <tbody>\n",
       "    <tr>\n",
       "      <th>0</th>\n",
       "      <td>1</td>\n",
       "      <td>2.2161</td>\n",
       "      <td>-1</td>\n",
       "    </tr>\n",
       "    <tr>\n",
       "      <th>1</th>\n",
       "      <td>2</td>\n",
       "      <td>2.2931</td>\n",
       "      <td>-1</td>\n",
       "    </tr>\n",
       "    <tr>\n",
       "      <th>2</th>\n",
       "      <td>3</td>\n",
       "      <td>2.2379</td>\n",
       "      <td>-1</td>\n",
       "    </tr>\n",
       "    <tr>\n",
       "      <th>3</th>\n",
       "      <td>4</td>\n",
       "      <td>2.1930</td>\n",
       "      <td>-1</td>\n",
       "    </tr>\n",
       "    <tr>\n",
       "      <th>4</th>\n",
       "      <td>5</td>\n",
       "      <td>2.2216</td>\n",
       "      <td>-1</td>\n",
       "    </tr>\n",
       "    <tr>\n",
       "      <th>...</th>\n",
       "      <td>...</td>\n",
       "      <td>...</td>\n",
       "      <td>...</td>\n",
       "    </tr>\n",
       "    <tr>\n",
       "      <th>145</th>\n",
       "      <td>146</td>\n",
       "      <td>2.2253</td>\n",
       "      <td>0</td>\n",
       "    </tr>\n",
       "    <tr>\n",
       "      <th>146</th>\n",
       "      <td>147</td>\n",
       "      <td>2.1833</td>\n",
       "      <td>0</td>\n",
       "    </tr>\n",
       "    <tr>\n",
       "      <th>147</th>\n",
       "      <td>148</td>\n",
       "      <td>2.4316</td>\n",
       "      <td>1</td>\n",
       "    </tr>\n",
       "    <tr>\n",
       "      <th>148</th>\n",
       "      <td>149</td>\n",
       "      <td>2.2447</td>\n",
       "      <td>1</td>\n",
       "    </tr>\n",
       "    <tr>\n",
       "      <th>149</th>\n",
       "      <td>150</td>\n",
       "      <td>2.5178</td>\n",
       "      <td>1</td>\n",
       "    </tr>\n",
       "  </tbody>\n",
       "</table>\n",
       "<p>150 rows × 3 columns</p>\n",
       "</div>"
      ],
      "text/plain": [
       "     Second  total_multiply  dest_src_attack\n",
       "0         1          2.2161               -1\n",
       "1         2          2.2931               -1\n",
       "2         3          2.2379               -1\n",
       "3         4          2.1930               -1\n",
       "4         5          2.2216               -1\n",
       "..      ...             ...              ...\n",
       "145     146          2.2253                0\n",
       "146     147          2.1833                0\n",
       "147     148          2.4316                1\n",
       "148     149          2.2447                1\n",
       "149     150          2.5178                1\n",
       "\n",
       "[150 rows x 3 columns]"
      ]
     },
     "execution_count": 37,
     "metadata": {},
     "output_type": "execute_result"
    }
   ],
   "source": [
    "tqv_dest_src_first_10_avg = tqv_dest_src_entropy_m1['total_multiply'][:10].sum() / 10\n",
    "tqv_dest_src_entropy_m1['dest_src_attack'] = np.where(tqv_dest_src_entropy_m1['total_multiply'] < tqv_dest_src_first_10_avg, 0, 1)\n",
    "tqv_dest_src_entropy_m1['dest_src_attack'].loc[:9] = -1\n",
    "tqv_dest_src_entropy_m1"
   ]
  },
  {
   "cell_type": "code",
   "execution_count": 38,
   "metadata": {},
   "outputs": [
    {
     "data": {
      "text/html": [
       "<div>\n",
       "<style scoped>\n",
       "    .dataframe tbody tr th:only-of-type {\n",
       "        vertical-align: middle;\n",
       "    }\n",
       "\n",
       "    .dataframe tbody tr th {\n",
       "        vertical-align: top;\n",
       "    }\n",
       "\n",
       "    .dataframe thead th {\n",
       "        text-align: right;\n",
       "    }\n",
       "</style>\n",
       "<table border=\"1\" class=\"dataframe\">\n",
       "  <thead>\n",
       "    <tr style=\"text-align: right;\">\n",
       "      <th></th>\n",
       "      <th>Second</th>\n",
       "      <th>total_multiply</th>\n",
       "      <th>dest_len_attack</th>\n",
       "    </tr>\n",
       "  </thead>\n",
       "  <tbody>\n",
       "    <tr>\n",
       "      <th>0</th>\n",
       "      <td>1</td>\n",
       "      <td>2.3160</td>\n",
       "      <td>-1</td>\n",
       "    </tr>\n",
       "    <tr>\n",
       "      <th>1</th>\n",
       "      <td>2</td>\n",
       "      <td>2.4567</td>\n",
       "      <td>-1</td>\n",
       "    </tr>\n",
       "    <tr>\n",
       "      <th>2</th>\n",
       "      <td>3</td>\n",
       "      <td>2.2668</td>\n",
       "      <td>-1</td>\n",
       "    </tr>\n",
       "    <tr>\n",
       "      <th>3</th>\n",
       "      <td>4</td>\n",
       "      <td>2.3015</td>\n",
       "      <td>-1</td>\n",
       "    </tr>\n",
       "    <tr>\n",
       "      <th>4</th>\n",
       "      <td>5</td>\n",
       "      <td>2.1568</td>\n",
       "      <td>-1</td>\n",
       "    </tr>\n",
       "    <tr>\n",
       "      <th>...</th>\n",
       "      <td>...</td>\n",
       "      <td>...</td>\n",
       "      <td>...</td>\n",
       "    </tr>\n",
       "    <tr>\n",
       "      <th>145</th>\n",
       "      <td>146</td>\n",
       "      <td>2.2691</td>\n",
       "      <td>0</td>\n",
       "    </tr>\n",
       "    <tr>\n",
       "      <th>146</th>\n",
       "      <td>147</td>\n",
       "      <td>2.3355</td>\n",
       "      <td>1</td>\n",
       "    </tr>\n",
       "    <tr>\n",
       "      <th>147</th>\n",
       "      <td>148</td>\n",
       "      <td>2.3214</td>\n",
       "      <td>1</td>\n",
       "    </tr>\n",
       "    <tr>\n",
       "      <th>148</th>\n",
       "      <td>149</td>\n",
       "      <td>2.3798</td>\n",
       "      <td>1</td>\n",
       "    </tr>\n",
       "    <tr>\n",
       "      <th>149</th>\n",
       "      <td>150</td>\n",
       "      <td>2.4529</td>\n",
       "      <td>1</td>\n",
       "    </tr>\n",
       "  </tbody>\n",
       "</table>\n",
       "<p>150 rows × 3 columns</p>\n",
       "</div>"
      ],
      "text/plain": [
       "     Second  total_multiply  dest_len_attack\n",
       "0         1          2.3160               -1\n",
       "1         2          2.4567               -1\n",
       "2         3          2.2668               -1\n",
       "3         4          2.3015               -1\n",
       "4         5          2.1568               -1\n",
       "..      ...             ...              ...\n",
       "145     146          2.2691                0\n",
       "146     147          2.3355                1\n",
       "147     148          2.3214                1\n",
       "148     149          2.3798                1\n",
       "149     150          2.4529                1\n",
       "\n",
       "[150 rows x 3 columns]"
      ]
     },
     "execution_count": 38,
     "metadata": {},
     "output_type": "execute_result"
    }
   ],
   "source": [
    "tqv_dest_len_first_10_avg = tqv_dest_len_entropy_m1['total_multiply'][:10].sum() / 10\n",
    "tqv_dest_len_entropy_m1['dest_len_attack'] = np.where(tqv_dest_len_entropy_m1['total_multiply'] < tqv_dest_len_first_10_avg, 0, 1)\n",
    "tqv_dest_len_entropy_m1['dest_len_attack'].loc[:9] = -1\n",
    "tqv_dest_len_entropy_m1"
   ]
  },
  {
   "cell_type": "code",
   "execution_count": 39,
   "metadata": {},
   "outputs": [
    {
     "data": {
      "text/html": [
       "<div>\n",
       "<style scoped>\n",
       "    .dataframe tbody tr th:only-of-type {\n",
       "        vertical-align: middle;\n",
       "    }\n",
       "\n",
       "    .dataframe tbody tr th {\n",
       "        vertical-align: top;\n",
       "    }\n",
       "\n",
       "    .dataframe thead th {\n",
       "        text-align: right;\n",
       "    }\n",
       "</style>\n",
       "<table border=\"1\" class=\"dataframe\">\n",
       "  <thead>\n",
       "    <tr style=\"text-align: right;\">\n",
       "      <th></th>\n",
       "      <th>Second</th>\n",
       "      <th>dest_attack</th>\n",
       "      <th>dest_src_attack</th>\n",
       "      <th>dest_len_attack</th>\n",
       "    </tr>\n",
       "  </thead>\n",
       "  <tbody>\n",
       "    <tr>\n",
       "      <th>0</th>\n",
       "      <td>1</td>\n",
       "      <td>-1</td>\n",
       "      <td>-1</td>\n",
       "      <td>-1</td>\n",
       "    </tr>\n",
       "    <tr>\n",
       "      <th>1</th>\n",
       "      <td>2</td>\n",
       "      <td>-1</td>\n",
       "      <td>-1</td>\n",
       "      <td>-1</td>\n",
       "    </tr>\n",
       "    <tr>\n",
       "      <th>2</th>\n",
       "      <td>3</td>\n",
       "      <td>-1</td>\n",
       "      <td>-1</td>\n",
       "      <td>-1</td>\n",
       "    </tr>\n",
       "    <tr>\n",
       "      <th>3</th>\n",
       "      <td>4</td>\n",
       "      <td>-1</td>\n",
       "      <td>-1</td>\n",
       "      <td>-1</td>\n",
       "    </tr>\n",
       "    <tr>\n",
       "      <th>4</th>\n",
       "      <td>5</td>\n",
       "      <td>-1</td>\n",
       "      <td>-1</td>\n",
       "      <td>-1</td>\n",
       "    </tr>\n",
       "    <tr>\n",
       "      <th>...</th>\n",
       "      <td>...</td>\n",
       "      <td>...</td>\n",
       "      <td>...</td>\n",
       "      <td>...</td>\n",
       "    </tr>\n",
       "    <tr>\n",
       "      <th>145</th>\n",
       "      <td>146</td>\n",
       "      <td>1</td>\n",
       "      <td>0</td>\n",
       "      <td>0</td>\n",
       "    </tr>\n",
       "    <tr>\n",
       "      <th>146</th>\n",
       "      <td>147</td>\n",
       "      <td>1</td>\n",
       "      <td>0</td>\n",
       "      <td>1</td>\n",
       "    </tr>\n",
       "    <tr>\n",
       "      <th>147</th>\n",
       "      <td>148</td>\n",
       "      <td>0</td>\n",
       "      <td>1</td>\n",
       "      <td>1</td>\n",
       "    </tr>\n",
       "    <tr>\n",
       "      <th>148</th>\n",
       "      <td>149</td>\n",
       "      <td>1</td>\n",
       "      <td>1</td>\n",
       "      <td>1</td>\n",
       "    </tr>\n",
       "    <tr>\n",
       "      <th>149</th>\n",
       "      <td>150</td>\n",
       "      <td>0</td>\n",
       "      <td>1</td>\n",
       "      <td>1</td>\n",
       "    </tr>\n",
       "  </tbody>\n",
       "</table>\n",
       "<p>150 rows × 4 columns</p>\n",
       "</div>"
      ],
      "text/plain": [
       "     Second  dest_attack  dest_src_attack  dest_len_attack\n",
       "0         1           -1               -1               -1\n",
       "1         2           -1               -1               -1\n",
       "2         3           -1               -1               -1\n",
       "3         4           -1               -1               -1\n",
       "4         5           -1               -1               -1\n",
       "..      ...          ...              ...              ...\n",
       "145     146            1                0                0\n",
       "146     147            1                0                1\n",
       "147     148            0                1                1\n",
       "148     149            1                1                1\n",
       "149     150            0                1                1\n",
       "\n",
       "[150 rows x 4 columns]"
      ]
     },
     "execution_count": 39,
     "metadata": {},
     "output_type": "execute_result"
    }
   ],
   "source": [
    "# merge three entropy attack together\n",
    "tqv_method1 = tqv_dest_entropy_m1[['Second','dest_attack']].merge(tqv_dest_src_entropy_m1[['Second','dest_src_attack']], on='Second')\n",
    "tqv_method1 = tqv_method1.merge(tqv_dest_len_entropy_m1[['Second','dest_len_attack']], on='Second')\n",
    "tqv_method1"
   ]
  },
  {
   "cell_type": "code",
   "execution_count": 40,
   "metadata": {},
   "outputs": [],
   "source": [
    "def tqv_attack_logic(row):\n",
    "    if row['dest_attack'] == 1:\n",
    "        return 1\n",
    "    elif row['dest_attack'] == 0 and row['dest_src_attack'] == 1 and row['dest_len_attack'] == 1:\n",
    "        return 1\n",
    "    elif row['dest_attack'] == 0 and row['dest_src_attack'] == 0 and row['dest_len_attack'] == 0 :\n",
    "        return 0\n",
    "    elif row['dest_attack'] == 0 and row['dest_src_attack'] == 1 and row['dest_len_attack'] == 0:\n",
    "        return 0\n",
    "    elif row['dest_attack'] == 0 and row['dest_src_attack'] == 0 and row['dest_len_attack'] == 1:\n",
    "        return 1\n",
    "    else:\n",
    "        # when encounters the first 10 rows\n",
    "        return -1"
   ]
  },
  {
   "cell_type": "code",
   "execution_count": 41,
   "metadata": {},
   "outputs": [
    {
     "data": {
      "text/html": [
       "<div>\n",
       "<style scoped>\n",
       "    .dataframe tbody tr th:only-of-type {\n",
       "        vertical-align: middle;\n",
       "    }\n",
       "\n",
       "    .dataframe tbody tr th {\n",
       "        vertical-align: top;\n",
       "    }\n",
       "\n",
       "    .dataframe thead th {\n",
       "        text-align: right;\n",
       "    }\n",
       "</style>\n",
       "<table border=\"1\" class=\"dataframe\">\n",
       "  <thead>\n",
       "    <tr style=\"text-align: right;\">\n",
       "      <th></th>\n",
       "      <th>Second</th>\n",
       "      <th>dest_attack</th>\n",
       "      <th>dest_src_attack</th>\n",
       "      <th>dest_len_attack</th>\n",
       "      <th>tqv_attack_m1</th>\n",
       "    </tr>\n",
       "  </thead>\n",
       "  <tbody>\n",
       "    <tr>\n",
       "      <th>0</th>\n",
       "      <td>1</td>\n",
       "      <td>-1</td>\n",
       "      <td>-1</td>\n",
       "      <td>-1</td>\n",
       "      <td>-1</td>\n",
       "    </tr>\n",
       "    <tr>\n",
       "      <th>1</th>\n",
       "      <td>2</td>\n",
       "      <td>-1</td>\n",
       "      <td>-1</td>\n",
       "      <td>-1</td>\n",
       "      <td>-1</td>\n",
       "    </tr>\n",
       "    <tr>\n",
       "      <th>2</th>\n",
       "      <td>3</td>\n",
       "      <td>-1</td>\n",
       "      <td>-1</td>\n",
       "      <td>-1</td>\n",
       "      <td>-1</td>\n",
       "    </tr>\n",
       "    <tr>\n",
       "      <th>3</th>\n",
       "      <td>4</td>\n",
       "      <td>-1</td>\n",
       "      <td>-1</td>\n",
       "      <td>-1</td>\n",
       "      <td>-1</td>\n",
       "    </tr>\n",
       "    <tr>\n",
       "      <th>4</th>\n",
       "      <td>5</td>\n",
       "      <td>-1</td>\n",
       "      <td>-1</td>\n",
       "      <td>-1</td>\n",
       "      <td>-1</td>\n",
       "    </tr>\n",
       "    <tr>\n",
       "      <th>...</th>\n",
       "      <td>...</td>\n",
       "      <td>...</td>\n",
       "      <td>...</td>\n",
       "      <td>...</td>\n",
       "      <td>...</td>\n",
       "    </tr>\n",
       "    <tr>\n",
       "      <th>145</th>\n",
       "      <td>146</td>\n",
       "      <td>1</td>\n",
       "      <td>0</td>\n",
       "      <td>0</td>\n",
       "      <td>1</td>\n",
       "    </tr>\n",
       "    <tr>\n",
       "      <th>146</th>\n",
       "      <td>147</td>\n",
       "      <td>1</td>\n",
       "      <td>0</td>\n",
       "      <td>1</td>\n",
       "      <td>1</td>\n",
       "    </tr>\n",
       "    <tr>\n",
       "      <th>147</th>\n",
       "      <td>148</td>\n",
       "      <td>0</td>\n",
       "      <td>1</td>\n",
       "      <td>1</td>\n",
       "      <td>1</td>\n",
       "    </tr>\n",
       "    <tr>\n",
       "      <th>148</th>\n",
       "      <td>149</td>\n",
       "      <td>1</td>\n",
       "      <td>1</td>\n",
       "      <td>1</td>\n",
       "      <td>1</td>\n",
       "    </tr>\n",
       "    <tr>\n",
       "      <th>149</th>\n",
       "      <td>150</td>\n",
       "      <td>0</td>\n",
       "      <td>1</td>\n",
       "      <td>1</td>\n",
       "      <td>1</td>\n",
       "    </tr>\n",
       "  </tbody>\n",
       "</table>\n",
       "<p>150 rows × 5 columns</p>\n",
       "</div>"
      ],
      "text/plain": [
       "     Second  dest_attack  dest_src_attack  dest_len_attack  tqv_attack_m1\n",
       "0         1           -1               -1               -1             -1\n",
       "1         2           -1               -1               -1             -1\n",
       "2         3           -1               -1               -1             -1\n",
       "3         4           -1               -1               -1             -1\n",
       "4         5           -1               -1               -1             -1\n",
       "..      ...          ...              ...              ...            ...\n",
       "145     146            1                0                0              1\n",
       "146     147            1                0                1              1\n",
       "147     148            0                1                1              1\n",
       "148     149            1                1                1              1\n",
       "149     150            0                1                1              1\n",
       "\n",
       "[150 rows x 5 columns]"
      ]
     },
     "execution_count": 41,
     "metadata": {},
     "output_type": "execute_result"
    }
   ],
   "source": [
    "tqv_method1['tqv_attack_m1'] = tqv_method1.apply(lambda row: tqv_attack_logic(row), axis=1)\n",
    "tqv_method1"
   ]
  },
  {
   "cell_type": "markdown",
   "metadata": {},
   "source": [
    "### TQV Attack Method 2"
   ]
  },
  {
   "cell_type": "code",
   "execution_count": 42,
   "metadata": {},
   "outputs": [],
   "source": [
    "tqv_dest_entropy_m2 = destination_entropy.copy()\n",
    "tqv_dest_src_entropy_m2 = dest_src_entropy.copy()\n",
    "tqv_dest_len_entropy_m2 = dest_len_entropy.copy()"
   ]
  },
  {
   "cell_type": "code",
   "execution_count": 43,
   "metadata": {},
   "outputs": [
    {
     "data": {
      "text/html": [
       "<div>\n",
       "<style scoped>\n",
       "    .dataframe tbody tr th:only-of-type {\n",
       "        vertical-align: middle;\n",
       "    }\n",
       "\n",
       "    .dataframe tbody tr th {\n",
       "        vertical-align: top;\n",
       "    }\n",
       "\n",
       "    .dataframe thead th {\n",
       "        text-align: right;\n",
       "    }\n",
       "</style>\n",
       "<table border=\"1\" class=\"dataframe\">\n",
       "  <thead>\n",
       "    <tr style=\"text-align: right;\">\n",
       "      <th></th>\n",
       "      <th>Second</th>\n",
       "      <th>multiply</th>\n",
       "      <th>cum_sum</th>\n",
       "      <th>avg_entropy</th>\n",
       "      <th>dest_attack</th>\n",
       "    </tr>\n",
       "  </thead>\n",
       "  <tbody>\n",
       "    <tr>\n",
       "      <th>0</th>\n",
       "      <td>1</td>\n",
       "      <td>3.4604</td>\n",
       "      <td>3.4604</td>\n",
       "      <td>3.460400</td>\n",
       "      <td>-1</td>\n",
       "    </tr>\n",
       "    <tr>\n",
       "      <th>1</th>\n",
       "      <td>2</td>\n",
       "      <td>3.2796</td>\n",
       "      <td>6.7400</td>\n",
       "      <td>3.370000</td>\n",
       "      <td>-1</td>\n",
       "    </tr>\n",
       "    <tr>\n",
       "      <th>2</th>\n",
       "      <td>3</td>\n",
       "      <td>3.3820</td>\n",
       "      <td>10.1220</td>\n",
       "      <td>3.374000</td>\n",
       "      <td>-1</td>\n",
       "    </tr>\n",
       "    <tr>\n",
       "      <th>3</th>\n",
       "      <td>4</td>\n",
       "      <td>3.4548</td>\n",
       "      <td>13.5768</td>\n",
       "      <td>3.394200</td>\n",
       "      <td>-1</td>\n",
       "    </tr>\n",
       "    <tr>\n",
       "      <th>4</th>\n",
       "      <td>5</td>\n",
       "      <td>3.5273</td>\n",
       "      <td>17.1041</td>\n",
       "      <td>3.420820</td>\n",
       "      <td>-1</td>\n",
       "    </tr>\n",
       "    <tr>\n",
       "      <th>...</th>\n",
       "      <td>...</td>\n",
       "      <td>...</td>\n",
       "      <td>...</td>\n",
       "      <td>...</td>\n",
       "      <td>...</td>\n",
       "    </tr>\n",
       "    <tr>\n",
       "      <th>145</th>\n",
       "      <td>146</td>\n",
       "      <td>3.4676</td>\n",
       "      <td>328.2360</td>\n",
       "      <td>2.248192</td>\n",
       "      <td>1</td>\n",
       "    </tr>\n",
       "    <tr>\n",
       "      <th>146</th>\n",
       "      <td>147</td>\n",
       "      <td>3.4485</td>\n",
       "      <td>331.6845</td>\n",
       "      <td>2.256357</td>\n",
       "      <td>1</td>\n",
       "    </tr>\n",
       "    <tr>\n",
       "      <th>147</th>\n",
       "      <td>148</td>\n",
       "      <td>3.2925</td>\n",
       "      <td>334.9770</td>\n",
       "      <td>2.263358</td>\n",
       "      <td>1</td>\n",
       "    </tr>\n",
       "    <tr>\n",
       "      <th>148</th>\n",
       "      <td>149</td>\n",
       "      <td>3.4441</td>\n",
       "      <td>338.4211</td>\n",
       "      <td>2.271283</td>\n",
       "      <td>1</td>\n",
       "    </tr>\n",
       "    <tr>\n",
       "      <th>149</th>\n",
       "      <td>150</td>\n",
       "      <td>3.2310</td>\n",
       "      <td>341.6521</td>\n",
       "      <td>2.277681</td>\n",
       "      <td>1</td>\n",
       "    </tr>\n",
       "  </tbody>\n",
       "</table>\n",
       "<p>150 rows × 5 columns</p>\n",
       "</div>"
      ],
      "text/plain": [
       "     Second  multiply   cum_sum  avg_entropy  dest_attack\n",
       "0         1    3.4604    3.4604     3.460400           -1\n",
       "1         2    3.2796    6.7400     3.370000           -1\n",
       "2         3    3.3820   10.1220     3.374000           -1\n",
       "3         4    3.4548   13.5768     3.394200           -1\n",
       "4         5    3.5273   17.1041     3.420820           -1\n",
       "..      ...       ...       ...          ...          ...\n",
       "145     146    3.4676  328.2360     2.248192            1\n",
       "146     147    3.4485  331.6845     2.256357            1\n",
       "147     148    3.2925  334.9770     2.263358            1\n",
       "148     149    3.4441  338.4211     2.271283            1\n",
       "149     150    3.2310  341.6521     2.277681            1\n",
       "\n",
       "[150 rows x 5 columns]"
      ]
     },
     "execution_count": 43,
     "metadata": {},
     "output_type": "execute_result"
    }
   ],
   "source": [
    "tqv_dest_entropy_m2['cum_sum'] = tqv_dest_entropy_m2['multiply'].cumsum()\n",
    "tqv_dest_entropy_m2['avg_entropy'] = tqv_dest_entropy_m2['cum_sum'] / tqv_dest_entropy_m2['Second']\n",
    "tqv_dest_entropy_m2['dest_attack'] = np.where(tqv_dest_entropy_m2['multiply'] < tqv_dest_entropy_m2['avg_entropy'], 0, 1)\n",
    "tqv_dest_entropy_m2['dest_attack'].loc[:9] = -1\n",
    "tqv_dest_entropy_m2"
   ]
  },
  {
   "cell_type": "code",
   "execution_count": 44,
   "metadata": {},
   "outputs": [
    {
     "data": {
      "text/html": [
       "<div>\n",
       "<style scoped>\n",
       "    .dataframe tbody tr th:only-of-type {\n",
       "        vertical-align: middle;\n",
       "    }\n",
       "\n",
       "    .dataframe tbody tr th {\n",
       "        vertical-align: top;\n",
       "    }\n",
       "\n",
       "    .dataframe thead th {\n",
       "        text-align: right;\n",
       "    }\n",
       "</style>\n",
       "<table border=\"1\" class=\"dataframe\">\n",
       "  <thead>\n",
       "    <tr style=\"text-align: right;\">\n",
       "      <th></th>\n",
       "      <th>Second</th>\n",
       "      <th>total_multiply</th>\n",
       "      <th>cum_sum</th>\n",
       "      <th>avg_entropy</th>\n",
       "      <th>dest_src_attack</th>\n",
       "    </tr>\n",
       "  </thead>\n",
       "  <tbody>\n",
       "    <tr>\n",
       "      <th>0</th>\n",
       "      <td>1</td>\n",
       "      <td>2.2161</td>\n",
       "      <td>2.2161</td>\n",
       "      <td>2.216100</td>\n",
       "      <td>-1</td>\n",
       "    </tr>\n",
       "    <tr>\n",
       "      <th>1</th>\n",
       "      <td>2</td>\n",
       "      <td>2.2931</td>\n",
       "      <td>4.5092</td>\n",
       "      <td>2.254600</td>\n",
       "      <td>-1</td>\n",
       "    </tr>\n",
       "    <tr>\n",
       "      <th>2</th>\n",
       "      <td>3</td>\n",
       "      <td>2.2379</td>\n",
       "      <td>6.7471</td>\n",
       "      <td>2.249033</td>\n",
       "      <td>-1</td>\n",
       "    </tr>\n",
       "    <tr>\n",
       "      <th>3</th>\n",
       "      <td>4</td>\n",
       "      <td>2.1930</td>\n",
       "      <td>8.9401</td>\n",
       "      <td>2.235025</td>\n",
       "      <td>-1</td>\n",
       "    </tr>\n",
       "    <tr>\n",
       "      <th>4</th>\n",
       "      <td>5</td>\n",
       "      <td>2.2216</td>\n",
       "      <td>11.1617</td>\n",
       "      <td>2.232340</td>\n",
       "      <td>-1</td>\n",
       "    </tr>\n",
       "    <tr>\n",
       "      <th>...</th>\n",
       "      <td>...</td>\n",
       "      <td>...</td>\n",
       "      <td>...</td>\n",
       "      <td>...</td>\n",
       "      <td>...</td>\n",
       "    </tr>\n",
       "    <tr>\n",
       "      <th>145</th>\n",
       "      <td>146</td>\n",
       "      <td>2.2253</td>\n",
       "      <td>400.9700</td>\n",
       "      <td>2.746370</td>\n",
       "      <td>0</td>\n",
       "    </tr>\n",
       "    <tr>\n",
       "      <th>146</th>\n",
       "      <td>147</td>\n",
       "      <td>2.1833</td>\n",
       "      <td>403.1533</td>\n",
       "      <td>2.742539</td>\n",
       "      <td>0</td>\n",
       "    </tr>\n",
       "    <tr>\n",
       "      <th>147</th>\n",
       "      <td>148</td>\n",
       "      <td>2.4316</td>\n",
       "      <td>405.5849</td>\n",
       "      <td>2.740439</td>\n",
       "      <td>0</td>\n",
       "    </tr>\n",
       "    <tr>\n",
       "      <th>148</th>\n",
       "      <td>149</td>\n",
       "      <td>2.2447</td>\n",
       "      <td>407.8296</td>\n",
       "      <td>2.737111</td>\n",
       "      <td>0</td>\n",
       "    </tr>\n",
       "    <tr>\n",
       "      <th>149</th>\n",
       "      <td>150</td>\n",
       "      <td>2.5178</td>\n",
       "      <td>410.3474</td>\n",
       "      <td>2.735649</td>\n",
       "      <td>0</td>\n",
       "    </tr>\n",
       "  </tbody>\n",
       "</table>\n",
       "<p>150 rows × 5 columns</p>\n",
       "</div>"
      ],
      "text/plain": [
       "     Second  total_multiply   cum_sum  avg_entropy  dest_src_attack\n",
       "0         1          2.2161    2.2161     2.216100               -1\n",
       "1         2          2.2931    4.5092     2.254600               -1\n",
       "2         3          2.2379    6.7471     2.249033               -1\n",
       "3         4          2.1930    8.9401     2.235025               -1\n",
       "4         5          2.2216   11.1617     2.232340               -1\n",
       "..      ...             ...       ...          ...              ...\n",
       "145     146          2.2253  400.9700     2.746370                0\n",
       "146     147          2.1833  403.1533     2.742539                0\n",
       "147     148          2.4316  405.5849     2.740439                0\n",
       "148     149          2.2447  407.8296     2.737111                0\n",
       "149     150          2.5178  410.3474     2.735649                0\n",
       "\n",
       "[150 rows x 5 columns]"
      ]
     },
     "execution_count": 44,
     "metadata": {},
     "output_type": "execute_result"
    }
   ],
   "source": [
    "tqv_dest_src_entropy_m2['cum_sum'] = tqv_dest_src_entropy_m2['total_multiply'].cumsum()\n",
    "tqv_dest_src_entropy_m2['avg_entropy'] = tqv_dest_src_entropy_m2['cum_sum'] / tqv_dest_src_entropy_m2['Second']\n",
    "tqv_dest_src_entropy_m2['dest_src_attack'] = np.where(tqv_dest_src_entropy_m2['total_multiply'] < tqv_dest_src_entropy_m2['avg_entropy'], 0, 1)\n",
    "tqv_dest_src_entropy_m2['dest_src_attack'].loc[:9] = -1\n",
    "tqv_dest_src_entropy_m2"
   ]
  },
  {
   "cell_type": "code",
   "execution_count": 45,
   "metadata": {},
   "outputs": [
    {
     "data": {
      "text/html": [
       "<div>\n",
       "<style scoped>\n",
       "    .dataframe tbody tr th:only-of-type {\n",
       "        vertical-align: middle;\n",
       "    }\n",
       "\n",
       "    .dataframe tbody tr th {\n",
       "        vertical-align: top;\n",
       "    }\n",
       "\n",
       "    .dataframe thead th {\n",
       "        text-align: right;\n",
       "    }\n",
       "</style>\n",
       "<table border=\"1\" class=\"dataframe\">\n",
       "  <thead>\n",
       "    <tr style=\"text-align: right;\">\n",
       "      <th></th>\n",
       "      <th>Second</th>\n",
       "      <th>total_multiply</th>\n",
       "      <th>cum_sum</th>\n",
       "      <th>avg_entropy</th>\n",
       "      <th>dest_len_attack</th>\n",
       "    </tr>\n",
       "  </thead>\n",
       "  <tbody>\n",
       "    <tr>\n",
       "      <th>0</th>\n",
       "      <td>1</td>\n",
       "      <td>2.3160</td>\n",
       "      <td>2.3160</td>\n",
       "      <td>2.316000</td>\n",
       "      <td>-1</td>\n",
       "    </tr>\n",
       "    <tr>\n",
       "      <th>1</th>\n",
       "      <td>2</td>\n",
       "      <td>2.4567</td>\n",
       "      <td>4.7727</td>\n",
       "      <td>2.386350</td>\n",
       "      <td>-1</td>\n",
       "    </tr>\n",
       "    <tr>\n",
       "      <th>2</th>\n",
       "      <td>3</td>\n",
       "      <td>2.2668</td>\n",
       "      <td>7.0395</td>\n",
       "      <td>2.346500</td>\n",
       "      <td>-1</td>\n",
       "    </tr>\n",
       "    <tr>\n",
       "      <th>3</th>\n",
       "      <td>4</td>\n",
       "      <td>2.3015</td>\n",
       "      <td>9.3410</td>\n",
       "      <td>2.335250</td>\n",
       "      <td>-1</td>\n",
       "    </tr>\n",
       "    <tr>\n",
       "      <th>4</th>\n",
       "      <td>5</td>\n",
       "      <td>2.1568</td>\n",
       "      <td>11.4978</td>\n",
       "      <td>2.299560</td>\n",
       "      <td>-1</td>\n",
       "    </tr>\n",
       "    <tr>\n",
       "      <th>...</th>\n",
       "      <td>...</td>\n",
       "      <td>...</td>\n",
       "      <td>...</td>\n",
       "      <td>...</td>\n",
       "      <td>...</td>\n",
       "    </tr>\n",
       "    <tr>\n",
       "      <th>145</th>\n",
       "      <td>146</td>\n",
       "      <td>2.2691</td>\n",
       "      <td>290.2126</td>\n",
       "      <td>1.987758</td>\n",
       "      <td>1</td>\n",
       "    </tr>\n",
       "    <tr>\n",
       "      <th>146</th>\n",
       "      <td>147</td>\n",
       "      <td>2.3355</td>\n",
       "      <td>292.5481</td>\n",
       "      <td>1.990123</td>\n",
       "      <td>1</td>\n",
       "    </tr>\n",
       "    <tr>\n",
       "      <th>147</th>\n",
       "      <td>148</td>\n",
       "      <td>2.3214</td>\n",
       "      <td>294.8695</td>\n",
       "      <td>1.992361</td>\n",
       "      <td>1</td>\n",
       "    </tr>\n",
       "    <tr>\n",
       "      <th>148</th>\n",
       "      <td>149</td>\n",
       "      <td>2.3798</td>\n",
       "      <td>297.2493</td>\n",
       "      <td>1.994962</td>\n",
       "      <td>1</td>\n",
       "    </tr>\n",
       "    <tr>\n",
       "      <th>149</th>\n",
       "      <td>150</td>\n",
       "      <td>2.4529</td>\n",
       "      <td>299.7022</td>\n",
       "      <td>1.998015</td>\n",
       "      <td>1</td>\n",
       "    </tr>\n",
       "  </tbody>\n",
       "</table>\n",
       "<p>150 rows × 5 columns</p>\n",
       "</div>"
      ],
      "text/plain": [
       "     Second  total_multiply   cum_sum  avg_entropy  dest_len_attack\n",
       "0         1          2.3160    2.3160     2.316000               -1\n",
       "1         2          2.4567    4.7727     2.386350               -1\n",
       "2         3          2.2668    7.0395     2.346500               -1\n",
       "3         4          2.3015    9.3410     2.335250               -1\n",
       "4         5          2.1568   11.4978     2.299560               -1\n",
       "..      ...             ...       ...          ...              ...\n",
       "145     146          2.2691  290.2126     1.987758                1\n",
       "146     147          2.3355  292.5481     1.990123                1\n",
       "147     148          2.3214  294.8695     1.992361                1\n",
       "148     149          2.3798  297.2493     1.994962                1\n",
       "149     150          2.4529  299.7022     1.998015                1\n",
       "\n",
       "[150 rows x 5 columns]"
      ]
     },
     "execution_count": 45,
     "metadata": {},
     "output_type": "execute_result"
    }
   ],
   "source": [
    "tqv_dest_len_entropy_m2['cum_sum'] = tqv_dest_len_entropy_m2['total_multiply'].cumsum()\n",
    "tqv_dest_len_entropy_m2['avg_entropy'] = tqv_dest_len_entropy_m2['cum_sum'] / tqv_dest_len_entropy_m2['Second']\n",
    "tqv_dest_len_entropy_m2['dest_len_attack'] = np.where(tqv_dest_len_entropy_m2['total_multiply'] < tqv_dest_len_entropy_m2['avg_entropy'], 0, 1)\n",
    "tqv_dest_len_entropy_m2['dest_len_attack'].loc[:9] = -1\n",
    "tqv_dest_len_entropy_m2"
   ]
  },
  {
   "cell_type": "code",
   "execution_count": 46,
   "metadata": {},
   "outputs": [
    {
     "data": {
      "text/html": [
       "<div>\n",
       "<style scoped>\n",
       "    .dataframe tbody tr th:only-of-type {\n",
       "        vertical-align: middle;\n",
       "    }\n",
       "\n",
       "    .dataframe tbody tr th {\n",
       "        vertical-align: top;\n",
       "    }\n",
       "\n",
       "    .dataframe thead th {\n",
       "        text-align: right;\n",
       "    }\n",
       "</style>\n",
       "<table border=\"1\" class=\"dataframe\">\n",
       "  <thead>\n",
       "    <tr style=\"text-align: right;\">\n",
       "      <th></th>\n",
       "      <th>Second</th>\n",
       "      <th>dest_attack</th>\n",
       "      <th>dest_src_attack</th>\n",
       "      <th>dest_len_attack</th>\n",
       "    </tr>\n",
       "  </thead>\n",
       "  <tbody>\n",
       "    <tr>\n",
       "      <th>0</th>\n",
       "      <td>1</td>\n",
       "      <td>-1</td>\n",
       "      <td>-1</td>\n",
       "      <td>-1</td>\n",
       "    </tr>\n",
       "    <tr>\n",
       "      <th>1</th>\n",
       "      <td>2</td>\n",
       "      <td>-1</td>\n",
       "      <td>-1</td>\n",
       "      <td>-1</td>\n",
       "    </tr>\n",
       "    <tr>\n",
       "      <th>2</th>\n",
       "      <td>3</td>\n",
       "      <td>-1</td>\n",
       "      <td>-1</td>\n",
       "      <td>-1</td>\n",
       "    </tr>\n",
       "    <tr>\n",
       "      <th>3</th>\n",
       "      <td>4</td>\n",
       "      <td>-1</td>\n",
       "      <td>-1</td>\n",
       "      <td>-1</td>\n",
       "    </tr>\n",
       "    <tr>\n",
       "      <th>4</th>\n",
       "      <td>5</td>\n",
       "      <td>-1</td>\n",
       "      <td>-1</td>\n",
       "      <td>-1</td>\n",
       "    </tr>\n",
       "    <tr>\n",
       "      <th>...</th>\n",
       "      <td>...</td>\n",
       "      <td>...</td>\n",
       "      <td>...</td>\n",
       "      <td>...</td>\n",
       "    </tr>\n",
       "    <tr>\n",
       "      <th>145</th>\n",
       "      <td>146</td>\n",
       "      <td>1</td>\n",
       "      <td>0</td>\n",
       "      <td>1</td>\n",
       "    </tr>\n",
       "    <tr>\n",
       "      <th>146</th>\n",
       "      <td>147</td>\n",
       "      <td>1</td>\n",
       "      <td>0</td>\n",
       "      <td>1</td>\n",
       "    </tr>\n",
       "    <tr>\n",
       "      <th>147</th>\n",
       "      <td>148</td>\n",
       "      <td>1</td>\n",
       "      <td>0</td>\n",
       "      <td>1</td>\n",
       "    </tr>\n",
       "    <tr>\n",
       "      <th>148</th>\n",
       "      <td>149</td>\n",
       "      <td>1</td>\n",
       "      <td>0</td>\n",
       "      <td>1</td>\n",
       "    </tr>\n",
       "    <tr>\n",
       "      <th>149</th>\n",
       "      <td>150</td>\n",
       "      <td>1</td>\n",
       "      <td>0</td>\n",
       "      <td>1</td>\n",
       "    </tr>\n",
       "  </tbody>\n",
       "</table>\n",
       "<p>150 rows × 4 columns</p>\n",
       "</div>"
      ],
      "text/plain": [
       "     Second  dest_attack  dest_src_attack  dest_len_attack\n",
       "0         1           -1               -1               -1\n",
       "1         2           -1               -1               -1\n",
       "2         3           -1               -1               -1\n",
       "3         4           -1               -1               -1\n",
       "4         5           -1               -1               -1\n",
       "..      ...          ...              ...              ...\n",
       "145     146            1                0                1\n",
       "146     147            1                0                1\n",
       "147     148            1                0                1\n",
       "148     149            1                0                1\n",
       "149     150            1                0                1\n",
       "\n",
       "[150 rows x 4 columns]"
      ]
     },
     "execution_count": 46,
     "metadata": {},
     "output_type": "execute_result"
    }
   ],
   "source": [
    "# merge three entropy attack together\n",
    "tqv_method2 = tqv_dest_entropy_m2[['Second','dest_attack']].merge(tqv_dest_src_entropy_m2[['Second','dest_src_attack']], on='Second')\n",
    "tqv_method2 = tqv_method2.merge(tqv_dest_len_entropy_m2[['Second','dest_len_attack']], on='Second')\n",
    "tqv_method2"
   ]
  },
  {
   "cell_type": "code",
   "execution_count": 47,
   "metadata": {},
   "outputs": [
    {
     "data": {
      "text/html": [
       "<div>\n",
       "<style scoped>\n",
       "    .dataframe tbody tr th:only-of-type {\n",
       "        vertical-align: middle;\n",
       "    }\n",
       "\n",
       "    .dataframe tbody tr th {\n",
       "        vertical-align: top;\n",
       "    }\n",
       "\n",
       "    .dataframe thead th {\n",
       "        text-align: right;\n",
       "    }\n",
       "</style>\n",
       "<table border=\"1\" class=\"dataframe\">\n",
       "  <thead>\n",
       "    <tr style=\"text-align: right;\">\n",
       "      <th></th>\n",
       "      <th>Second</th>\n",
       "      <th>dest_attack</th>\n",
       "      <th>dest_src_attack</th>\n",
       "      <th>dest_len_attack</th>\n",
       "      <th>tqv_attack_m2</th>\n",
       "    </tr>\n",
       "  </thead>\n",
       "  <tbody>\n",
       "    <tr>\n",
       "      <th>0</th>\n",
       "      <td>1</td>\n",
       "      <td>-1</td>\n",
       "      <td>-1</td>\n",
       "      <td>-1</td>\n",
       "      <td>-1</td>\n",
       "    </tr>\n",
       "    <tr>\n",
       "      <th>1</th>\n",
       "      <td>2</td>\n",
       "      <td>-1</td>\n",
       "      <td>-1</td>\n",
       "      <td>-1</td>\n",
       "      <td>-1</td>\n",
       "    </tr>\n",
       "    <tr>\n",
       "      <th>2</th>\n",
       "      <td>3</td>\n",
       "      <td>-1</td>\n",
       "      <td>-1</td>\n",
       "      <td>-1</td>\n",
       "      <td>-1</td>\n",
       "    </tr>\n",
       "    <tr>\n",
       "      <th>3</th>\n",
       "      <td>4</td>\n",
       "      <td>-1</td>\n",
       "      <td>-1</td>\n",
       "      <td>-1</td>\n",
       "      <td>-1</td>\n",
       "    </tr>\n",
       "    <tr>\n",
       "      <th>4</th>\n",
       "      <td>5</td>\n",
       "      <td>-1</td>\n",
       "      <td>-1</td>\n",
       "      <td>-1</td>\n",
       "      <td>-1</td>\n",
       "    </tr>\n",
       "    <tr>\n",
       "      <th>...</th>\n",
       "      <td>...</td>\n",
       "      <td>...</td>\n",
       "      <td>...</td>\n",
       "      <td>...</td>\n",
       "      <td>...</td>\n",
       "    </tr>\n",
       "    <tr>\n",
       "      <th>145</th>\n",
       "      <td>146</td>\n",
       "      <td>1</td>\n",
       "      <td>0</td>\n",
       "      <td>1</td>\n",
       "      <td>1</td>\n",
       "    </tr>\n",
       "    <tr>\n",
       "      <th>146</th>\n",
       "      <td>147</td>\n",
       "      <td>1</td>\n",
       "      <td>0</td>\n",
       "      <td>1</td>\n",
       "      <td>1</td>\n",
       "    </tr>\n",
       "    <tr>\n",
       "      <th>147</th>\n",
       "      <td>148</td>\n",
       "      <td>1</td>\n",
       "      <td>0</td>\n",
       "      <td>1</td>\n",
       "      <td>1</td>\n",
       "    </tr>\n",
       "    <tr>\n",
       "      <th>148</th>\n",
       "      <td>149</td>\n",
       "      <td>1</td>\n",
       "      <td>0</td>\n",
       "      <td>1</td>\n",
       "      <td>1</td>\n",
       "    </tr>\n",
       "    <tr>\n",
       "      <th>149</th>\n",
       "      <td>150</td>\n",
       "      <td>1</td>\n",
       "      <td>0</td>\n",
       "      <td>1</td>\n",
       "      <td>1</td>\n",
       "    </tr>\n",
       "  </tbody>\n",
       "</table>\n",
       "<p>150 rows × 5 columns</p>\n",
       "</div>"
      ],
      "text/plain": [
       "     Second  dest_attack  dest_src_attack  dest_len_attack  tqv_attack_m2\n",
       "0         1           -1               -1               -1             -1\n",
       "1         2           -1               -1               -1             -1\n",
       "2         3           -1               -1               -1             -1\n",
       "3         4           -1               -1               -1             -1\n",
       "4         5           -1               -1               -1             -1\n",
       "..      ...          ...              ...              ...            ...\n",
       "145     146            1                0                1              1\n",
       "146     147            1                0                1              1\n",
       "147     148            1                0                1              1\n",
       "148     149            1                0                1              1\n",
       "149     150            1                0                1              1\n",
       "\n",
       "[150 rows x 5 columns]"
      ]
     },
     "execution_count": 47,
     "metadata": {},
     "output_type": "execute_result"
    }
   ],
   "source": [
    "tqv_method2['tqv_attack_m2'] = tqv_method2.apply(lambda row: tqv_attack_logic(row), axis=1)\n",
    "tqv_method2"
   ]
  },
  {
   "cell_type": "markdown",
   "metadata": {},
   "source": [
    "### TQV Attack Method 3"
   ]
  },
  {
   "cell_type": "code",
   "execution_count": 48,
   "metadata": {},
   "outputs": [],
   "source": [
    "tqv_dest_entropy_m3 = destination_entropy.copy()\n",
    "tqv_dest_src_entropy_m3 = dest_src_entropy.copy()\n",
    "tqv_dest_len_entropy_m3 = dest_len_entropy.copy()"
   ]
  },
  {
   "cell_type": "code",
   "execution_count": 49,
   "metadata": {},
   "outputs": [],
   "source": [
    "def check_attack(row, key, lower_, higher_):\n",
    "\n",
    "    if row[key] >= lower_ and row[key] <= higher_:\n",
    "        return 2\n",
    "    elif row[key] < lower_:\n",
    "        return 0\n",
    "    elif row[key] > higher_:\n",
    "        return 1"
   ]
  },
  {
   "cell_type": "code",
   "execution_count": 94,
   "metadata": {},
   "outputs": [
    {
     "name": "stdout",
     "output_type": "stream",
     "text": [
      "dest 1到10s平均熵的0.9至1.1倍为: [3.2882015565434024, 3.5605984434565974]\n"
     ]
    },
    {
     "data": {
      "text/html": [
       "<div>\n",
       "<style scoped>\n",
       "    .dataframe tbody tr th:only-of-type {\n",
       "        vertical-align: middle;\n",
       "    }\n",
       "\n",
       "    .dataframe tbody tr th {\n",
       "        vertical-align: top;\n",
       "    }\n",
       "\n",
       "    .dataframe thead th {\n",
       "        text-align: right;\n",
       "    }\n",
       "</style>\n",
       "<table border=\"1\" class=\"dataframe\">\n",
       "  <thead>\n",
       "    <tr style=\"text-align: right;\">\n",
       "      <th></th>\n",
       "      <th>Second</th>\n",
       "      <th>multiply</th>\n",
       "      <th>cum_sum</th>\n",
       "      <th>avg_entropy</th>\n",
       "      <th>dest_attack</th>\n",
       "    </tr>\n",
       "  </thead>\n",
       "  <tbody>\n",
       "    <tr>\n",
       "      <th>0</th>\n",
       "      <td>1</td>\n",
       "      <td>3.4604</td>\n",
       "      <td>3.4604</td>\n",
       "      <td>3.460400</td>\n",
       "      <td>-1</td>\n",
       "    </tr>\n",
       "    <tr>\n",
       "      <th>1</th>\n",
       "      <td>2</td>\n",
       "      <td>3.2796</td>\n",
       "      <td>6.7400</td>\n",
       "      <td>3.370000</td>\n",
       "      <td>-1</td>\n",
       "    </tr>\n",
       "    <tr>\n",
       "      <th>2</th>\n",
       "      <td>3</td>\n",
       "      <td>3.3820</td>\n",
       "      <td>10.1220</td>\n",
       "      <td>3.374000</td>\n",
       "      <td>-1</td>\n",
       "    </tr>\n",
       "    <tr>\n",
       "      <th>3</th>\n",
       "      <td>4</td>\n",
       "      <td>3.4548</td>\n",
       "      <td>13.5768</td>\n",
       "      <td>3.394200</td>\n",
       "      <td>-1</td>\n",
       "    </tr>\n",
       "    <tr>\n",
       "      <th>4</th>\n",
       "      <td>5</td>\n",
       "      <td>3.5273</td>\n",
       "      <td>17.1041</td>\n",
       "      <td>3.420820</td>\n",
       "      <td>-1</td>\n",
       "    </tr>\n",
       "    <tr>\n",
       "      <th>...</th>\n",
       "      <td>...</td>\n",
       "      <td>...</td>\n",
       "      <td>...</td>\n",
       "      <td>...</td>\n",
       "      <td>...</td>\n",
       "    </tr>\n",
       "    <tr>\n",
       "      <th>145</th>\n",
       "      <td>146</td>\n",
       "      <td>3.4676</td>\n",
       "      <td>328.2360</td>\n",
       "      <td>2.248192</td>\n",
       "      <td>2</td>\n",
       "    </tr>\n",
       "    <tr>\n",
       "      <th>146</th>\n",
       "      <td>147</td>\n",
       "      <td>3.4485</td>\n",
       "      <td>331.6845</td>\n",
       "      <td>2.256357</td>\n",
       "      <td>2</td>\n",
       "    </tr>\n",
       "    <tr>\n",
       "      <th>147</th>\n",
       "      <td>148</td>\n",
       "      <td>3.2925</td>\n",
       "      <td>334.9770</td>\n",
       "      <td>2.263358</td>\n",
       "      <td>2</td>\n",
       "    </tr>\n",
       "    <tr>\n",
       "      <th>148</th>\n",
       "      <td>149</td>\n",
       "      <td>3.4441</td>\n",
       "      <td>338.4211</td>\n",
       "      <td>2.271283</td>\n",
       "      <td>2</td>\n",
       "    </tr>\n",
       "    <tr>\n",
       "      <th>149</th>\n",
       "      <td>150</td>\n",
       "      <td>3.2310</td>\n",
       "      <td>341.6521</td>\n",
       "      <td>2.277681</td>\n",
       "      <td>0</td>\n",
       "    </tr>\n",
       "  </tbody>\n",
       "</table>\n",
       "<p>150 rows × 5 columns</p>\n",
       "</div>"
      ],
      "text/plain": [
       "     Second  multiply   cum_sum  avg_entropy  dest_attack\n",
       "0         1    3.4604    3.4604     3.460400           -1\n",
       "1         2    3.2796    6.7400     3.370000           -1\n",
       "2         3    3.3820   10.1220     3.374000           -1\n",
       "3         4    3.4548   13.5768     3.394200           -1\n",
       "4         5    3.5273   17.1041     3.420820           -1\n",
       "..      ...       ...       ...          ...          ...\n",
       "145     146    3.4676  328.2360     2.248192            2\n",
       "146     147    3.4485  331.6845     2.256357            2\n",
       "147     148    3.2925  334.9770     2.263358            2\n",
       "148     149    3.4441  338.4211     2.271283            2\n",
       "149     150    3.2310  341.6521     2.277681            0\n",
       "\n",
       "[150 rows x 5 columns]"
      ]
     },
     "execution_count": 94,
     "metadata": {},
     "output_type": "execute_result"
    }
   ],
   "source": [
    "tqv_dest_entropy_m3['cum_sum'] = tqv_dest_entropy_m3['multiply'].cumsum()\n",
    "tqv_dest_entropy_m3['avg_entropy'] = tqv_dest_entropy_m3['cum_sum'] / tqv_dest_entropy_m3['Second']\n",
    "\n",
    "# get 1-10s avergae entropy\n",
    "# dest_lower_ = 0.9 * tqv_dest_entropy_m3['avg_entropy'][9]\n",
    "# dest_higher_ = 1.1 * tqv_dest_entropy_m3['avg_entropy'][9]\n",
    "\n",
    "# use std\n",
    "dest_lower_ = tqv_dest_entropy_m3['avg_entropy'][9] - 2 * np.std(tqv_dest_entropy_m3['multiply'][:10])\n",
    "dest_higher_ = tqv_dest_entropy_m3['avg_entropy'][9] + 2 * np.std(tqv_dest_entropy_m3['multiply'][:10])\n",
    "\n",
    "print(f'dest 1到10s平均熵的0.9至1.1倍为: [{dest_lower_}, {dest_higher_}]')\n",
    "\n",
    "tqv_dest_entropy_m3['dest_attack'] = tqv_dest_entropy_m3.apply(lambda row: check_attack(row, 'multiply', dest_lower_, dest_higher_), axis=1)\n",
    "tqv_dest_entropy_m3['dest_attack'].loc[:9] = -1\n",
    "tqv_dest_entropy_m3"
   ]
  },
  {
   "cell_type": "code",
   "execution_count": 101,
   "metadata": {},
   "outputs": [
    {
     "name": "stdout",
     "output_type": "stream",
     "text": [
      "平均为: 2.2269200000000002    dest_src 1到10s平均熵的0.9至1.1倍为: [2.131205098338869, 2.3226349016611314]\n"
     ]
    },
    {
     "data": {
      "text/html": [
       "<div>\n",
       "<style scoped>\n",
       "    .dataframe tbody tr th:only-of-type {\n",
       "        vertical-align: middle;\n",
       "    }\n",
       "\n",
       "    .dataframe tbody tr th {\n",
       "        vertical-align: top;\n",
       "    }\n",
       "\n",
       "    .dataframe thead th {\n",
       "        text-align: right;\n",
       "    }\n",
       "</style>\n",
       "<table border=\"1\" class=\"dataframe\">\n",
       "  <thead>\n",
       "    <tr style=\"text-align: right;\">\n",
       "      <th></th>\n",
       "      <th>Second</th>\n",
       "      <th>total_multiply</th>\n",
       "      <th>cum_sum</th>\n",
       "      <th>avg_entropy</th>\n",
       "      <th>dest_src_attack</th>\n",
       "    </tr>\n",
       "  </thead>\n",
       "  <tbody>\n",
       "    <tr>\n",
       "      <th>0</th>\n",
       "      <td>1</td>\n",
       "      <td>2.2161</td>\n",
       "      <td>2.2161</td>\n",
       "      <td>2.216100</td>\n",
       "      <td>-1</td>\n",
       "    </tr>\n",
       "    <tr>\n",
       "      <th>1</th>\n",
       "      <td>2</td>\n",
       "      <td>2.2931</td>\n",
       "      <td>4.5092</td>\n",
       "      <td>2.254600</td>\n",
       "      <td>-1</td>\n",
       "    </tr>\n",
       "    <tr>\n",
       "      <th>2</th>\n",
       "      <td>3</td>\n",
       "      <td>2.2379</td>\n",
       "      <td>6.7471</td>\n",
       "      <td>2.249033</td>\n",
       "      <td>-1</td>\n",
       "    </tr>\n",
       "    <tr>\n",
       "      <th>3</th>\n",
       "      <td>4</td>\n",
       "      <td>2.1930</td>\n",
       "      <td>8.9401</td>\n",
       "      <td>2.235025</td>\n",
       "      <td>-1</td>\n",
       "    </tr>\n",
       "    <tr>\n",
       "      <th>4</th>\n",
       "      <td>5</td>\n",
       "      <td>2.2216</td>\n",
       "      <td>11.1617</td>\n",
       "      <td>2.232340</td>\n",
       "      <td>-1</td>\n",
       "    </tr>\n",
       "    <tr>\n",
       "      <th>...</th>\n",
       "      <td>...</td>\n",
       "      <td>...</td>\n",
       "      <td>...</td>\n",
       "      <td>...</td>\n",
       "      <td>...</td>\n",
       "    </tr>\n",
       "    <tr>\n",
       "      <th>145</th>\n",
       "      <td>146</td>\n",
       "      <td>2.2253</td>\n",
       "      <td>400.9700</td>\n",
       "      <td>2.746370</td>\n",
       "      <td>2</td>\n",
       "    </tr>\n",
       "    <tr>\n",
       "      <th>146</th>\n",
       "      <td>147</td>\n",
       "      <td>2.1833</td>\n",
       "      <td>403.1533</td>\n",
       "      <td>2.742539</td>\n",
       "      <td>2</td>\n",
       "    </tr>\n",
       "    <tr>\n",
       "      <th>147</th>\n",
       "      <td>148</td>\n",
       "      <td>2.4316</td>\n",
       "      <td>405.5849</td>\n",
       "      <td>2.740439</td>\n",
       "      <td>1</td>\n",
       "    </tr>\n",
       "    <tr>\n",
       "      <th>148</th>\n",
       "      <td>149</td>\n",
       "      <td>2.2447</td>\n",
       "      <td>407.8296</td>\n",
       "      <td>2.737111</td>\n",
       "      <td>2</td>\n",
       "    </tr>\n",
       "    <tr>\n",
       "      <th>149</th>\n",
       "      <td>150</td>\n",
       "      <td>2.5178</td>\n",
       "      <td>410.3474</td>\n",
       "      <td>2.735649</td>\n",
       "      <td>1</td>\n",
       "    </tr>\n",
       "  </tbody>\n",
       "</table>\n",
       "<p>150 rows × 5 columns</p>\n",
       "</div>"
      ],
      "text/plain": [
       "     Second  total_multiply   cum_sum  avg_entropy  dest_src_attack\n",
       "0         1          2.2161    2.2161     2.216100               -1\n",
       "1         2          2.2931    4.5092     2.254600               -1\n",
       "2         3          2.2379    6.7471     2.249033               -1\n",
       "3         4          2.1930    8.9401     2.235025               -1\n",
       "4         5          2.2216   11.1617     2.232340               -1\n",
       "..      ...             ...       ...          ...              ...\n",
       "145     146          2.2253  400.9700     2.746370                2\n",
       "146     147          2.1833  403.1533     2.742539                2\n",
       "147     148          2.4316  405.5849     2.740439                1\n",
       "148     149          2.2447  407.8296     2.737111                2\n",
       "149     150          2.5178  410.3474     2.735649                1\n",
       "\n",
       "[150 rows x 5 columns]"
      ]
     },
     "execution_count": 101,
     "metadata": {},
     "output_type": "execute_result"
    }
   ],
   "source": [
    "tqv_dest_src_entropy_m3['cum_sum'] = tqv_dest_src_entropy_m3['total_multiply'].cumsum()\n",
    "tqv_dest_src_entropy_m3['avg_entropy'] = tqv_dest_src_entropy_m3['cum_sum'] / tqv_dest_src_entropy_m3['Second']\n",
    "\n",
    "# get 1-10s avergae entropy\n",
    "# dest_src_lower_ = 0.9 * tqv_dest_src_entropy_m3['avg_entropy'][9]\n",
    "# dest_src_higher_ = 1.1 * tqv_dest_src_entropy_m3['avg_entropy'][9]\n",
    "\n",
    "dest_src_lower_ = tqv_dest_src_entropy_m3['avg_entropy'][9] - 2 * np.std(tqv_dest_src_entropy_m3['total_multiply'][:10])\n",
    "dest_src_higher_ = tqv_dest_src_entropy_m3['avg_entropy'][9] + 2 * np.std(tqv_dest_src_entropy_m3['total_multiply'][:10])\n",
    "\n",
    "print(f'平均为: {tqv_dest_src_entropy_m3[\"avg_entropy\"][9]}\\\n",
    "    dest_src 1到10s平均熵的0.9至1.1倍为: [{dest_src_lower_}, {dest_src_higher_}]')\n",
    "\n",
    "tqv_dest_src_entropy_m3['dest_src_attack'] = tqv_dest_src_entropy_m3.apply(lambda row: check_attack(row, 'total_multiply',dest_src_lower_,dest_src_higher_), axis=1)\n",
    "tqv_dest_src_entropy_m3['dest_src_attack'].loc[:9] = -1\n",
    "tqv_dest_src_entropy_m3"
   ]
  },
  {
   "cell_type": "code",
   "execution_count": 102,
   "metadata": {},
   "outputs": [
    {
     "name": "stdout",
     "output_type": "stream",
     "text": [
      "dest_len 1到10s平均熵的0.9至1.1倍为: [2.126927953409042, 2.455232046590958]\n"
     ]
    },
    {
     "data": {
      "text/html": [
       "<div>\n",
       "<style scoped>\n",
       "    .dataframe tbody tr th:only-of-type {\n",
       "        vertical-align: middle;\n",
       "    }\n",
       "\n",
       "    .dataframe tbody tr th {\n",
       "        vertical-align: top;\n",
       "    }\n",
       "\n",
       "    .dataframe thead th {\n",
       "        text-align: right;\n",
       "    }\n",
       "</style>\n",
       "<table border=\"1\" class=\"dataframe\">\n",
       "  <thead>\n",
       "    <tr style=\"text-align: right;\">\n",
       "      <th></th>\n",
       "      <th>Second</th>\n",
       "      <th>total_multiply</th>\n",
       "      <th>cum_sum</th>\n",
       "      <th>avg_entropy</th>\n",
       "      <th>dest_len_attack</th>\n",
       "    </tr>\n",
       "  </thead>\n",
       "  <tbody>\n",
       "    <tr>\n",
       "      <th>0</th>\n",
       "      <td>1</td>\n",
       "      <td>2.3160</td>\n",
       "      <td>2.3160</td>\n",
       "      <td>2.316000</td>\n",
       "      <td>-1</td>\n",
       "    </tr>\n",
       "    <tr>\n",
       "      <th>1</th>\n",
       "      <td>2</td>\n",
       "      <td>2.4567</td>\n",
       "      <td>4.7727</td>\n",
       "      <td>2.386350</td>\n",
       "      <td>-1</td>\n",
       "    </tr>\n",
       "    <tr>\n",
       "      <th>2</th>\n",
       "      <td>3</td>\n",
       "      <td>2.2668</td>\n",
       "      <td>7.0395</td>\n",
       "      <td>2.346500</td>\n",
       "      <td>-1</td>\n",
       "    </tr>\n",
       "    <tr>\n",
       "      <th>3</th>\n",
       "      <td>4</td>\n",
       "      <td>2.3015</td>\n",
       "      <td>9.3410</td>\n",
       "      <td>2.335250</td>\n",
       "      <td>-1</td>\n",
       "    </tr>\n",
       "    <tr>\n",
       "      <th>4</th>\n",
       "      <td>5</td>\n",
       "      <td>2.1568</td>\n",
       "      <td>11.4978</td>\n",
       "      <td>2.299560</td>\n",
       "      <td>-1</td>\n",
       "    </tr>\n",
       "    <tr>\n",
       "      <th>...</th>\n",
       "      <td>...</td>\n",
       "      <td>...</td>\n",
       "      <td>...</td>\n",
       "      <td>...</td>\n",
       "      <td>...</td>\n",
       "    </tr>\n",
       "    <tr>\n",
       "      <th>145</th>\n",
       "      <td>146</td>\n",
       "      <td>2.2691</td>\n",
       "      <td>290.2126</td>\n",
       "      <td>1.987758</td>\n",
       "      <td>2</td>\n",
       "    </tr>\n",
       "    <tr>\n",
       "      <th>146</th>\n",
       "      <td>147</td>\n",
       "      <td>2.3355</td>\n",
       "      <td>292.5481</td>\n",
       "      <td>1.990123</td>\n",
       "      <td>2</td>\n",
       "    </tr>\n",
       "    <tr>\n",
       "      <th>147</th>\n",
       "      <td>148</td>\n",
       "      <td>2.3214</td>\n",
       "      <td>294.8695</td>\n",
       "      <td>1.992361</td>\n",
       "      <td>2</td>\n",
       "    </tr>\n",
       "    <tr>\n",
       "      <th>148</th>\n",
       "      <td>149</td>\n",
       "      <td>2.3798</td>\n",
       "      <td>297.2493</td>\n",
       "      <td>1.994962</td>\n",
       "      <td>2</td>\n",
       "    </tr>\n",
       "    <tr>\n",
       "      <th>149</th>\n",
       "      <td>150</td>\n",
       "      <td>2.4529</td>\n",
       "      <td>299.7022</td>\n",
       "      <td>1.998015</td>\n",
       "      <td>2</td>\n",
       "    </tr>\n",
       "  </tbody>\n",
       "</table>\n",
       "<p>150 rows × 5 columns</p>\n",
       "</div>"
      ],
      "text/plain": [
       "     Second  total_multiply   cum_sum  avg_entropy  dest_len_attack\n",
       "0         1          2.3160    2.3160     2.316000               -1\n",
       "1         2          2.4567    4.7727     2.386350               -1\n",
       "2         3          2.2668    7.0395     2.346500               -1\n",
       "3         4          2.3015    9.3410     2.335250               -1\n",
       "4         5          2.1568   11.4978     2.299560               -1\n",
       "..      ...             ...       ...          ...              ...\n",
       "145     146          2.2691  290.2126     1.987758                2\n",
       "146     147          2.3355  292.5481     1.990123                2\n",
       "147     148          2.3214  294.8695     1.992361                2\n",
       "148     149          2.3798  297.2493     1.994962                2\n",
       "149     150          2.4529  299.7022     1.998015                2\n",
       "\n",
       "[150 rows x 5 columns]"
      ]
     },
     "execution_count": 102,
     "metadata": {},
     "output_type": "execute_result"
    }
   ],
   "source": [
    "tqv_dest_len_entropy_m3['cum_sum'] = tqv_dest_len_entropy_m3['total_multiply'].cumsum()\n",
    "tqv_dest_len_entropy_m3['avg_entropy'] = tqv_dest_len_entropy_m3['cum_sum'] / tqv_dest_len_entropy_m3['Second']\n",
    "\n",
    "# get 1-10s avergae entropy\n",
    "# dest_len_lower_ = 0.9 * tqv_dest_len_entropy_m3['avg_entropy'][9]\n",
    "# dest_len_higher_ = 1.1 * tqv_dest_len_entropy_m3['avg_entropy'][9]\n",
    "\n",
    "dest_len_lower_ = tqv_dest_len_entropy_m3['avg_entropy'][9] - 2 * np.std(tqv_dest_len_entropy_m3['total_multiply'][:10])\n",
    "dest_len_higher_ = tqv_dest_len_entropy_m3['avg_entropy'][9] + 2 * np.std(tqv_dest_len_entropy_m3['total_multiply'][:10])\n",
    "\n",
    "print(f'dest_len 1到10s平均熵的0.9至1.1倍为: [{dest_len_lower_}, {dest_len_higher_}]')\n",
    "\n",
    "tqv_dest_len_entropy_m3['dest_len_attack'] = tqv_dest_len_entropy_m3.apply(lambda row: check_attack(row, 'total_multiply',dest_len_lower_,dest_len_higher_), axis=1)\n",
    "tqv_dest_len_entropy_m3['dest_len_attack'].loc[:9] = -1\n",
    "tqv_dest_len_entropy_m3"
   ]
  },
  {
   "cell_type": "code",
   "execution_count": 78,
   "metadata": {},
   "outputs": [
    {
     "data": {
      "text/html": [
       "<div>\n",
       "<style scoped>\n",
       "    .dataframe tbody tr th:only-of-type {\n",
       "        vertical-align: middle;\n",
       "    }\n",
       "\n",
       "    .dataframe tbody tr th {\n",
       "        vertical-align: top;\n",
       "    }\n",
       "\n",
       "    .dataframe thead th {\n",
       "        text-align: right;\n",
       "    }\n",
       "</style>\n",
       "<table border=\"1\" class=\"dataframe\">\n",
       "  <thead>\n",
       "    <tr style=\"text-align: right;\">\n",
       "      <th></th>\n",
       "      <th>Second</th>\n",
       "      <th>dest_attack</th>\n",
       "      <th>dest_src_attack</th>\n",
       "      <th>dest_len_attack</th>\n",
       "    </tr>\n",
       "  </thead>\n",
       "  <tbody>\n",
       "    <tr>\n",
       "      <th>0</th>\n",
       "      <td>1</td>\n",
       "      <td>-1</td>\n",
       "      <td>-1</td>\n",
       "      <td>-1</td>\n",
       "    </tr>\n",
       "    <tr>\n",
       "      <th>1</th>\n",
       "      <td>2</td>\n",
       "      <td>-1</td>\n",
       "      <td>-1</td>\n",
       "      <td>-1</td>\n",
       "    </tr>\n",
       "    <tr>\n",
       "      <th>2</th>\n",
       "      <td>3</td>\n",
       "      <td>-1</td>\n",
       "      <td>-1</td>\n",
       "      <td>-1</td>\n",
       "    </tr>\n",
       "    <tr>\n",
       "      <th>3</th>\n",
       "      <td>4</td>\n",
       "      <td>-1</td>\n",
       "      <td>-1</td>\n",
       "      <td>-1</td>\n",
       "    </tr>\n",
       "    <tr>\n",
       "      <th>4</th>\n",
       "      <td>5</td>\n",
       "      <td>-1</td>\n",
       "      <td>-1</td>\n",
       "      <td>-1</td>\n",
       "    </tr>\n",
       "    <tr>\n",
       "      <th>...</th>\n",
       "      <td>...</td>\n",
       "      <td>...</td>\n",
       "      <td>...</td>\n",
       "      <td>...</td>\n",
       "    </tr>\n",
       "    <tr>\n",
       "      <th>145</th>\n",
       "      <td>146</td>\n",
       "      <td>2</td>\n",
       "      <td>2</td>\n",
       "      <td>2</td>\n",
       "    </tr>\n",
       "    <tr>\n",
       "      <th>146</th>\n",
       "      <td>147</td>\n",
       "      <td>2</td>\n",
       "      <td>2</td>\n",
       "      <td>2</td>\n",
       "    </tr>\n",
       "    <tr>\n",
       "      <th>147</th>\n",
       "      <td>148</td>\n",
       "      <td>2</td>\n",
       "      <td>1</td>\n",
       "      <td>2</td>\n",
       "    </tr>\n",
       "    <tr>\n",
       "      <th>148</th>\n",
       "      <td>149</td>\n",
       "      <td>2</td>\n",
       "      <td>2</td>\n",
       "      <td>2</td>\n",
       "    </tr>\n",
       "    <tr>\n",
       "      <th>149</th>\n",
       "      <td>150</td>\n",
       "      <td>0</td>\n",
       "      <td>1</td>\n",
       "      <td>2</td>\n",
       "    </tr>\n",
       "  </tbody>\n",
       "</table>\n",
       "<p>150 rows × 4 columns</p>\n",
       "</div>"
      ],
      "text/plain": [
       "     Second  dest_attack  dest_src_attack  dest_len_attack\n",
       "0         1           -1               -1               -1\n",
       "1         2           -1               -1               -1\n",
       "2         3           -1               -1               -1\n",
       "3         4           -1               -1               -1\n",
       "4         5           -1               -1               -1\n",
       "..      ...          ...              ...              ...\n",
       "145     146            2                2                2\n",
       "146     147            2                2                2\n",
       "147     148            2                1                2\n",
       "148     149            2                2                2\n",
       "149     150            0                1                2\n",
       "\n",
       "[150 rows x 4 columns]"
      ]
     },
     "execution_count": 78,
     "metadata": {},
     "output_type": "execute_result"
    }
   ],
   "source": [
    "# merge three entropy attack together\n",
    "tqv_method3 = tqv_dest_entropy_m3[['Second','dest_attack']].merge(tqv_dest_src_entropy_m3[['Second','dest_src_attack']], on='Second')\n",
    "tqv_method3 = tqv_method3.merge(tqv_dest_len_entropy_m3[['Second','dest_len_attack']], on='Second')\n",
    "tqv_method3"
   ]
  },
  {
   "cell_type": "code",
   "execution_count": 79,
   "metadata": {},
   "outputs": [],
   "source": [
    "def new_tqv_attack_logic(row):\n",
    "    if row['dest_attack'] == 1:\n",
    "        return 1\n",
    "    elif row['dest_attack'] == 2:\n",
    "        if row['dest_src_attack'] == 2 and row['dest_len_attack'] == 2:\n",
    "            return 1\n",
    "        else:\n",
    "            return 0\n",
    "    elif row['dest_attack'] == 0 and row['dest_src_attack'] == 1 and row['dest_len_attack'] == 1:\n",
    "        return 1\n",
    "    elif row['dest_attack'] == 0 and row['dest_src_attack'] == 0 and row['dest_len_attack'] == 0 :\n",
    "        return 0\n",
    "    elif row['dest_attack'] == 0 and row['dest_src_attack'] == 1 and row['dest_len_attack'] == 0:\n",
    "        return 0\n",
    "    elif row['dest_attack'] == 0:\n",
    "        return 0\n",
    "    # elif row['dest_attack'] == 0 and row['dest_src_attack'] == 0 and row['dest_len_attack'] == 1:\n",
    "        #return 1\n",
    "    else:\n",
    "        # when encounters the first 10 rows\n",
    "        return -1"
   ]
  },
  {
   "cell_type": "code",
   "execution_count": 80,
   "metadata": {},
   "outputs": [
    {
     "data": {
      "text/html": [
       "<div>\n",
       "<style scoped>\n",
       "    .dataframe tbody tr th:only-of-type {\n",
       "        vertical-align: middle;\n",
       "    }\n",
       "\n",
       "    .dataframe tbody tr th {\n",
       "        vertical-align: top;\n",
       "    }\n",
       "\n",
       "    .dataframe thead th {\n",
       "        text-align: right;\n",
       "    }\n",
       "</style>\n",
       "<table border=\"1\" class=\"dataframe\">\n",
       "  <thead>\n",
       "    <tr style=\"text-align: right;\">\n",
       "      <th></th>\n",
       "      <th>Second</th>\n",
       "      <th>dest_attack</th>\n",
       "      <th>dest_src_attack</th>\n",
       "      <th>dest_len_attack</th>\n",
       "      <th>tqv_attack_m3</th>\n",
       "    </tr>\n",
       "  </thead>\n",
       "  <tbody>\n",
       "    <tr>\n",
       "      <th>0</th>\n",
       "      <td>1</td>\n",
       "      <td>-1</td>\n",
       "      <td>-1</td>\n",
       "      <td>-1</td>\n",
       "      <td>-1</td>\n",
       "    </tr>\n",
       "    <tr>\n",
       "      <th>1</th>\n",
       "      <td>2</td>\n",
       "      <td>-1</td>\n",
       "      <td>-1</td>\n",
       "      <td>-1</td>\n",
       "      <td>-1</td>\n",
       "    </tr>\n",
       "    <tr>\n",
       "      <th>2</th>\n",
       "      <td>3</td>\n",
       "      <td>-1</td>\n",
       "      <td>-1</td>\n",
       "      <td>-1</td>\n",
       "      <td>-1</td>\n",
       "    </tr>\n",
       "    <tr>\n",
       "      <th>3</th>\n",
       "      <td>4</td>\n",
       "      <td>-1</td>\n",
       "      <td>-1</td>\n",
       "      <td>-1</td>\n",
       "      <td>-1</td>\n",
       "    </tr>\n",
       "    <tr>\n",
       "      <th>4</th>\n",
       "      <td>5</td>\n",
       "      <td>-1</td>\n",
       "      <td>-1</td>\n",
       "      <td>-1</td>\n",
       "      <td>-1</td>\n",
       "    </tr>\n",
       "    <tr>\n",
       "      <th>...</th>\n",
       "      <td>...</td>\n",
       "      <td>...</td>\n",
       "      <td>...</td>\n",
       "      <td>...</td>\n",
       "      <td>...</td>\n",
       "    </tr>\n",
       "    <tr>\n",
       "      <th>145</th>\n",
       "      <td>146</td>\n",
       "      <td>2</td>\n",
       "      <td>2</td>\n",
       "      <td>2</td>\n",
       "      <td>1</td>\n",
       "    </tr>\n",
       "    <tr>\n",
       "      <th>146</th>\n",
       "      <td>147</td>\n",
       "      <td>2</td>\n",
       "      <td>2</td>\n",
       "      <td>2</td>\n",
       "      <td>1</td>\n",
       "    </tr>\n",
       "    <tr>\n",
       "      <th>147</th>\n",
       "      <td>148</td>\n",
       "      <td>2</td>\n",
       "      <td>1</td>\n",
       "      <td>2</td>\n",
       "      <td>0</td>\n",
       "    </tr>\n",
       "    <tr>\n",
       "      <th>148</th>\n",
       "      <td>149</td>\n",
       "      <td>2</td>\n",
       "      <td>2</td>\n",
       "      <td>2</td>\n",
       "      <td>1</td>\n",
       "    </tr>\n",
       "    <tr>\n",
       "      <th>149</th>\n",
       "      <td>150</td>\n",
       "      <td>0</td>\n",
       "      <td>1</td>\n",
       "      <td>2</td>\n",
       "      <td>0</td>\n",
       "    </tr>\n",
       "  </tbody>\n",
       "</table>\n",
       "<p>150 rows × 5 columns</p>\n",
       "</div>"
      ],
      "text/plain": [
       "     Second  dest_attack  dest_src_attack  dest_len_attack  tqv_attack_m3\n",
       "0         1           -1               -1               -1             -1\n",
       "1         2           -1               -1               -1             -1\n",
       "2         3           -1               -1               -1             -1\n",
       "3         4           -1               -1               -1             -1\n",
       "4         5           -1               -1               -1             -1\n",
       "..      ...          ...              ...              ...            ...\n",
       "145     146            2                2                2              1\n",
       "146     147            2                2                2              1\n",
       "147     148            2                1                2              0\n",
       "148     149            2                2                2              1\n",
       "149     150            0                1                2              0\n",
       "\n",
       "[150 rows x 5 columns]"
      ]
     },
     "execution_count": 80,
     "metadata": {},
     "output_type": "execute_result"
    }
   ],
   "source": [
    "tqv_method3['tqv_attack_m3'] = tqv_method3.apply(lambda row: new_tqv_attack_logic(row), axis=1)\n",
    "tqv_method3"
   ]
  },
  {
   "cell_type": "markdown",
   "metadata": {},
   "source": [
    "### F1, Recall, Precesion"
   ]
  },
  {
   "cell_type": "code",
   "execution_count": 81,
   "metadata": {},
   "outputs": [
    {
     "data": {
      "text/html": [
       "<div>\n",
       "<style scoped>\n",
       "    .dataframe tbody tr th:only-of-type {\n",
       "        vertical-align: middle;\n",
       "    }\n",
       "\n",
       "    .dataframe tbody tr th {\n",
       "        vertical-align: top;\n",
       "    }\n",
       "\n",
       "    .dataframe thead th {\n",
       "        text-align: right;\n",
       "    }\n",
       "</style>\n",
       "<table border=\"1\" class=\"dataframe\">\n",
       "  <thead>\n",
       "    <tr style=\"text-align: right;\">\n",
       "      <th></th>\n",
       "      <th>Second</th>\n",
       "      <th>true_attack</th>\n",
       "    </tr>\n",
       "  </thead>\n",
       "  <tbody>\n",
       "    <tr>\n",
       "      <th>0</th>\n",
       "      <td>2</td>\n",
       "      <td>-1</td>\n",
       "    </tr>\n",
       "    <tr>\n",
       "      <th>1</th>\n",
       "      <td>3</td>\n",
       "      <td>-1</td>\n",
       "    </tr>\n",
       "    <tr>\n",
       "      <th>2</th>\n",
       "      <td>4</td>\n",
       "      <td>-1</td>\n",
       "    </tr>\n",
       "    <tr>\n",
       "      <th>3</th>\n",
       "      <td>5</td>\n",
       "      <td>-1</td>\n",
       "    </tr>\n",
       "    <tr>\n",
       "      <th>4</th>\n",
       "      <td>6</td>\n",
       "      <td>-1</td>\n",
       "    </tr>\n",
       "    <tr>\n",
       "      <th>...</th>\n",
       "      <td>...</td>\n",
       "      <td>...</td>\n",
       "    </tr>\n",
       "    <tr>\n",
       "      <th>144</th>\n",
       "      <td>146</td>\n",
       "      <td>1</td>\n",
       "    </tr>\n",
       "    <tr>\n",
       "      <th>145</th>\n",
       "      <td>147</td>\n",
       "      <td>1</td>\n",
       "    </tr>\n",
       "    <tr>\n",
       "      <th>146</th>\n",
       "      <td>148</td>\n",
       "      <td>1</td>\n",
       "    </tr>\n",
       "    <tr>\n",
       "      <th>147</th>\n",
       "      <td>149</td>\n",
       "      <td>1</td>\n",
       "    </tr>\n",
       "    <tr>\n",
       "      <th>148</th>\n",
       "      <td>150</td>\n",
       "      <td>1</td>\n",
       "    </tr>\n",
       "  </tbody>\n",
       "</table>\n",
       "<p>149 rows × 2 columns</p>\n",
       "</div>"
      ],
      "text/plain": [
       "     Second  true_attack\n",
       "0         2           -1\n",
       "1         3           -1\n",
       "2         4           -1\n",
       "3         5           -1\n",
       "4         6           -1\n",
       "..      ...          ...\n",
       "144     146            1\n",
       "145     147            1\n",
       "146     148            1\n",
       "147     149            1\n",
       "148     150            1\n",
       "\n",
       "[149 rows x 2 columns]"
      ]
     },
     "execution_count": 81,
     "metadata": {},
     "output_type": "execute_result"
    }
   ],
   "source": [
    "# prepare everything for calculation\n",
    "true_attack = pd.read_csv('./data/port-ver3-packets.csv', usecols=['Interval start', 'Attack'])\n",
    "true_attack = true_attack.iloc[1:].reset_index(drop=True)\n",
    "true_attack = true_attack.rename(columns={'Interval start': 'Second', 'Attack': 'true_attack'})\n",
    "true_attack['true_attack'] = true_attack['true_attack'].replace('-', -1)\n",
    "true_attack['true_attack'] = true_attack['true_attack'].astype(int)\n",
    "true_attack"
   ]
  },
  {
   "cell_type": "code",
   "execution_count": 82,
   "metadata": {},
   "outputs": [
    {
     "data": {
      "text/html": [
       "<div>\n",
       "<style scoped>\n",
       "    .dataframe tbody tr th:only-of-type {\n",
       "        vertical-align: middle;\n",
       "    }\n",
       "\n",
       "    .dataframe tbody tr th {\n",
       "        vertical-align: top;\n",
       "    }\n",
       "\n",
       "    .dataframe thead th {\n",
       "        text-align: right;\n",
       "    }\n",
       "</style>\n",
       "<table border=\"1\" class=\"dataframe\">\n",
       "  <thead>\n",
       "    <tr style=\"text-align: right;\">\n",
       "      <th></th>\n",
       "      <th>Second</th>\n",
       "      <th>true_attack</th>\n",
       "      <th>old_attack_m1</th>\n",
       "      <th>old_attack_m2</th>\n",
       "      <th>tqv_attack_m1</th>\n",
       "      <th>tqv_attack_m2</th>\n",
       "      <th>tqv_attack_m3</th>\n",
       "    </tr>\n",
       "  </thead>\n",
       "  <tbody>\n",
       "    <tr>\n",
       "      <th>0</th>\n",
       "      <td>2</td>\n",
       "      <td>-1</td>\n",
       "      <td>-1</td>\n",
       "      <td>-1</td>\n",
       "      <td>-1</td>\n",
       "      <td>-1</td>\n",
       "      <td>-1</td>\n",
       "    </tr>\n",
       "    <tr>\n",
       "      <th>1</th>\n",
       "      <td>3</td>\n",
       "      <td>-1</td>\n",
       "      <td>-1</td>\n",
       "      <td>-1</td>\n",
       "      <td>-1</td>\n",
       "      <td>-1</td>\n",
       "      <td>-1</td>\n",
       "    </tr>\n",
       "    <tr>\n",
       "      <th>2</th>\n",
       "      <td>4</td>\n",
       "      <td>-1</td>\n",
       "      <td>-1</td>\n",
       "      <td>-1</td>\n",
       "      <td>-1</td>\n",
       "      <td>-1</td>\n",
       "      <td>-1</td>\n",
       "    </tr>\n",
       "    <tr>\n",
       "      <th>3</th>\n",
       "      <td>5</td>\n",
       "      <td>-1</td>\n",
       "      <td>-1</td>\n",
       "      <td>-1</td>\n",
       "      <td>-1</td>\n",
       "      <td>-1</td>\n",
       "      <td>-1</td>\n",
       "    </tr>\n",
       "    <tr>\n",
       "      <th>4</th>\n",
       "      <td>6</td>\n",
       "      <td>-1</td>\n",
       "      <td>-1</td>\n",
       "      <td>-1</td>\n",
       "      <td>-1</td>\n",
       "      <td>-1</td>\n",
       "      <td>-1</td>\n",
       "    </tr>\n",
       "    <tr>\n",
       "      <th>...</th>\n",
       "      <td>...</td>\n",
       "      <td>...</td>\n",
       "      <td>...</td>\n",
       "      <td>...</td>\n",
       "      <td>...</td>\n",
       "      <td>...</td>\n",
       "      <td>...</td>\n",
       "    </tr>\n",
       "    <tr>\n",
       "      <th>144</th>\n",
       "      <td>146</td>\n",
       "      <td>1</td>\n",
       "      <td>1</td>\n",
       "      <td>1</td>\n",
       "      <td>1</td>\n",
       "      <td>1</td>\n",
       "      <td>1</td>\n",
       "    </tr>\n",
       "    <tr>\n",
       "      <th>145</th>\n",
       "      <td>147</td>\n",
       "      <td>1</td>\n",
       "      <td>1</td>\n",
       "      <td>1</td>\n",
       "      <td>1</td>\n",
       "      <td>1</td>\n",
       "      <td>1</td>\n",
       "    </tr>\n",
       "    <tr>\n",
       "      <th>146</th>\n",
       "      <td>148</td>\n",
       "      <td>1</td>\n",
       "      <td>0</td>\n",
       "      <td>1</td>\n",
       "      <td>1</td>\n",
       "      <td>1</td>\n",
       "      <td>0</td>\n",
       "    </tr>\n",
       "    <tr>\n",
       "      <th>147</th>\n",
       "      <td>149</td>\n",
       "      <td>1</td>\n",
       "      <td>1</td>\n",
       "      <td>1</td>\n",
       "      <td>1</td>\n",
       "      <td>1</td>\n",
       "      <td>1</td>\n",
       "    </tr>\n",
       "    <tr>\n",
       "      <th>148</th>\n",
       "      <td>150</td>\n",
       "      <td>1</td>\n",
       "      <td>0</td>\n",
       "      <td>1</td>\n",
       "      <td>1</td>\n",
       "      <td>1</td>\n",
       "      <td>0</td>\n",
       "    </tr>\n",
       "  </tbody>\n",
       "</table>\n",
       "<p>149 rows × 7 columns</p>\n",
       "</div>"
      ],
      "text/plain": [
       "     Second  true_attack  old_attack_m1  old_attack_m2  tqv_attack_m1  \\\n",
       "0         2           -1             -1             -1             -1   \n",
       "1         3           -1             -1             -1             -1   \n",
       "2         4           -1             -1             -1             -1   \n",
       "3         5           -1             -1             -1             -1   \n",
       "4         6           -1             -1             -1             -1   \n",
       "..      ...          ...            ...            ...            ...   \n",
       "144     146            1              1              1              1   \n",
       "145     147            1              1              1              1   \n",
       "146     148            1              0              1              1   \n",
       "147     149            1              1              1              1   \n",
       "148     150            1              0              1              1   \n",
       "\n",
       "     tqv_attack_m2  tqv_attack_m3  \n",
       "0               -1             -1  \n",
       "1               -1             -1  \n",
       "2               -1             -1  \n",
       "3               -1             -1  \n",
       "4               -1             -1  \n",
       "..             ...            ...  \n",
       "144              1              1  \n",
       "145              1              1  \n",
       "146              1              0  \n",
       "147              1              1  \n",
       "148              1              0  \n",
       "\n",
       "[149 rows x 7 columns]"
      ]
     },
     "execution_count": 82,
     "metadata": {},
     "output_type": "execute_result"
    }
   ],
   "source": [
    "attack_compare = true_attack.merge(destination_entropy1[['Second','old_attack_m1']], on='Second')\n",
    "attack_compare = attack_compare.merge(destination_entropy2[['Second','old_attack_m2']], on='Second')\n",
    "attack_compare = attack_compare.merge(tqv_method1[['Second','tqv_attack_m1']], on='Second')\n",
    "attack_compare = attack_compare.merge(tqv_method2[['Second','tqv_attack_m2']], on='Second')\n",
    "attack_compare = attack_compare.merge(tqv_method3[['Second','tqv_attack_m3']], on='Second')\n",
    "attack_compare"
   ]
  },
  {
   "cell_type": "code",
   "execution_count": 83,
   "metadata": {},
   "outputs": [],
   "source": [
    "# remove first 10 seconds\n",
    "attack_compare = attack_compare.iloc[10:]"
   ]
  },
  {
   "cell_type": "code",
   "execution_count": 84,
   "metadata": {},
   "outputs": [
    {
     "data": {
      "text/html": [
       "<div>\n",
       "<style scoped>\n",
       "    .dataframe tbody tr th:only-of-type {\n",
       "        vertical-align: middle;\n",
       "    }\n",
       "\n",
       "    .dataframe tbody tr th {\n",
       "        vertical-align: top;\n",
       "    }\n",
       "\n",
       "    .dataframe thead th {\n",
       "        text-align: right;\n",
       "    }\n",
       "</style>\n",
       "<table border=\"1\" class=\"dataframe\">\n",
       "  <thead>\n",
       "    <tr style=\"text-align: right;\">\n",
       "      <th></th>\n",
       "      <th>Second</th>\n",
       "      <th>true_attack</th>\n",
       "      <th>old_attack_m1</th>\n",
       "      <th>old_attack_m2</th>\n",
       "      <th>tqv_attack_m1</th>\n",
       "      <th>tqv_attack_m2</th>\n",
       "      <th>tqv_attack_m3</th>\n",
       "    </tr>\n",
       "  </thead>\n",
       "  <tbody>\n",
       "    <tr>\n",
       "      <th>10</th>\n",
       "      <td>12</td>\n",
       "      <td>1</td>\n",
       "      <td>1</td>\n",
       "      <td>1</td>\n",
       "      <td>1</td>\n",
       "      <td>1</td>\n",
       "      <td>1</td>\n",
       "    </tr>\n",
       "    <tr>\n",
       "      <th>11</th>\n",
       "      <td>13</td>\n",
       "      <td>1</td>\n",
       "      <td>0</td>\n",
       "      <td>0</td>\n",
       "      <td>0</td>\n",
       "      <td>0</td>\n",
       "      <td>1</td>\n",
       "    </tr>\n",
       "    <tr>\n",
       "      <th>12</th>\n",
       "      <td>14</td>\n",
       "      <td>1</td>\n",
       "      <td>1</td>\n",
       "      <td>1</td>\n",
       "      <td>1</td>\n",
       "      <td>1</td>\n",
       "      <td>1</td>\n",
       "    </tr>\n",
       "    <tr>\n",
       "      <th>13</th>\n",
       "      <td>15</td>\n",
       "      <td>1</td>\n",
       "      <td>0</td>\n",
       "      <td>0</td>\n",
       "      <td>1</td>\n",
       "      <td>1</td>\n",
       "      <td>1</td>\n",
       "    </tr>\n",
       "    <tr>\n",
       "      <th>14</th>\n",
       "      <td>16</td>\n",
       "      <td>1</td>\n",
       "      <td>1</td>\n",
       "      <td>1</td>\n",
       "      <td>1</td>\n",
       "      <td>1</td>\n",
       "      <td>1</td>\n",
       "    </tr>\n",
       "    <tr>\n",
       "      <th>15</th>\n",
       "      <td>17</td>\n",
       "      <td>1</td>\n",
       "      <td>0</td>\n",
       "      <td>0</td>\n",
       "      <td>0</td>\n",
       "      <td>0</td>\n",
       "      <td>1</td>\n",
       "    </tr>\n",
       "    <tr>\n",
       "      <th>16</th>\n",
       "      <td>18</td>\n",
       "      <td>1</td>\n",
       "      <td>1</td>\n",
       "      <td>1</td>\n",
       "      <td>1</td>\n",
       "      <td>1</td>\n",
       "      <td>1</td>\n",
       "    </tr>\n",
       "    <tr>\n",
       "      <th>17</th>\n",
       "      <td>19</td>\n",
       "      <td>1</td>\n",
       "      <td>1</td>\n",
       "      <td>1</td>\n",
       "      <td>1</td>\n",
       "      <td>1</td>\n",
       "      <td>1</td>\n",
       "    </tr>\n",
       "    <tr>\n",
       "      <th>18</th>\n",
       "      <td>20</td>\n",
       "      <td>1</td>\n",
       "      <td>0</td>\n",
       "      <td>0</td>\n",
       "      <td>0</td>\n",
       "      <td>0</td>\n",
       "      <td>0</td>\n",
       "    </tr>\n",
       "    <tr>\n",
       "      <th>19</th>\n",
       "      <td>21</td>\n",
       "      <td>1</td>\n",
       "      <td>1</td>\n",
       "      <td>1</td>\n",
       "      <td>1</td>\n",
       "      <td>1</td>\n",
       "      <td>1</td>\n",
       "    </tr>\n",
       "    <tr>\n",
       "      <th>20</th>\n",
       "      <td>22</td>\n",
       "      <td>1</td>\n",
       "      <td>0</td>\n",
       "      <td>0</td>\n",
       "      <td>1</td>\n",
       "      <td>1</td>\n",
       "      <td>1</td>\n",
       "    </tr>\n",
       "    <tr>\n",
       "      <th>21</th>\n",
       "      <td>23</td>\n",
       "      <td>1</td>\n",
       "      <td>1</td>\n",
       "      <td>1</td>\n",
       "      <td>1</td>\n",
       "      <td>1</td>\n",
       "      <td>1</td>\n",
       "    </tr>\n",
       "    <tr>\n",
       "      <th>22</th>\n",
       "      <td>24</td>\n",
       "      <td>1</td>\n",
       "      <td>1</td>\n",
       "      <td>1</td>\n",
       "      <td>1</td>\n",
       "      <td>1</td>\n",
       "      <td>1</td>\n",
       "    </tr>\n",
       "    <tr>\n",
       "      <th>23</th>\n",
       "      <td>25</td>\n",
       "      <td>1</td>\n",
       "      <td>0</td>\n",
       "      <td>0</td>\n",
       "      <td>0</td>\n",
       "      <td>0</td>\n",
       "      <td>1</td>\n",
       "    </tr>\n",
       "    <tr>\n",
       "      <th>24</th>\n",
       "      <td>26</td>\n",
       "      <td>1</td>\n",
       "      <td>1</td>\n",
       "      <td>1</td>\n",
       "      <td>1</td>\n",
       "      <td>1</td>\n",
       "      <td>0</td>\n",
       "    </tr>\n",
       "    <tr>\n",
       "      <th>25</th>\n",
       "      <td>27</td>\n",
       "      <td>1</td>\n",
       "      <td>1</td>\n",
       "      <td>1</td>\n",
       "      <td>1</td>\n",
       "      <td>1</td>\n",
       "      <td>1</td>\n",
       "    </tr>\n",
       "    <tr>\n",
       "      <th>26</th>\n",
       "      <td>28</td>\n",
       "      <td>1</td>\n",
       "      <td>0</td>\n",
       "      <td>0</td>\n",
       "      <td>1</td>\n",
       "      <td>1</td>\n",
       "      <td>0</td>\n",
       "    </tr>\n",
       "    <tr>\n",
       "      <th>27</th>\n",
       "      <td>29</td>\n",
       "      <td>1</td>\n",
       "      <td>0</td>\n",
       "      <td>0</td>\n",
       "      <td>1</td>\n",
       "      <td>1</td>\n",
       "      <td>1</td>\n",
       "    </tr>\n",
       "    <tr>\n",
       "      <th>28</th>\n",
       "      <td>30</td>\n",
       "      <td>1</td>\n",
       "      <td>0</td>\n",
       "      <td>0</td>\n",
       "      <td>1</td>\n",
       "      <td>1</td>\n",
       "      <td>1</td>\n",
       "    </tr>\n",
       "    <tr>\n",
       "      <th>29</th>\n",
       "      <td>31</td>\n",
       "      <td>1</td>\n",
       "      <td>0</td>\n",
       "      <td>0</td>\n",
       "      <td>1</td>\n",
       "      <td>1</td>\n",
       "      <td>1</td>\n",
       "    </tr>\n",
       "  </tbody>\n",
       "</table>\n",
       "</div>"
      ],
      "text/plain": [
       "    Second  true_attack  old_attack_m1  old_attack_m2  tqv_attack_m1  \\\n",
       "10      12            1              1              1              1   \n",
       "11      13            1              0              0              0   \n",
       "12      14            1              1              1              1   \n",
       "13      15            1              0              0              1   \n",
       "14      16            1              1              1              1   \n",
       "15      17            1              0              0              0   \n",
       "16      18            1              1              1              1   \n",
       "17      19            1              1              1              1   \n",
       "18      20            1              0              0              0   \n",
       "19      21            1              1              1              1   \n",
       "20      22            1              0              0              1   \n",
       "21      23            1              1              1              1   \n",
       "22      24            1              1              1              1   \n",
       "23      25            1              0              0              0   \n",
       "24      26            1              1              1              1   \n",
       "25      27            1              1              1              1   \n",
       "26      28            1              0              0              1   \n",
       "27      29            1              0              0              1   \n",
       "28      30            1              0              0              1   \n",
       "29      31            1              0              0              1   \n",
       "\n",
       "    tqv_attack_m2  tqv_attack_m3  \n",
       "10              1              1  \n",
       "11              0              1  \n",
       "12              1              1  \n",
       "13              1              1  \n",
       "14              1              1  \n",
       "15              0              1  \n",
       "16              1              1  \n",
       "17              1              1  \n",
       "18              0              0  \n",
       "19              1              1  \n",
       "20              1              1  \n",
       "21              1              1  \n",
       "22              1              1  \n",
       "23              0              1  \n",
       "24              1              0  \n",
       "25              1              1  \n",
       "26              1              0  \n",
       "27              1              1  \n",
       "28              1              1  \n",
       "29              1              1  "
      ]
     },
     "execution_count": 84,
     "metadata": {},
     "output_type": "execute_result"
    }
   ],
   "source": [
    "attack_compare[:20]"
   ]
  },
  {
   "cell_type": "code",
   "execution_count": 85,
   "metadata": {},
   "outputs": [],
   "source": [
    "def metrics(attack_compare, predicted_label, true_label='true_attack'):\n",
    "    print(f'================== The metrics of {predicted_label} ==================')\n",
    "    print(classification_report(attack_compare[true_label], attack_compare[predicted_label]))\n",
    "    print()"
   ]
  },
  {
   "cell_type": "code",
   "execution_count": 86,
   "metadata": {},
   "outputs": [
    {
     "name": "stdout",
     "output_type": "stream",
     "text": [
      "================== The metrics of old_attack_m1 ==================\n",
      "              precision    recall  f1-score   support\n",
      "\n",
      "           0       0.55      1.00      0.71        49\n",
      "           1       1.00      0.56      0.71        90\n",
      "\n",
      "    accuracy                           0.71       139\n",
      "   macro avg       0.78      0.78      0.71       139\n",
      "weighted avg       0.84      0.71      0.71       139\n",
      "\n",
      "\n",
      "================== The metrics of old_attack_m2 ==================\n",
      "              precision    recall  f1-score   support\n",
      "\n",
      "           0       0.60      1.00      0.75        49\n",
      "           1       1.00      0.64      0.78        90\n",
      "\n",
      "    accuracy                           0.77       139\n",
      "   macro avg       0.80      0.82      0.77       139\n",
      "weighted avg       0.86      0.77      0.77       139\n",
      "\n",
      "\n",
      "================== The metrics of tqv_attack_m1 ==================\n",
      "              precision    recall  f1-score   support\n",
      "\n",
      "           0       0.89      1.00      0.94        49\n",
      "           1       1.00      0.93      0.97        90\n",
      "\n",
      "    accuracy                           0.96       139\n",
      "   macro avg       0.95      0.97      0.95       139\n",
      "weighted avg       0.96      0.96      0.96       139\n",
      "\n",
      "\n",
      "================== The metrics of tqv_attack_m2 ==================\n",
      "              precision    recall  f1-score   support\n",
      "\n",
      "           0       0.92      1.00      0.96        49\n",
      "           1       1.00      0.96      0.98        90\n",
      "\n",
      "    accuracy                           0.97       139\n",
      "   macro avg       0.96      0.98      0.97       139\n",
      "weighted avg       0.97      0.97      0.97       139\n",
      "\n",
      "\n",
      "================== The metrics of tqv_attack_m3 ==================\n",
      "              precision    recall  f1-score   support\n",
      "\n",
      "           0       0.74      1.00      0.85        49\n",
      "           1       1.00      0.81      0.90        90\n",
      "\n",
      "    accuracy                           0.88       139\n",
      "   macro avg       0.87      0.91      0.87       139\n",
      "weighted avg       0.91      0.88      0.88       139\n",
      "\n",
      "\n"
     ]
    }
   ],
   "source": [
    "metrics(attack_compare, 'old_attack_m1')\n",
    "metrics(attack_compare, 'old_attack_m2')\n",
    "metrics(attack_compare, 'tqv_attack_m1')\n",
    "metrics(attack_compare, 'tqv_attack_m2')\n",
    "metrics(attack_compare, 'tqv_attack_m3')"
   ]
  },
  {
   "cell_type": "code",
   "execution_count": 62,
   "metadata": {},
   "outputs": [],
   "source": [
    "def f1(attack_compare, predicted_label, true_label='true_attack'):\n",
    "    print(f'==== The metrics of {predicted_label} ====')\n",
    "    print(confusion_matrix(attack_compare[true_label], attack_compare[predicted_label]))\n",
    "    print()"
   ]
  },
  {
   "cell_type": "code",
   "execution_count": 87,
   "metadata": {},
   "outputs": [
    {
     "name": "stdout",
     "output_type": "stream",
     "text": [
      "==== The metrics of old_attack_m1 ====\n",
      "[[49  0]\n",
      " [40 50]]\n",
      "\n",
      "==== The metrics of old_attack_m2 ====\n",
      "[[49  0]\n",
      " [32 58]]\n",
      "\n",
      "==== The metrics of tqv_attack_m1 ====\n",
      "[[49  0]\n",
      " [ 6 84]]\n",
      "\n",
      "==== The metrics of tqv_attack_m2 ====\n",
      "[[49  0]\n",
      " [ 4 86]]\n",
      "\n",
      "==== The metrics of tqv_attack_m3 ====\n",
      "[[49  0]\n",
      " [17 73]]\n",
      "\n"
     ]
    }
   ],
   "source": [
    "f1(attack_compare, 'old_attack_m1')\n",
    "f1(attack_compare, 'old_attack_m2')\n",
    "f1(attack_compare, 'tqv_attack_m1')\n",
    "f1(attack_compare, 'tqv_attack_m2')\n",
    "f1(attack_compare, 'tqv_attack_m3')"
   ]
  },
  {
   "cell_type": "markdown",
   "metadata": {},
   "source": [
    "### Plot"
   ]
  },
  {
   "cell_type": "code",
   "execution_count": 88,
   "metadata": {},
   "outputs": [
    {
     "data": {
      "text/html": [
       "<div>\n",
       "<style scoped>\n",
       "    .dataframe tbody tr th:only-of-type {\n",
       "        vertical-align: middle;\n",
       "    }\n",
       "\n",
       "    .dataframe tbody tr th {\n",
       "        vertical-align: top;\n",
       "    }\n",
       "\n",
       "    .dataframe thead th {\n",
       "        text-align: right;\n",
       "    }\n",
       "</style>\n",
       "<table border=\"1\" class=\"dataframe\">\n",
       "  <thead>\n",
       "    <tr style=\"text-align: right;\">\n",
       "      <th></th>\n",
       "      <th>Second</th>\n",
       "      <th>multiply</th>\n",
       "    </tr>\n",
       "  </thead>\n",
       "  <tbody>\n",
       "    <tr>\n",
       "      <th>0</th>\n",
       "      <td>1</td>\n",
       "      <td>3.4604</td>\n",
       "    </tr>\n",
       "    <tr>\n",
       "      <th>1</th>\n",
       "      <td>2</td>\n",
       "      <td>3.2796</td>\n",
       "    </tr>\n",
       "    <tr>\n",
       "      <th>2</th>\n",
       "      <td>3</td>\n",
       "      <td>3.3820</td>\n",
       "    </tr>\n",
       "    <tr>\n",
       "      <th>3</th>\n",
       "      <td>4</td>\n",
       "      <td>3.4548</td>\n",
       "    </tr>\n",
       "    <tr>\n",
       "      <th>4</th>\n",
       "      <td>5</td>\n",
       "      <td>3.5273</td>\n",
       "    </tr>\n",
       "    <tr>\n",
       "      <th>...</th>\n",
       "      <td>...</td>\n",
       "      <td>...</td>\n",
       "    </tr>\n",
       "    <tr>\n",
       "      <th>145</th>\n",
       "      <td>146</td>\n",
       "      <td>3.4676</td>\n",
       "    </tr>\n",
       "    <tr>\n",
       "      <th>146</th>\n",
       "      <td>147</td>\n",
       "      <td>3.4485</td>\n",
       "    </tr>\n",
       "    <tr>\n",
       "      <th>147</th>\n",
       "      <td>148</td>\n",
       "      <td>3.2925</td>\n",
       "    </tr>\n",
       "    <tr>\n",
       "      <th>148</th>\n",
       "      <td>149</td>\n",
       "      <td>3.4441</td>\n",
       "    </tr>\n",
       "    <tr>\n",
       "      <th>149</th>\n",
       "      <td>150</td>\n",
       "      <td>3.2310</td>\n",
       "    </tr>\n",
       "  </tbody>\n",
       "</table>\n",
       "<p>150 rows × 2 columns</p>\n",
       "</div>"
      ],
      "text/plain": [
       "     Second  multiply\n",
       "0         1    3.4604\n",
       "1         2    3.2796\n",
       "2         3    3.3820\n",
       "3         4    3.4548\n",
       "4         5    3.5273\n",
       "..      ...       ...\n",
       "145     146    3.4676\n",
       "146     147    3.4485\n",
       "147     148    3.2925\n",
       "148     149    3.4441\n",
       "149     150    3.2310\n",
       "\n",
       "[150 rows x 2 columns]"
      ]
     },
     "execution_count": 88,
     "metadata": {},
     "output_type": "execute_result"
    }
   ],
   "source": [
    "# destination entropy\n",
    "destination_entropy"
   ]
  },
  {
   "cell_type": "code",
   "execution_count": 89,
   "metadata": {},
   "outputs": [
    {
     "data": {
      "text/html": [
       "<div>\n",
       "<style scoped>\n",
       "    .dataframe tbody tr th:only-of-type {\n",
       "        vertical-align: middle;\n",
       "    }\n",
       "\n",
       "    .dataframe tbody tr th {\n",
       "        vertical-align: top;\n",
       "    }\n",
       "\n",
       "    .dataframe thead th {\n",
       "        text-align: right;\n",
       "    }\n",
       "</style>\n",
       "<table border=\"1\" class=\"dataframe\">\n",
       "  <thead>\n",
       "    <tr style=\"text-align: right;\">\n",
       "      <th></th>\n",
       "      <th>Second</th>\n",
       "      <th>total_multiply</th>\n",
       "    </tr>\n",
       "  </thead>\n",
       "  <tbody>\n",
       "    <tr>\n",
       "      <th>0</th>\n",
       "      <td>1</td>\n",
       "      <td>2.2161</td>\n",
       "    </tr>\n",
       "    <tr>\n",
       "      <th>1</th>\n",
       "      <td>2</td>\n",
       "      <td>2.2931</td>\n",
       "    </tr>\n",
       "    <tr>\n",
       "      <th>2</th>\n",
       "      <td>3</td>\n",
       "      <td>2.2379</td>\n",
       "    </tr>\n",
       "    <tr>\n",
       "      <th>3</th>\n",
       "      <td>4</td>\n",
       "      <td>2.1930</td>\n",
       "    </tr>\n",
       "    <tr>\n",
       "      <th>4</th>\n",
       "      <td>5</td>\n",
       "      <td>2.2216</td>\n",
       "    </tr>\n",
       "    <tr>\n",
       "      <th>...</th>\n",
       "      <td>...</td>\n",
       "      <td>...</td>\n",
       "    </tr>\n",
       "    <tr>\n",
       "      <th>145</th>\n",
       "      <td>146</td>\n",
       "      <td>2.2253</td>\n",
       "    </tr>\n",
       "    <tr>\n",
       "      <th>146</th>\n",
       "      <td>147</td>\n",
       "      <td>2.1833</td>\n",
       "    </tr>\n",
       "    <tr>\n",
       "      <th>147</th>\n",
       "      <td>148</td>\n",
       "      <td>2.4316</td>\n",
       "    </tr>\n",
       "    <tr>\n",
       "      <th>148</th>\n",
       "      <td>149</td>\n",
       "      <td>2.2447</td>\n",
       "    </tr>\n",
       "    <tr>\n",
       "      <th>149</th>\n",
       "      <td>150</td>\n",
       "      <td>2.5178</td>\n",
       "    </tr>\n",
       "  </tbody>\n",
       "</table>\n",
       "<p>150 rows × 2 columns</p>\n",
       "</div>"
      ],
      "text/plain": [
       "     Second  total_multiply\n",
       "0         1          2.2161\n",
       "1         2          2.2931\n",
       "2         3          2.2379\n",
       "3         4          2.1930\n",
       "4         5          2.2216\n",
       "..      ...             ...\n",
       "145     146          2.2253\n",
       "146     147          2.1833\n",
       "147     148          2.4316\n",
       "148     149          2.2447\n",
       "149     150          2.5178\n",
       "\n",
       "[150 rows x 2 columns]"
      ]
     },
     "execution_count": 89,
     "metadata": {},
     "output_type": "execute_result"
    }
   ],
   "source": [
    "# destination condition on source entropy\n",
    "dest_src_entropy"
   ]
  },
  {
   "cell_type": "code",
   "execution_count": 90,
   "metadata": {},
   "outputs": [
    {
     "data": {
      "text/html": [
       "<div>\n",
       "<style scoped>\n",
       "    .dataframe tbody tr th:only-of-type {\n",
       "        vertical-align: middle;\n",
       "    }\n",
       "\n",
       "    .dataframe tbody tr th {\n",
       "        vertical-align: top;\n",
       "    }\n",
       "\n",
       "    .dataframe thead th {\n",
       "        text-align: right;\n",
       "    }\n",
       "</style>\n",
       "<table border=\"1\" class=\"dataframe\">\n",
       "  <thead>\n",
       "    <tr style=\"text-align: right;\">\n",
       "      <th></th>\n",
       "      <th>Second</th>\n",
       "      <th>total_multiply</th>\n",
       "    </tr>\n",
       "  </thead>\n",
       "  <tbody>\n",
       "    <tr>\n",
       "      <th>0</th>\n",
       "      <td>1</td>\n",
       "      <td>2.3160</td>\n",
       "    </tr>\n",
       "    <tr>\n",
       "      <th>1</th>\n",
       "      <td>2</td>\n",
       "      <td>2.4567</td>\n",
       "    </tr>\n",
       "    <tr>\n",
       "      <th>2</th>\n",
       "      <td>3</td>\n",
       "      <td>2.2668</td>\n",
       "    </tr>\n",
       "    <tr>\n",
       "      <th>3</th>\n",
       "      <td>4</td>\n",
       "      <td>2.3015</td>\n",
       "    </tr>\n",
       "    <tr>\n",
       "      <th>4</th>\n",
       "      <td>5</td>\n",
       "      <td>2.1568</td>\n",
       "    </tr>\n",
       "    <tr>\n",
       "      <th>...</th>\n",
       "      <td>...</td>\n",
       "      <td>...</td>\n",
       "    </tr>\n",
       "    <tr>\n",
       "      <th>145</th>\n",
       "      <td>146</td>\n",
       "      <td>2.2691</td>\n",
       "    </tr>\n",
       "    <tr>\n",
       "      <th>146</th>\n",
       "      <td>147</td>\n",
       "      <td>2.3355</td>\n",
       "    </tr>\n",
       "    <tr>\n",
       "      <th>147</th>\n",
       "      <td>148</td>\n",
       "      <td>2.3214</td>\n",
       "    </tr>\n",
       "    <tr>\n",
       "      <th>148</th>\n",
       "      <td>149</td>\n",
       "      <td>2.3798</td>\n",
       "    </tr>\n",
       "    <tr>\n",
       "      <th>149</th>\n",
       "      <td>150</td>\n",
       "      <td>2.4529</td>\n",
       "    </tr>\n",
       "  </tbody>\n",
       "</table>\n",
       "<p>150 rows × 2 columns</p>\n",
       "</div>"
      ],
      "text/plain": [
       "     Second  total_multiply\n",
       "0         1          2.3160\n",
       "1         2          2.4567\n",
       "2         3          2.2668\n",
       "3         4          2.3015\n",
       "4         5          2.1568\n",
       "..      ...             ...\n",
       "145     146          2.2691\n",
       "146     147          2.3355\n",
       "147     148          2.3214\n",
       "148     149          2.3798\n",
       "149     150          2.4529\n",
       "\n",
       "[150 rows x 2 columns]"
      ]
     },
     "execution_count": 90,
     "metadata": {},
     "output_type": "execute_result"
    }
   ],
   "source": [
    "# destination condition on length entropy\n",
    "dest_len_entropy"
   ]
  },
  {
   "cell_type": "code",
   "execution_count": 91,
   "metadata": {},
   "outputs": [
    {
     "data": {
      "application/vnd.plotly.v1+json": {
       "config": {
        "plotlyServerURL": "https://plot.ly"
       },
       "data": [
        {
         "hovertemplate": "Second=%{x}<br>multiply=%{y}<extra></extra>",
         "legendgroup": "",
         "line": {
          "color": "#636efa",
          "dash": "solid"
         },
         "marker": {
          "symbol": "circle"
         },
         "mode": "lines",
         "name": "",
         "orientation": "v",
         "showlegend": false,
         "type": "scatter",
         "x": [
          1,
          2,
          3,
          4,
          5,
          6,
          7,
          8,
          9,
          10,
          11,
          12,
          13,
          14,
          15,
          16,
          17,
          18,
          19,
          20,
          21,
          22,
          23,
          24,
          25,
          26,
          27,
          28,
          29,
          30,
          31,
          32,
          33,
          34,
          35,
          36,
          37,
          38,
          39,
          40,
          41,
          42,
          43,
          44,
          45,
          46,
          47,
          48,
          49,
          50,
          51,
          52,
          53,
          54,
          55,
          56,
          57,
          58,
          59,
          60,
          61,
          62,
          63,
          64,
          65,
          66,
          67,
          68,
          69,
          70,
          71,
          72,
          73,
          74,
          75,
          76,
          77,
          78,
          79,
          80,
          81,
          82,
          83,
          84,
          85,
          86,
          87,
          88,
          89,
          90,
          91,
          92,
          93,
          94,
          95,
          96,
          97,
          98,
          99,
          100,
          101,
          102,
          103,
          104,
          105,
          106,
          107,
          108,
          109,
          110,
          111,
          112,
          113,
          114,
          115,
          116,
          117,
          118,
          119,
          120,
          121,
          122,
          123,
          124,
          125,
          126,
          127,
          128,
          129,
          130,
          131,
          132,
          133,
          134,
          135,
          136,
          137,
          138,
          139,
          140,
          141,
          142,
          143,
          144,
          145,
          146,
          147,
          148,
          149,
          150
         ],
         "xaxis": "x",
         "y": [
          3.4604,
          3.2796,
          3.3819999999999997,
          3.4548,
          3.5273,
          3.4356,
          3.4977,
          3.4301,
          3.3518,
          3.4247,
          3.4233,
          3.4249,
          3.4146,
          3.4421999999999997,
          3.4151,
          3.4938,
          3.3893999999999997,
          3.472,
          3.4899,
          3.4179,
          3.4941999999999998,
          3.3190999999999997,
          3.4684,
          3.4589,
          3.4194,
          3.4467,
          3.4997,
          3.1097,
          1.4624,
          1.286,
          1.4002999999999999,
          1.2735,
          1.4163,
          1.1666,
          1.3976,
          1.4587,
          1.1726,
          1.4683,
          1.1143,
          1.3135,
          1.2556,
          1.032,
          1.1375,
          1.2006000000000001,
          1.4091,
          1.4747,
          1.3313,
          1.1451,
          1.3188,
          1.1682,
          1.0484,
          1.165,
          1.1192,
          2.8429,
          3.4968,
          3.4385999999999997,
          3.4353,
          3.4379,
          3.4956,
          3.5056,
          3.4682,
          3.4434,
          3.4332,
          3.5018,
          3.4116,
          1.9262,
          1.8974,
          1.7064,
          1.7667,
          2.0053,
          2.0136,
          1.5066,
          1.9678,
          1.6993999999999998,
          1.7975999999999999,
          1.7209999999999999,
          1.6708999999999998,
          1.7468,
          1.5423,
          1.6963,
          1.4104,
          1.8251,
          3.4993,
          3.4059999999999997,
          3.4514,
          3.4711,
          3.3592,
          3.5179,
          3.4766,
          3.3335999999999997,
          3.518,
          3.4805,
          3.4654,
          3.4473,
          3.4566,
          3.4574,
          3.4744,
          3.4646,
          3.5345,
          3.4446,
          3.4497999999999998,
          3.4871,
          3.4445,
          3.4537999999999998,
          3.4691,
          3.4979,
          3.4163,
          3.4471,
          3.464,
          3.5124,
          3.5509999999999997,
          3.504,
          1.2905,
          0.4425,
          0.24180000000000001,
          0.6816,
          0.622,
          0.5746,
          0.9184,
          0.6816,
          0.8395,
          0.3022,
          0.46240000000000003,
          0.7928,
          0.7641,
          0.5423,
          0.4949,
          0.622,
          0.5224,
          0.7928,
          0.6265999999999999,
          0.3022,
          0.3824,
          0.4824,
          0.6816,
          0.4823,
          0.46240000000000003,
          0.4823,
          0.46240000000000003,
          0.622,
          0.5025,
          0.6021,
          0.5622,
          0.7335,
          3.4482,
          3.4676,
          3.4484999999999997,
          3.2925,
          3.4440999999999997,
          3.231
         ],
         "yaxis": "y"
        }
       ],
       "layout": {
        "legend": {
         "tracegroupgap": 0
        },
        "template": {
         "data": {
          "bar": [
           {
            "error_x": {
             "color": "#2a3f5f"
            },
            "error_y": {
             "color": "#2a3f5f"
            },
            "marker": {
             "line": {
              "color": "#E5ECF6",
              "width": 0.5
             },
             "pattern": {
              "fillmode": "overlay",
              "size": 10,
              "solidity": 0.2
             }
            },
            "type": "bar"
           }
          ],
          "barpolar": [
           {
            "marker": {
             "line": {
              "color": "#E5ECF6",
              "width": 0.5
             },
             "pattern": {
              "fillmode": "overlay",
              "size": 10,
              "solidity": 0.2
             }
            },
            "type": "barpolar"
           }
          ],
          "carpet": [
           {
            "aaxis": {
             "endlinecolor": "#2a3f5f",
             "gridcolor": "white",
             "linecolor": "white",
             "minorgridcolor": "white",
             "startlinecolor": "#2a3f5f"
            },
            "baxis": {
             "endlinecolor": "#2a3f5f",
             "gridcolor": "white",
             "linecolor": "white",
             "minorgridcolor": "white",
             "startlinecolor": "#2a3f5f"
            },
            "type": "carpet"
           }
          ],
          "choropleth": [
           {
            "colorbar": {
             "outlinewidth": 0,
             "ticks": ""
            },
            "type": "choropleth"
           }
          ],
          "contour": [
           {
            "colorbar": {
             "outlinewidth": 0,
             "ticks": ""
            },
            "colorscale": [
             [
              0,
              "#0d0887"
             ],
             [
              0.1111111111111111,
              "#46039f"
             ],
             [
              0.2222222222222222,
              "#7201a8"
             ],
             [
              0.3333333333333333,
              "#9c179e"
             ],
             [
              0.4444444444444444,
              "#bd3786"
             ],
             [
              0.5555555555555556,
              "#d8576b"
             ],
             [
              0.6666666666666666,
              "#ed7953"
             ],
             [
              0.7777777777777778,
              "#fb9f3a"
             ],
             [
              0.8888888888888888,
              "#fdca26"
             ],
             [
              1,
              "#f0f921"
             ]
            ],
            "type": "contour"
           }
          ],
          "contourcarpet": [
           {
            "colorbar": {
             "outlinewidth": 0,
             "ticks": ""
            },
            "type": "contourcarpet"
           }
          ],
          "heatmap": [
           {
            "colorbar": {
             "outlinewidth": 0,
             "ticks": ""
            },
            "colorscale": [
             [
              0,
              "#0d0887"
             ],
             [
              0.1111111111111111,
              "#46039f"
             ],
             [
              0.2222222222222222,
              "#7201a8"
             ],
             [
              0.3333333333333333,
              "#9c179e"
             ],
             [
              0.4444444444444444,
              "#bd3786"
             ],
             [
              0.5555555555555556,
              "#d8576b"
             ],
             [
              0.6666666666666666,
              "#ed7953"
             ],
             [
              0.7777777777777778,
              "#fb9f3a"
             ],
             [
              0.8888888888888888,
              "#fdca26"
             ],
             [
              1,
              "#f0f921"
             ]
            ],
            "type": "heatmap"
           }
          ],
          "heatmapgl": [
           {
            "colorbar": {
             "outlinewidth": 0,
             "ticks": ""
            },
            "colorscale": [
             [
              0,
              "#0d0887"
             ],
             [
              0.1111111111111111,
              "#46039f"
             ],
             [
              0.2222222222222222,
              "#7201a8"
             ],
             [
              0.3333333333333333,
              "#9c179e"
             ],
             [
              0.4444444444444444,
              "#bd3786"
             ],
             [
              0.5555555555555556,
              "#d8576b"
             ],
             [
              0.6666666666666666,
              "#ed7953"
             ],
             [
              0.7777777777777778,
              "#fb9f3a"
             ],
             [
              0.8888888888888888,
              "#fdca26"
             ],
             [
              1,
              "#f0f921"
             ]
            ],
            "type": "heatmapgl"
           }
          ],
          "histogram": [
           {
            "marker": {
             "pattern": {
              "fillmode": "overlay",
              "size": 10,
              "solidity": 0.2
             }
            },
            "type": "histogram"
           }
          ],
          "histogram2d": [
           {
            "colorbar": {
             "outlinewidth": 0,
             "ticks": ""
            },
            "colorscale": [
             [
              0,
              "#0d0887"
             ],
             [
              0.1111111111111111,
              "#46039f"
             ],
             [
              0.2222222222222222,
              "#7201a8"
             ],
             [
              0.3333333333333333,
              "#9c179e"
             ],
             [
              0.4444444444444444,
              "#bd3786"
             ],
             [
              0.5555555555555556,
              "#d8576b"
             ],
             [
              0.6666666666666666,
              "#ed7953"
             ],
             [
              0.7777777777777778,
              "#fb9f3a"
             ],
             [
              0.8888888888888888,
              "#fdca26"
             ],
             [
              1,
              "#f0f921"
             ]
            ],
            "type": "histogram2d"
           }
          ],
          "histogram2dcontour": [
           {
            "colorbar": {
             "outlinewidth": 0,
             "ticks": ""
            },
            "colorscale": [
             [
              0,
              "#0d0887"
             ],
             [
              0.1111111111111111,
              "#46039f"
             ],
             [
              0.2222222222222222,
              "#7201a8"
             ],
             [
              0.3333333333333333,
              "#9c179e"
             ],
             [
              0.4444444444444444,
              "#bd3786"
             ],
             [
              0.5555555555555556,
              "#d8576b"
             ],
             [
              0.6666666666666666,
              "#ed7953"
             ],
             [
              0.7777777777777778,
              "#fb9f3a"
             ],
             [
              0.8888888888888888,
              "#fdca26"
             ],
             [
              1,
              "#f0f921"
             ]
            ],
            "type": "histogram2dcontour"
           }
          ],
          "mesh3d": [
           {
            "colorbar": {
             "outlinewidth": 0,
             "ticks": ""
            },
            "type": "mesh3d"
           }
          ],
          "parcoords": [
           {
            "line": {
             "colorbar": {
              "outlinewidth": 0,
              "ticks": ""
             }
            },
            "type": "parcoords"
           }
          ],
          "pie": [
           {
            "automargin": true,
            "type": "pie"
           }
          ],
          "scatter": [
           {
            "fillpattern": {
             "fillmode": "overlay",
             "size": 10,
             "solidity": 0.2
            },
            "type": "scatter"
           }
          ],
          "scatter3d": [
           {
            "line": {
             "colorbar": {
              "outlinewidth": 0,
              "ticks": ""
             }
            },
            "marker": {
             "colorbar": {
              "outlinewidth": 0,
              "ticks": ""
             }
            },
            "type": "scatter3d"
           }
          ],
          "scattercarpet": [
           {
            "marker": {
             "colorbar": {
              "outlinewidth": 0,
              "ticks": ""
             }
            },
            "type": "scattercarpet"
           }
          ],
          "scattergeo": [
           {
            "marker": {
             "colorbar": {
              "outlinewidth": 0,
              "ticks": ""
             }
            },
            "type": "scattergeo"
           }
          ],
          "scattergl": [
           {
            "marker": {
             "colorbar": {
              "outlinewidth": 0,
              "ticks": ""
             }
            },
            "type": "scattergl"
           }
          ],
          "scattermapbox": [
           {
            "marker": {
             "colorbar": {
              "outlinewidth": 0,
              "ticks": ""
             }
            },
            "type": "scattermapbox"
           }
          ],
          "scatterpolar": [
           {
            "marker": {
             "colorbar": {
              "outlinewidth": 0,
              "ticks": ""
             }
            },
            "type": "scatterpolar"
           }
          ],
          "scatterpolargl": [
           {
            "marker": {
             "colorbar": {
              "outlinewidth": 0,
              "ticks": ""
             }
            },
            "type": "scatterpolargl"
           }
          ],
          "scatterternary": [
           {
            "marker": {
             "colorbar": {
              "outlinewidth": 0,
              "ticks": ""
             }
            },
            "type": "scatterternary"
           }
          ],
          "surface": [
           {
            "colorbar": {
             "outlinewidth": 0,
             "ticks": ""
            },
            "colorscale": [
             [
              0,
              "#0d0887"
             ],
             [
              0.1111111111111111,
              "#46039f"
             ],
             [
              0.2222222222222222,
              "#7201a8"
             ],
             [
              0.3333333333333333,
              "#9c179e"
             ],
             [
              0.4444444444444444,
              "#bd3786"
             ],
             [
              0.5555555555555556,
              "#d8576b"
             ],
             [
              0.6666666666666666,
              "#ed7953"
             ],
             [
              0.7777777777777778,
              "#fb9f3a"
             ],
             [
              0.8888888888888888,
              "#fdca26"
             ],
             [
              1,
              "#f0f921"
             ]
            ],
            "type": "surface"
           }
          ],
          "table": [
           {
            "cells": {
             "fill": {
              "color": "#EBF0F8"
             },
             "line": {
              "color": "white"
             }
            },
            "header": {
             "fill": {
              "color": "#C8D4E3"
             },
             "line": {
              "color": "white"
             }
            },
            "type": "table"
           }
          ]
         },
         "layout": {
          "annotationdefaults": {
           "arrowcolor": "#2a3f5f",
           "arrowhead": 0,
           "arrowwidth": 1
          },
          "autotypenumbers": "strict",
          "coloraxis": {
           "colorbar": {
            "outlinewidth": 0,
            "ticks": ""
           }
          },
          "colorscale": {
           "diverging": [
            [
             0,
             "#8e0152"
            ],
            [
             0.1,
             "#c51b7d"
            ],
            [
             0.2,
             "#de77ae"
            ],
            [
             0.3,
             "#f1b6da"
            ],
            [
             0.4,
             "#fde0ef"
            ],
            [
             0.5,
             "#f7f7f7"
            ],
            [
             0.6,
             "#e6f5d0"
            ],
            [
             0.7,
             "#b8e186"
            ],
            [
             0.8,
             "#7fbc41"
            ],
            [
             0.9,
             "#4d9221"
            ],
            [
             1,
             "#276419"
            ]
           ],
           "sequential": [
            [
             0,
             "#0d0887"
            ],
            [
             0.1111111111111111,
             "#46039f"
            ],
            [
             0.2222222222222222,
             "#7201a8"
            ],
            [
             0.3333333333333333,
             "#9c179e"
            ],
            [
             0.4444444444444444,
             "#bd3786"
            ],
            [
             0.5555555555555556,
             "#d8576b"
            ],
            [
             0.6666666666666666,
             "#ed7953"
            ],
            [
             0.7777777777777778,
             "#fb9f3a"
            ],
            [
             0.8888888888888888,
             "#fdca26"
            ],
            [
             1,
             "#f0f921"
            ]
           ],
           "sequentialminus": [
            [
             0,
             "#0d0887"
            ],
            [
             0.1111111111111111,
             "#46039f"
            ],
            [
             0.2222222222222222,
             "#7201a8"
            ],
            [
             0.3333333333333333,
             "#9c179e"
            ],
            [
             0.4444444444444444,
             "#bd3786"
            ],
            [
             0.5555555555555556,
             "#d8576b"
            ],
            [
             0.6666666666666666,
             "#ed7953"
            ],
            [
             0.7777777777777778,
             "#fb9f3a"
            ],
            [
             0.8888888888888888,
             "#fdca26"
            ],
            [
             1,
             "#f0f921"
            ]
           ]
          },
          "colorway": [
           "#636efa",
           "#EF553B",
           "#00cc96",
           "#ab63fa",
           "#FFA15A",
           "#19d3f3",
           "#FF6692",
           "#B6E880",
           "#FF97FF",
           "#FECB52"
          ],
          "font": {
           "color": "#2a3f5f"
          },
          "geo": {
           "bgcolor": "white",
           "lakecolor": "white",
           "landcolor": "#E5ECF6",
           "showlakes": true,
           "showland": true,
           "subunitcolor": "white"
          },
          "hoverlabel": {
           "align": "left"
          },
          "hovermode": "closest",
          "mapbox": {
           "style": "light"
          },
          "paper_bgcolor": "white",
          "plot_bgcolor": "#E5ECF6",
          "polar": {
           "angularaxis": {
            "gridcolor": "white",
            "linecolor": "white",
            "ticks": ""
           },
           "bgcolor": "#E5ECF6",
           "radialaxis": {
            "gridcolor": "white",
            "linecolor": "white",
            "ticks": ""
           }
          },
          "scene": {
           "xaxis": {
            "backgroundcolor": "#E5ECF6",
            "gridcolor": "white",
            "gridwidth": 2,
            "linecolor": "white",
            "showbackground": true,
            "ticks": "",
            "zerolinecolor": "white"
           },
           "yaxis": {
            "backgroundcolor": "#E5ECF6",
            "gridcolor": "white",
            "gridwidth": 2,
            "linecolor": "white",
            "showbackground": true,
            "ticks": "",
            "zerolinecolor": "white"
           },
           "zaxis": {
            "backgroundcolor": "#E5ECF6",
            "gridcolor": "white",
            "gridwidth": 2,
            "linecolor": "white",
            "showbackground": true,
            "ticks": "",
            "zerolinecolor": "white"
           }
          },
          "shapedefaults": {
           "line": {
            "color": "#2a3f5f"
           }
          },
          "ternary": {
           "aaxis": {
            "gridcolor": "white",
            "linecolor": "white",
            "ticks": ""
           },
           "baxis": {
            "gridcolor": "white",
            "linecolor": "white",
            "ticks": ""
           },
           "bgcolor": "#E5ECF6",
           "caxis": {
            "gridcolor": "white",
            "linecolor": "white",
            "ticks": ""
           }
          },
          "title": {
           "x": 0.05
          },
          "xaxis": {
           "automargin": true,
           "gridcolor": "white",
           "linecolor": "white",
           "ticks": "",
           "title": {
            "standoff": 15
           },
           "zerolinecolor": "white",
           "zerolinewidth": 2
          },
          "yaxis": {
           "automargin": true,
           "gridcolor": "white",
           "linecolor": "white",
           "ticks": "",
           "title": {
            "standoff": 15
           },
           "zerolinecolor": "white",
           "zerolinewidth": 2
          }
         }
        },
        "title": {
         "text": "Entropy of Destination"
        },
        "xaxis": {
         "anchor": "y",
         "domain": [
          0,
          1
         ],
         "title": {
          "text": "Second"
         }
        },
        "yaxis": {
         "anchor": "x",
         "domain": [
          0,
          1
         ],
         "title": {
          "text": "Entropy"
         }
        }
       }
      }
     },
     "metadata": {},
     "output_type": "display_data"
    }
   ],
   "source": [
    "fig = px.line(destination_entropy,\n",
    "              x='Second', \n",
    "              y=\"multiply\",\n",
    "              title=\"Entropy of Destination\"\n",
    "             )\n",
    "# fig.update_xaxes(range = [-4,4])\n",
    "fig.update_yaxes(title='Entropy')\n",
    "fig.show()"
   ]
  },
  {
   "cell_type": "code",
   "execution_count": 92,
   "metadata": {},
   "outputs": [
    {
     "data": {
      "application/vnd.plotly.v1+json": {
       "config": {
        "plotlyServerURL": "https://plot.ly"
       },
       "data": [
        {
         "hovertemplate": "Second=%{x}<br>total_multiply=%{y}<extra></extra>",
         "legendgroup": "",
         "line": {
          "color": "#636efa",
          "dash": "solid"
         },
         "marker": {
          "symbol": "circle"
         },
         "mode": "lines",
         "name": "",
         "orientation": "v",
         "showlegend": false,
         "type": "scatter",
         "x": [
          1,
          2,
          3,
          4,
          5,
          6,
          7,
          8,
          9,
          10,
          11,
          12,
          13,
          14,
          15,
          16,
          17,
          18,
          19,
          20,
          21,
          22,
          23,
          24,
          25,
          26,
          27,
          28,
          29,
          30,
          31,
          32,
          33,
          34,
          35,
          36,
          37,
          38,
          39,
          40,
          41,
          42,
          43,
          44,
          45,
          46,
          47,
          48,
          49,
          50,
          51,
          52,
          53,
          54,
          55,
          56,
          57,
          58,
          59,
          60,
          61,
          62,
          63,
          64,
          65,
          66,
          67,
          68,
          69,
          70,
          71,
          72,
          73,
          74,
          75,
          76,
          77,
          78,
          79,
          80,
          81,
          82,
          83,
          84,
          85,
          86,
          87,
          88,
          89,
          90,
          91,
          92,
          93,
          94,
          95,
          96,
          97,
          98,
          99,
          100,
          101,
          102,
          103,
          104,
          105,
          106,
          107,
          108,
          109,
          110,
          111,
          112,
          113,
          114,
          115,
          116,
          117,
          118,
          119,
          120,
          121,
          122,
          123,
          124,
          125,
          126,
          127,
          128,
          129,
          130,
          131,
          132,
          133,
          134,
          135,
          136,
          137,
          138,
          139,
          140,
          141,
          142,
          143,
          144,
          145,
          146,
          147,
          148,
          149,
          150
         ],
         "xaxis": "x",
         "y": [
          2.2161,
          2.2931,
          2.2379,
          2.193,
          2.2216,
          2.2209,
          2.2186,
          2.2664,
          2.2847,
          2.1169000000000002,
          2.3133,
          2.2516,
          2.1421,
          2.2744,
          2.1968,
          2.1951,
          2.2843,
          2.2845,
          2.2841,
          2.3386,
          2.2824,
          2.2973,
          2.2755,
          2.2451,
          2.237,
          2.1298,
          2.2044,
          2.8064,
          4.8946,
          5.1791,
          5.124,
          5.1514,
          5.1479,
          5.3172,
          5.087000000000001,
          5.066,
          5.3307,
          5.0362,
          5.3697,
          5.1116,
          5.2065,
          5.5313,
          5.3582,
          5.3015,
          5.1357,
          4.9222,
          5.0835,
          5.3982,
          5.1435,
          5.3738,
          5.4154,
          5.318199999999999,
          5.2847,
          3.2006,
          2.1671,
          2.3653,
          2.2374,
          2.2986,
          2.1169,
          2.2785,
          2.2958,
          2.3407,
          2.3708,
          2.0396,
          2.3047,
          0.3479,
          0.1275,
          0.04,
          0.2051,
          0.2439,
          0.2451,
          0.1664,
          0.2054,
          0.358,
          0.14750000000000002,
          0.256,
          0.3557,
          0.31889999999999996,
          0.15600000000000003,
          0.135,
          0.1489,
          0.3469,
          2.1889,
          2.2506,
          2.3052,
          2.2929,
          2.3572,
          2.2263,
          2.3,
          2.3752,
          2.2381,
          2.1238,
          2.175,
          2.2892,
          2.2677,
          2.259,
          2.1318,
          2.1569,
          2.1219,
          2.1684,
          2.3066999999999998,
          2.1493,
          2.2521,
          2.3027,
          2.2951,
          2.1833,
          2.1878,
          2.2693,
          2.1999,
          2.1889,
          2.0169,
          2.0297,
          2.9889,
          3.2859,
          3.4134,
          3.2047,
          3.2600000000000002,
          3.2043,
          3.1265,
          3.2701000000000002,
          3.1787,
          3.3678,
          3.3228,
          3.178,
          3.2315,
          3.311,
          3.3348999999999998,
          3.2637,
          3.2598000000000003,
          3.1597,
          3.2630000000000003,
          3.4333,
          3.3009,
          3.3278,
          3.2536,
          3.2266,
          3.299,
          3.299,
          3.2525,
          3.2522,
          3.3084000000000002,
          3.1943,
          3.253,
          3.2285999999999997,
          2.4608,
          2.2253,
          2.1833,
          2.4316,
          2.2447,
          2.5178000000000003
         ],
         "yaxis": "y"
        }
       ],
       "layout": {
        "legend": {
         "tracegroupgap": 0
        },
        "template": {
         "data": {
          "bar": [
           {
            "error_x": {
             "color": "#2a3f5f"
            },
            "error_y": {
             "color": "#2a3f5f"
            },
            "marker": {
             "line": {
              "color": "#E5ECF6",
              "width": 0.5
             },
             "pattern": {
              "fillmode": "overlay",
              "size": 10,
              "solidity": 0.2
             }
            },
            "type": "bar"
           }
          ],
          "barpolar": [
           {
            "marker": {
             "line": {
              "color": "#E5ECF6",
              "width": 0.5
             },
             "pattern": {
              "fillmode": "overlay",
              "size": 10,
              "solidity": 0.2
             }
            },
            "type": "barpolar"
           }
          ],
          "carpet": [
           {
            "aaxis": {
             "endlinecolor": "#2a3f5f",
             "gridcolor": "white",
             "linecolor": "white",
             "minorgridcolor": "white",
             "startlinecolor": "#2a3f5f"
            },
            "baxis": {
             "endlinecolor": "#2a3f5f",
             "gridcolor": "white",
             "linecolor": "white",
             "minorgridcolor": "white",
             "startlinecolor": "#2a3f5f"
            },
            "type": "carpet"
           }
          ],
          "choropleth": [
           {
            "colorbar": {
             "outlinewidth": 0,
             "ticks": ""
            },
            "type": "choropleth"
           }
          ],
          "contour": [
           {
            "colorbar": {
             "outlinewidth": 0,
             "ticks": ""
            },
            "colorscale": [
             [
              0,
              "#0d0887"
             ],
             [
              0.1111111111111111,
              "#46039f"
             ],
             [
              0.2222222222222222,
              "#7201a8"
             ],
             [
              0.3333333333333333,
              "#9c179e"
             ],
             [
              0.4444444444444444,
              "#bd3786"
             ],
             [
              0.5555555555555556,
              "#d8576b"
             ],
             [
              0.6666666666666666,
              "#ed7953"
             ],
             [
              0.7777777777777778,
              "#fb9f3a"
             ],
             [
              0.8888888888888888,
              "#fdca26"
             ],
             [
              1,
              "#f0f921"
             ]
            ],
            "type": "contour"
           }
          ],
          "contourcarpet": [
           {
            "colorbar": {
             "outlinewidth": 0,
             "ticks": ""
            },
            "type": "contourcarpet"
           }
          ],
          "heatmap": [
           {
            "colorbar": {
             "outlinewidth": 0,
             "ticks": ""
            },
            "colorscale": [
             [
              0,
              "#0d0887"
             ],
             [
              0.1111111111111111,
              "#46039f"
             ],
             [
              0.2222222222222222,
              "#7201a8"
             ],
             [
              0.3333333333333333,
              "#9c179e"
             ],
             [
              0.4444444444444444,
              "#bd3786"
             ],
             [
              0.5555555555555556,
              "#d8576b"
             ],
             [
              0.6666666666666666,
              "#ed7953"
             ],
             [
              0.7777777777777778,
              "#fb9f3a"
             ],
             [
              0.8888888888888888,
              "#fdca26"
             ],
             [
              1,
              "#f0f921"
             ]
            ],
            "type": "heatmap"
           }
          ],
          "heatmapgl": [
           {
            "colorbar": {
             "outlinewidth": 0,
             "ticks": ""
            },
            "colorscale": [
             [
              0,
              "#0d0887"
             ],
             [
              0.1111111111111111,
              "#46039f"
             ],
             [
              0.2222222222222222,
              "#7201a8"
             ],
             [
              0.3333333333333333,
              "#9c179e"
             ],
             [
              0.4444444444444444,
              "#bd3786"
             ],
             [
              0.5555555555555556,
              "#d8576b"
             ],
             [
              0.6666666666666666,
              "#ed7953"
             ],
             [
              0.7777777777777778,
              "#fb9f3a"
             ],
             [
              0.8888888888888888,
              "#fdca26"
             ],
             [
              1,
              "#f0f921"
             ]
            ],
            "type": "heatmapgl"
           }
          ],
          "histogram": [
           {
            "marker": {
             "pattern": {
              "fillmode": "overlay",
              "size": 10,
              "solidity": 0.2
             }
            },
            "type": "histogram"
           }
          ],
          "histogram2d": [
           {
            "colorbar": {
             "outlinewidth": 0,
             "ticks": ""
            },
            "colorscale": [
             [
              0,
              "#0d0887"
             ],
             [
              0.1111111111111111,
              "#46039f"
             ],
             [
              0.2222222222222222,
              "#7201a8"
             ],
             [
              0.3333333333333333,
              "#9c179e"
             ],
             [
              0.4444444444444444,
              "#bd3786"
             ],
             [
              0.5555555555555556,
              "#d8576b"
             ],
             [
              0.6666666666666666,
              "#ed7953"
             ],
             [
              0.7777777777777778,
              "#fb9f3a"
             ],
             [
              0.8888888888888888,
              "#fdca26"
             ],
             [
              1,
              "#f0f921"
             ]
            ],
            "type": "histogram2d"
           }
          ],
          "histogram2dcontour": [
           {
            "colorbar": {
             "outlinewidth": 0,
             "ticks": ""
            },
            "colorscale": [
             [
              0,
              "#0d0887"
             ],
             [
              0.1111111111111111,
              "#46039f"
             ],
             [
              0.2222222222222222,
              "#7201a8"
             ],
             [
              0.3333333333333333,
              "#9c179e"
             ],
             [
              0.4444444444444444,
              "#bd3786"
             ],
             [
              0.5555555555555556,
              "#d8576b"
             ],
             [
              0.6666666666666666,
              "#ed7953"
             ],
             [
              0.7777777777777778,
              "#fb9f3a"
             ],
             [
              0.8888888888888888,
              "#fdca26"
             ],
             [
              1,
              "#f0f921"
             ]
            ],
            "type": "histogram2dcontour"
           }
          ],
          "mesh3d": [
           {
            "colorbar": {
             "outlinewidth": 0,
             "ticks": ""
            },
            "type": "mesh3d"
           }
          ],
          "parcoords": [
           {
            "line": {
             "colorbar": {
              "outlinewidth": 0,
              "ticks": ""
             }
            },
            "type": "parcoords"
           }
          ],
          "pie": [
           {
            "automargin": true,
            "type": "pie"
           }
          ],
          "scatter": [
           {
            "fillpattern": {
             "fillmode": "overlay",
             "size": 10,
             "solidity": 0.2
            },
            "type": "scatter"
           }
          ],
          "scatter3d": [
           {
            "line": {
             "colorbar": {
              "outlinewidth": 0,
              "ticks": ""
             }
            },
            "marker": {
             "colorbar": {
              "outlinewidth": 0,
              "ticks": ""
             }
            },
            "type": "scatter3d"
           }
          ],
          "scattercarpet": [
           {
            "marker": {
             "colorbar": {
              "outlinewidth": 0,
              "ticks": ""
             }
            },
            "type": "scattercarpet"
           }
          ],
          "scattergeo": [
           {
            "marker": {
             "colorbar": {
              "outlinewidth": 0,
              "ticks": ""
             }
            },
            "type": "scattergeo"
           }
          ],
          "scattergl": [
           {
            "marker": {
             "colorbar": {
              "outlinewidth": 0,
              "ticks": ""
             }
            },
            "type": "scattergl"
           }
          ],
          "scattermapbox": [
           {
            "marker": {
             "colorbar": {
              "outlinewidth": 0,
              "ticks": ""
             }
            },
            "type": "scattermapbox"
           }
          ],
          "scatterpolar": [
           {
            "marker": {
             "colorbar": {
              "outlinewidth": 0,
              "ticks": ""
             }
            },
            "type": "scatterpolar"
           }
          ],
          "scatterpolargl": [
           {
            "marker": {
             "colorbar": {
              "outlinewidth": 0,
              "ticks": ""
             }
            },
            "type": "scatterpolargl"
           }
          ],
          "scatterternary": [
           {
            "marker": {
             "colorbar": {
              "outlinewidth": 0,
              "ticks": ""
             }
            },
            "type": "scatterternary"
           }
          ],
          "surface": [
           {
            "colorbar": {
             "outlinewidth": 0,
             "ticks": ""
            },
            "colorscale": [
             [
              0,
              "#0d0887"
             ],
             [
              0.1111111111111111,
              "#46039f"
             ],
             [
              0.2222222222222222,
              "#7201a8"
             ],
             [
              0.3333333333333333,
              "#9c179e"
             ],
             [
              0.4444444444444444,
              "#bd3786"
             ],
             [
              0.5555555555555556,
              "#d8576b"
             ],
             [
              0.6666666666666666,
              "#ed7953"
             ],
             [
              0.7777777777777778,
              "#fb9f3a"
             ],
             [
              0.8888888888888888,
              "#fdca26"
             ],
             [
              1,
              "#f0f921"
             ]
            ],
            "type": "surface"
           }
          ],
          "table": [
           {
            "cells": {
             "fill": {
              "color": "#EBF0F8"
             },
             "line": {
              "color": "white"
             }
            },
            "header": {
             "fill": {
              "color": "#C8D4E3"
             },
             "line": {
              "color": "white"
             }
            },
            "type": "table"
           }
          ]
         },
         "layout": {
          "annotationdefaults": {
           "arrowcolor": "#2a3f5f",
           "arrowhead": 0,
           "arrowwidth": 1
          },
          "autotypenumbers": "strict",
          "coloraxis": {
           "colorbar": {
            "outlinewidth": 0,
            "ticks": ""
           }
          },
          "colorscale": {
           "diverging": [
            [
             0,
             "#8e0152"
            ],
            [
             0.1,
             "#c51b7d"
            ],
            [
             0.2,
             "#de77ae"
            ],
            [
             0.3,
             "#f1b6da"
            ],
            [
             0.4,
             "#fde0ef"
            ],
            [
             0.5,
             "#f7f7f7"
            ],
            [
             0.6,
             "#e6f5d0"
            ],
            [
             0.7,
             "#b8e186"
            ],
            [
             0.8,
             "#7fbc41"
            ],
            [
             0.9,
             "#4d9221"
            ],
            [
             1,
             "#276419"
            ]
           ],
           "sequential": [
            [
             0,
             "#0d0887"
            ],
            [
             0.1111111111111111,
             "#46039f"
            ],
            [
             0.2222222222222222,
             "#7201a8"
            ],
            [
             0.3333333333333333,
             "#9c179e"
            ],
            [
             0.4444444444444444,
             "#bd3786"
            ],
            [
             0.5555555555555556,
             "#d8576b"
            ],
            [
             0.6666666666666666,
             "#ed7953"
            ],
            [
             0.7777777777777778,
             "#fb9f3a"
            ],
            [
             0.8888888888888888,
             "#fdca26"
            ],
            [
             1,
             "#f0f921"
            ]
           ],
           "sequentialminus": [
            [
             0,
             "#0d0887"
            ],
            [
             0.1111111111111111,
             "#46039f"
            ],
            [
             0.2222222222222222,
             "#7201a8"
            ],
            [
             0.3333333333333333,
             "#9c179e"
            ],
            [
             0.4444444444444444,
             "#bd3786"
            ],
            [
             0.5555555555555556,
             "#d8576b"
            ],
            [
             0.6666666666666666,
             "#ed7953"
            ],
            [
             0.7777777777777778,
             "#fb9f3a"
            ],
            [
             0.8888888888888888,
             "#fdca26"
            ],
            [
             1,
             "#f0f921"
            ]
           ]
          },
          "colorway": [
           "#636efa",
           "#EF553B",
           "#00cc96",
           "#ab63fa",
           "#FFA15A",
           "#19d3f3",
           "#FF6692",
           "#B6E880",
           "#FF97FF",
           "#FECB52"
          ],
          "font": {
           "color": "#2a3f5f"
          },
          "geo": {
           "bgcolor": "white",
           "lakecolor": "white",
           "landcolor": "#E5ECF6",
           "showlakes": true,
           "showland": true,
           "subunitcolor": "white"
          },
          "hoverlabel": {
           "align": "left"
          },
          "hovermode": "closest",
          "mapbox": {
           "style": "light"
          },
          "paper_bgcolor": "white",
          "plot_bgcolor": "#E5ECF6",
          "polar": {
           "angularaxis": {
            "gridcolor": "white",
            "linecolor": "white",
            "ticks": ""
           },
           "bgcolor": "#E5ECF6",
           "radialaxis": {
            "gridcolor": "white",
            "linecolor": "white",
            "ticks": ""
           }
          },
          "scene": {
           "xaxis": {
            "backgroundcolor": "#E5ECF6",
            "gridcolor": "white",
            "gridwidth": 2,
            "linecolor": "white",
            "showbackground": true,
            "ticks": "",
            "zerolinecolor": "white"
           },
           "yaxis": {
            "backgroundcolor": "#E5ECF6",
            "gridcolor": "white",
            "gridwidth": 2,
            "linecolor": "white",
            "showbackground": true,
            "ticks": "",
            "zerolinecolor": "white"
           },
           "zaxis": {
            "backgroundcolor": "#E5ECF6",
            "gridcolor": "white",
            "gridwidth": 2,
            "linecolor": "white",
            "showbackground": true,
            "ticks": "",
            "zerolinecolor": "white"
           }
          },
          "shapedefaults": {
           "line": {
            "color": "#2a3f5f"
           }
          },
          "ternary": {
           "aaxis": {
            "gridcolor": "white",
            "linecolor": "white",
            "ticks": ""
           },
           "baxis": {
            "gridcolor": "white",
            "linecolor": "white",
            "ticks": ""
           },
           "bgcolor": "#E5ECF6",
           "caxis": {
            "gridcolor": "white",
            "linecolor": "white",
            "ticks": ""
           }
          },
          "title": {
           "x": 0.05
          },
          "xaxis": {
           "automargin": true,
           "gridcolor": "white",
           "linecolor": "white",
           "ticks": "",
           "title": {
            "standoff": 15
           },
           "zerolinecolor": "white",
           "zerolinewidth": 2
          },
          "yaxis": {
           "automargin": true,
           "gridcolor": "white",
           "linecolor": "white",
           "ticks": "",
           "title": {
            "standoff": 15
           },
           "zerolinecolor": "white",
           "zerolinewidth": 2
          }
         }
        },
        "title": {
         "text": "Entropy of Destination conditioned on Source Port"
        },
        "xaxis": {
         "anchor": "y",
         "domain": [
          0,
          1
         ],
         "title": {
          "text": "Second"
         }
        },
        "yaxis": {
         "anchor": "x",
         "domain": [
          0,
          1
         ],
         "title": {
          "text": "Entropy"
         }
        }
       }
      }
     },
     "metadata": {},
     "output_type": "display_data"
    }
   ],
   "source": [
    "fig = px.line(dest_src_entropy,\n",
    "              x='Second', \n",
    "              y=\"total_multiply\",\n",
    "              title=\"Entropy of Destination conditioned on Source Port\"\n",
    "             )\n",
    "# fig.update_xaxes(rangemode='tozero')\n",
    "fig.update_yaxes(title='Entropy')\n",
    "fig.show()"
   ]
  },
  {
   "cell_type": "code",
   "execution_count": 93,
   "metadata": {},
   "outputs": [
    {
     "data": {
      "application/vnd.plotly.v1+json": {
       "config": {
        "plotlyServerURL": "https://plot.ly"
       },
       "data": [
        {
         "hovertemplate": "Second=%{x}<br>total_multiply=%{y}<extra></extra>",
         "legendgroup": "",
         "line": {
          "color": "#636efa",
          "dash": "solid"
         },
         "marker": {
          "symbol": "circle"
         },
         "mode": "lines",
         "name": "",
         "orientation": "v",
         "showlegend": false,
         "type": "scatter",
         "x": [
          1,
          2,
          3,
          4,
          5,
          6,
          7,
          8,
          9,
          10,
          11,
          12,
          13,
          14,
          15,
          16,
          17,
          18,
          19,
          20,
          21,
          22,
          23,
          24,
          25,
          26,
          27,
          28,
          29,
          30,
          31,
          32,
          33,
          34,
          35,
          36,
          37,
          38,
          39,
          40,
          41,
          42,
          43,
          44,
          45,
          46,
          47,
          48,
          49,
          50,
          51,
          52,
          53,
          54,
          55,
          56,
          57,
          58,
          59,
          60,
          61,
          62,
          63,
          64,
          65,
          66,
          67,
          68,
          69,
          70,
          71,
          72,
          73,
          74,
          75,
          76,
          77,
          78,
          79,
          80,
          81,
          82,
          83,
          84,
          85,
          86,
          87,
          88,
          89,
          90,
          91,
          92,
          93,
          94,
          95,
          96,
          97,
          98,
          99,
          100,
          101,
          102,
          103,
          104,
          105,
          106,
          107,
          108,
          109,
          110,
          111,
          112,
          113,
          114,
          115,
          116,
          117,
          118,
          119,
          120,
          121,
          122,
          123,
          124,
          125,
          126,
          127,
          128,
          129,
          130,
          131,
          132,
          133,
          134,
          135,
          136,
          137,
          138,
          139,
          140,
          141,
          142,
          143,
          144,
          145,
          146,
          147,
          148,
          149,
          150
         ],
         "xaxis": "x",
         "y": [
          2.316,
          2.4567,
          2.2668,
          2.3015,
          2.1568,
          2.2485,
          2.2788,
          2.294,
          2.3922,
          2.1995,
          2.3132,
          2.3115,
          2.2866,
          2.262,
          2.3213999999999997,
          2.2951,
          2.2196,
          2.2645,
          2.3267,
          2.2585,
          2.27,
          2.4448,
          2.1928,
          2.2576,
          2.2845,
          2.2774,
          2.2044,
          2.6755,
          4.4344,
          4.3615,
          4.2928999999999995,
          4.4639,
          4.393999999999999,
          4.4121999999999995,
          4.3149,
          4.3278,
          4.6293,
          4.0508,
          4.5295,
          4.1951,
          4.2412,
          4.6666,
          4.680400000000001,
          4.4026,
          4.4948,
          4.259,
          4.4328,
          4.359800000000001,
          4.3467,
          4.51,
          4.5483,
          4.5728,
          4.5484,
          3.0363,
          2.2595,
          2.2026,
          2.2974,
          2.2988,
          2.2882,
          2.2385,
          2.1758,
          2.3331999999999997,
          2.3308,
          2.2624,
          2.3045999999999998,
          0.4168,
          0.1275,
          0.4555,
          0.275,
          0.3606,
          0.3152,
          0.23379999999999998,
          0.2756,
          0.4284,
          0.14750000000000002,
          0.23600000000000002,
          0.3557,
          0.45110000000000006,
          0.15600000000000003,
          0.20540000000000003,
          0.1489,
          0.3469,
          2.2849,
          2.2782,
          2.2976,
          2.2929,
          2.4171,
          2.2787,
          2.1924,
          2.4703,
          2.2057,
          2.2286,
          2.2586,
          2.2418,
          2.3201,
          2.3790999999999998,
          2.2821000000000002,
          2.2119,
          2.1895,
          2.3119,
          2.3142,
          2.2095,
          2.2521999999999998,
          2.2141,
          2.1973,
          2.211,
          2.2803,
          2.3293,
          2.36,
          2.2716,
          2.118,
          2.2724,
          0.6607,
          0.9281,
          0.9152,
          0.6276,
          0.5059,
          0.3448,
          0.4722,
          0.38799999999999996,
          0.3163,
          0.3795,
          0.0799,
          0.08750000000000001,
          0.43,
          0.47600000000000003,
          0.5347,
          0.159,
          0.1993,
          0.363,
          0.2138,
          0.02,
          0.10010000000000001,
          0.1597,
          0.2379,
          0.1397,
          0.0799,
          0.0799,
          0.2392,
          0.23829999999999998,
          0.1397,
          0.2583,
          0.298,
          0.1267,
          1.7627000000000002,
          2.2691,
          2.3355,
          2.3214,
          2.3798,
          2.4529
         ],
         "yaxis": "y"
        }
       ],
       "layout": {
        "legend": {
         "tracegroupgap": 0
        },
        "template": {
         "data": {
          "bar": [
           {
            "error_x": {
             "color": "#2a3f5f"
            },
            "error_y": {
             "color": "#2a3f5f"
            },
            "marker": {
             "line": {
              "color": "#E5ECF6",
              "width": 0.5
             },
             "pattern": {
              "fillmode": "overlay",
              "size": 10,
              "solidity": 0.2
             }
            },
            "type": "bar"
           }
          ],
          "barpolar": [
           {
            "marker": {
             "line": {
              "color": "#E5ECF6",
              "width": 0.5
             },
             "pattern": {
              "fillmode": "overlay",
              "size": 10,
              "solidity": 0.2
             }
            },
            "type": "barpolar"
           }
          ],
          "carpet": [
           {
            "aaxis": {
             "endlinecolor": "#2a3f5f",
             "gridcolor": "white",
             "linecolor": "white",
             "minorgridcolor": "white",
             "startlinecolor": "#2a3f5f"
            },
            "baxis": {
             "endlinecolor": "#2a3f5f",
             "gridcolor": "white",
             "linecolor": "white",
             "minorgridcolor": "white",
             "startlinecolor": "#2a3f5f"
            },
            "type": "carpet"
           }
          ],
          "choropleth": [
           {
            "colorbar": {
             "outlinewidth": 0,
             "ticks": ""
            },
            "type": "choropleth"
           }
          ],
          "contour": [
           {
            "colorbar": {
             "outlinewidth": 0,
             "ticks": ""
            },
            "colorscale": [
             [
              0,
              "#0d0887"
             ],
             [
              0.1111111111111111,
              "#46039f"
             ],
             [
              0.2222222222222222,
              "#7201a8"
             ],
             [
              0.3333333333333333,
              "#9c179e"
             ],
             [
              0.4444444444444444,
              "#bd3786"
             ],
             [
              0.5555555555555556,
              "#d8576b"
             ],
             [
              0.6666666666666666,
              "#ed7953"
             ],
             [
              0.7777777777777778,
              "#fb9f3a"
             ],
             [
              0.8888888888888888,
              "#fdca26"
             ],
             [
              1,
              "#f0f921"
             ]
            ],
            "type": "contour"
           }
          ],
          "contourcarpet": [
           {
            "colorbar": {
             "outlinewidth": 0,
             "ticks": ""
            },
            "type": "contourcarpet"
           }
          ],
          "heatmap": [
           {
            "colorbar": {
             "outlinewidth": 0,
             "ticks": ""
            },
            "colorscale": [
             [
              0,
              "#0d0887"
             ],
             [
              0.1111111111111111,
              "#46039f"
             ],
             [
              0.2222222222222222,
              "#7201a8"
             ],
             [
              0.3333333333333333,
              "#9c179e"
             ],
             [
              0.4444444444444444,
              "#bd3786"
             ],
             [
              0.5555555555555556,
              "#d8576b"
             ],
             [
              0.6666666666666666,
              "#ed7953"
             ],
             [
              0.7777777777777778,
              "#fb9f3a"
             ],
             [
              0.8888888888888888,
              "#fdca26"
             ],
             [
              1,
              "#f0f921"
             ]
            ],
            "type": "heatmap"
           }
          ],
          "heatmapgl": [
           {
            "colorbar": {
             "outlinewidth": 0,
             "ticks": ""
            },
            "colorscale": [
             [
              0,
              "#0d0887"
             ],
             [
              0.1111111111111111,
              "#46039f"
             ],
             [
              0.2222222222222222,
              "#7201a8"
             ],
             [
              0.3333333333333333,
              "#9c179e"
             ],
             [
              0.4444444444444444,
              "#bd3786"
             ],
             [
              0.5555555555555556,
              "#d8576b"
             ],
             [
              0.6666666666666666,
              "#ed7953"
             ],
             [
              0.7777777777777778,
              "#fb9f3a"
             ],
             [
              0.8888888888888888,
              "#fdca26"
             ],
             [
              1,
              "#f0f921"
             ]
            ],
            "type": "heatmapgl"
           }
          ],
          "histogram": [
           {
            "marker": {
             "pattern": {
              "fillmode": "overlay",
              "size": 10,
              "solidity": 0.2
             }
            },
            "type": "histogram"
           }
          ],
          "histogram2d": [
           {
            "colorbar": {
             "outlinewidth": 0,
             "ticks": ""
            },
            "colorscale": [
             [
              0,
              "#0d0887"
             ],
             [
              0.1111111111111111,
              "#46039f"
             ],
             [
              0.2222222222222222,
              "#7201a8"
             ],
             [
              0.3333333333333333,
              "#9c179e"
             ],
             [
              0.4444444444444444,
              "#bd3786"
             ],
             [
              0.5555555555555556,
              "#d8576b"
             ],
             [
              0.6666666666666666,
              "#ed7953"
             ],
             [
              0.7777777777777778,
              "#fb9f3a"
             ],
             [
              0.8888888888888888,
              "#fdca26"
             ],
             [
              1,
              "#f0f921"
             ]
            ],
            "type": "histogram2d"
           }
          ],
          "histogram2dcontour": [
           {
            "colorbar": {
             "outlinewidth": 0,
             "ticks": ""
            },
            "colorscale": [
             [
              0,
              "#0d0887"
             ],
             [
              0.1111111111111111,
              "#46039f"
             ],
             [
              0.2222222222222222,
              "#7201a8"
             ],
             [
              0.3333333333333333,
              "#9c179e"
             ],
             [
              0.4444444444444444,
              "#bd3786"
             ],
             [
              0.5555555555555556,
              "#d8576b"
             ],
             [
              0.6666666666666666,
              "#ed7953"
             ],
             [
              0.7777777777777778,
              "#fb9f3a"
             ],
             [
              0.8888888888888888,
              "#fdca26"
             ],
             [
              1,
              "#f0f921"
             ]
            ],
            "type": "histogram2dcontour"
           }
          ],
          "mesh3d": [
           {
            "colorbar": {
             "outlinewidth": 0,
             "ticks": ""
            },
            "type": "mesh3d"
           }
          ],
          "parcoords": [
           {
            "line": {
             "colorbar": {
              "outlinewidth": 0,
              "ticks": ""
             }
            },
            "type": "parcoords"
           }
          ],
          "pie": [
           {
            "automargin": true,
            "type": "pie"
           }
          ],
          "scatter": [
           {
            "fillpattern": {
             "fillmode": "overlay",
             "size": 10,
             "solidity": 0.2
            },
            "type": "scatter"
           }
          ],
          "scatter3d": [
           {
            "line": {
             "colorbar": {
              "outlinewidth": 0,
              "ticks": ""
             }
            },
            "marker": {
             "colorbar": {
              "outlinewidth": 0,
              "ticks": ""
             }
            },
            "type": "scatter3d"
           }
          ],
          "scattercarpet": [
           {
            "marker": {
             "colorbar": {
              "outlinewidth": 0,
              "ticks": ""
             }
            },
            "type": "scattercarpet"
           }
          ],
          "scattergeo": [
           {
            "marker": {
             "colorbar": {
              "outlinewidth": 0,
              "ticks": ""
             }
            },
            "type": "scattergeo"
           }
          ],
          "scattergl": [
           {
            "marker": {
             "colorbar": {
              "outlinewidth": 0,
              "ticks": ""
             }
            },
            "type": "scattergl"
           }
          ],
          "scattermapbox": [
           {
            "marker": {
             "colorbar": {
              "outlinewidth": 0,
              "ticks": ""
             }
            },
            "type": "scattermapbox"
           }
          ],
          "scatterpolar": [
           {
            "marker": {
             "colorbar": {
              "outlinewidth": 0,
              "ticks": ""
             }
            },
            "type": "scatterpolar"
           }
          ],
          "scatterpolargl": [
           {
            "marker": {
             "colorbar": {
              "outlinewidth": 0,
              "ticks": ""
             }
            },
            "type": "scatterpolargl"
           }
          ],
          "scatterternary": [
           {
            "marker": {
             "colorbar": {
              "outlinewidth": 0,
              "ticks": ""
             }
            },
            "type": "scatterternary"
           }
          ],
          "surface": [
           {
            "colorbar": {
             "outlinewidth": 0,
             "ticks": ""
            },
            "colorscale": [
             [
              0,
              "#0d0887"
             ],
             [
              0.1111111111111111,
              "#46039f"
             ],
             [
              0.2222222222222222,
              "#7201a8"
             ],
             [
              0.3333333333333333,
              "#9c179e"
             ],
             [
              0.4444444444444444,
              "#bd3786"
             ],
             [
              0.5555555555555556,
              "#d8576b"
             ],
             [
              0.6666666666666666,
              "#ed7953"
             ],
             [
              0.7777777777777778,
              "#fb9f3a"
             ],
             [
              0.8888888888888888,
              "#fdca26"
             ],
             [
              1,
              "#f0f921"
             ]
            ],
            "type": "surface"
           }
          ],
          "table": [
           {
            "cells": {
             "fill": {
              "color": "#EBF0F8"
             },
             "line": {
              "color": "white"
             }
            },
            "header": {
             "fill": {
              "color": "#C8D4E3"
             },
             "line": {
              "color": "white"
             }
            },
            "type": "table"
           }
          ]
         },
         "layout": {
          "annotationdefaults": {
           "arrowcolor": "#2a3f5f",
           "arrowhead": 0,
           "arrowwidth": 1
          },
          "autotypenumbers": "strict",
          "coloraxis": {
           "colorbar": {
            "outlinewidth": 0,
            "ticks": ""
           }
          },
          "colorscale": {
           "diverging": [
            [
             0,
             "#8e0152"
            ],
            [
             0.1,
             "#c51b7d"
            ],
            [
             0.2,
             "#de77ae"
            ],
            [
             0.3,
             "#f1b6da"
            ],
            [
             0.4,
             "#fde0ef"
            ],
            [
             0.5,
             "#f7f7f7"
            ],
            [
             0.6,
             "#e6f5d0"
            ],
            [
             0.7,
             "#b8e186"
            ],
            [
             0.8,
             "#7fbc41"
            ],
            [
             0.9,
             "#4d9221"
            ],
            [
             1,
             "#276419"
            ]
           ],
           "sequential": [
            [
             0,
             "#0d0887"
            ],
            [
             0.1111111111111111,
             "#46039f"
            ],
            [
             0.2222222222222222,
             "#7201a8"
            ],
            [
             0.3333333333333333,
             "#9c179e"
            ],
            [
             0.4444444444444444,
             "#bd3786"
            ],
            [
             0.5555555555555556,
             "#d8576b"
            ],
            [
             0.6666666666666666,
             "#ed7953"
            ],
            [
             0.7777777777777778,
             "#fb9f3a"
            ],
            [
             0.8888888888888888,
             "#fdca26"
            ],
            [
             1,
             "#f0f921"
            ]
           ],
           "sequentialminus": [
            [
             0,
             "#0d0887"
            ],
            [
             0.1111111111111111,
             "#46039f"
            ],
            [
             0.2222222222222222,
             "#7201a8"
            ],
            [
             0.3333333333333333,
             "#9c179e"
            ],
            [
             0.4444444444444444,
             "#bd3786"
            ],
            [
             0.5555555555555556,
             "#d8576b"
            ],
            [
             0.6666666666666666,
             "#ed7953"
            ],
            [
             0.7777777777777778,
             "#fb9f3a"
            ],
            [
             0.8888888888888888,
             "#fdca26"
            ],
            [
             1,
             "#f0f921"
            ]
           ]
          },
          "colorway": [
           "#636efa",
           "#EF553B",
           "#00cc96",
           "#ab63fa",
           "#FFA15A",
           "#19d3f3",
           "#FF6692",
           "#B6E880",
           "#FF97FF",
           "#FECB52"
          ],
          "font": {
           "color": "#2a3f5f"
          },
          "geo": {
           "bgcolor": "white",
           "lakecolor": "white",
           "landcolor": "#E5ECF6",
           "showlakes": true,
           "showland": true,
           "subunitcolor": "white"
          },
          "hoverlabel": {
           "align": "left"
          },
          "hovermode": "closest",
          "mapbox": {
           "style": "light"
          },
          "paper_bgcolor": "white",
          "plot_bgcolor": "#E5ECF6",
          "polar": {
           "angularaxis": {
            "gridcolor": "white",
            "linecolor": "white",
            "ticks": ""
           },
           "bgcolor": "#E5ECF6",
           "radialaxis": {
            "gridcolor": "white",
            "linecolor": "white",
            "ticks": ""
           }
          },
          "scene": {
           "xaxis": {
            "backgroundcolor": "#E5ECF6",
            "gridcolor": "white",
            "gridwidth": 2,
            "linecolor": "white",
            "showbackground": true,
            "ticks": "",
            "zerolinecolor": "white"
           },
           "yaxis": {
            "backgroundcolor": "#E5ECF6",
            "gridcolor": "white",
            "gridwidth": 2,
            "linecolor": "white",
            "showbackground": true,
            "ticks": "",
            "zerolinecolor": "white"
           },
           "zaxis": {
            "backgroundcolor": "#E5ECF6",
            "gridcolor": "white",
            "gridwidth": 2,
            "linecolor": "white",
            "showbackground": true,
            "ticks": "",
            "zerolinecolor": "white"
           }
          },
          "shapedefaults": {
           "line": {
            "color": "#2a3f5f"
           }
          },
          "ternary": {
           "aaxis": {
            "gridcolor": "white",
            "linecolor": "white",
            "ticks": ""
           },
           "baxis": {
            "gridcolor": "white",
            "linecolor": "white",
            "ticks": ""
           },
           "bgcolor": "#E5ECF6",
           "caxis": {
            "gridcolor": "white",
            "linecolor": "white",
            "ticks": ""
           }
          },
          "title": {
           "x": 0.05
          },
          "xaxis": {
           "automargin": true,
           "gridcolor": "white",
           "linecolor": "white",
           "ticks": "",
           "title": {
            "standoff": 15
           },
           "zerolinecolor": "white",
           "zerolinewidth": 2
          },
          "yaxis": {
           "automargin": true,
           "gridcolor": "white",
           "linecolor": "white",
           "ticks": "",
           "title": {
            "standoff": 15
           },
           "zerolinecolor": "white",
           "zerolinewidth": 2
          }
         }
        },
        "title": {
         "text": "Entropy of Destination conditioned on Packet Length"
        },
        "xaxis": {
         "anchor": "y",
         "domain": [
          0,
          1
         ],
         "title": {
          "text": "Second"
         }
        },
        "yaxis": {
         "anchor": "x",
         "domain": [
          0,
          1
         ],
         "title": {
          "text": "Entropy"
         }
        }
       }
      }
     },
     "metadata": {},
     "output_type": "display_data"
    }
   ],
   "source": [
    "fig = px.line(dest_len_entropy,\n",
    "              x='Second', \n",
    "              y=\"total_multiply\",\n",
    "              title=\"Entropy of Destination conditioned on Packet Length\"\n",
    "             )\n",
    "# fig.update_xaxes(range = [-4,4])\n",
    "fig.update_yaxes(title='Entropy')\n",
    "fig.show()"
   ]
  },
  {
   "cell_type": "code",
   "execution_count": null,
   "metadata": {},
   "outputs": [],
   "source": []
  },
  {
   "cell_type": "code",
   "execution_count": null,
   "metadata": {},
   "outputs": [],
   "source": []
  },
  {
   "cell_type": "code",
   "execution_count": null,
   "metadata": {},
   "outputs": [],
   "source": []
  },
  {
   "cell_type": "code",
   "execution_count": null,
   "metadata": {},
   "outputs": [],
   "source": []
  },
  {
   "cell_type": "code",
   "execution_count": null,
   "metadata": {},
   "outputs": [],
   "source": []
  }
 ],
 "metadata": {
  "kernelspec": {
   "display_name": "Python 3.9.13 ('tqv_sdn')",
   "language": "python",
   "name": "python3"
  },
  "language_info": {
   "codemirror_mode": {
    "name": "ipython",
    "version": 3
   },
   "file_extension": ".py",
   "mimetype": "text/x-python",
   "name": "python",
   "nbconvert_exporter": "python",
   "pygments_lexer": "ipython3",
   "version": "3.9.13"
  },
  "vscode": {
   "interpreter": {
    "hash": "7b2d541a0a21c260f86f9bffa28252ee2ddd8ec8d45a29340fc57e433b219449"
   }
  }
 },
 "nbformat": 4,
 "nbformat_minor": 4
}
